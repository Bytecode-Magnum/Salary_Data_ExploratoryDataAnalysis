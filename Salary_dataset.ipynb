{
 "cells": [
  {
   "cell_type": "markdown",
   "id": "0260f8d8",
   "metadata": {},
   "source": [
    "#### importing the necessary libraries"
   ]
  },
  {
   "cell_type": "code",
   "execution_count": 2,
   "id": "593af430",
   "metadata": {},
   "outputs": [],
   "source": [
    "import numpy as np\n",
    "import pandas as pd\n",
    "df=pd.read_csv('Salary_Data.csv')\n"
   ]
  },
  {
   "cell_type": "code",
   "execution_count": 3,
   "id": "bd34bb0b",
   "metadata": {},
   "outputs": [],
   "source": [
    "pd.set_option('display.float_format','{:.2f}'.format)"
   ]
  },
  {
   "cell_type": "code",
   "execution_count": 4,
   "id": "0577e1dc",
   "metadata": {},
   "outputs": [
    {
     "name": "stdout",
     "output_type": "stream",
     "text": [
      "<class 'pandas.core.frame.DataFrame'>\n",
      "RangeIndex: 6705 entries, 0 to 6704\n",
      "Data columns (total 6 columns):\n",
      " #   Column               Non-Null Count  Dtype  \n",
      "---  ------               --------------  -----  \n",
      " 0   Age                  6703 non-null   float64\n",
      " 1   Gender               6702 non-null   object \n",
      " 2   Education Level      6700 non-null   object \n",
      " 3   Job Title            6701 non-null   object \n",
      " 4   Years of Experience  6700 non-null   float64\n",
      " 5   Salary               6698 non-null   float64\n",
      "dtypes: float64(3), object(3)\n",
      "memory usage: 314.4+ KB\n"
     ]
    }
   ],
   "source": [
    "df.info()"
   ]
  },
  {
   "cell_type": "code",
   "execution_count": 31,
   "id": "04029f99",
   "metadata": {},
   "outputs": [
    {
     "data": {
      "text/html": [
       "<div>\n",
       "<style scoped>\n",
       "    .dataframe tbody tr th:only-of-type {\n",
       "        vertical-align: middle;\n",
       "    }\n",
       "\n",
       "    .dataframe tbody tr th {\n",
       "        vertical-align: top;\n",
       "    }\n",
       "\n",
       "    .dataframe thead th {\n",
       "        text-align: right;\n",
       "    }\n",
       "</style>\n",
       "<table border=\"1\" class=\"dataframe\">\n",
       "  <thead>\n",
       "    <tr style=\"text-align: right;\">\n",
       "      <th></th>\n",
       "      <th>Age</th>\n",
       "      <th>Gender</th>\n",
       "      <th>Education_Level</th>\n",
       "      <th>Job_Title</th>\n",
       "      <th>Experience</th>\n",
       "      <th>Salary</th>\n",
       "    </tr>\n",
       "  </thead>\n",
       "  <tbody>\n",
       "    <tr>\n",
       "      <th>1</th>\n",
       "      <td>28.00</td>\n",
       "      <td>Female</td>\n",
       "      <td>Master's Degree</td>\n",
       "      <td>Data Analyst</td>\n",
       "      <td>3.00</td>\n",
       "      <td>65000.00</td>\n",
       "    </tr>\n",
       "    <tr>\n",
       "      <th>4</th>\n",
       "      <td>52.00</td>\n",
       "      <td>Male</td>\n",
       "      <td>Master's Degree</td>\n",
       "      <td>Director</td>\n",
       "      <td>20.00</td>\n",
       "      <td>200000.00</td>\n",
       "    </tr>\n",
       "    <tr>\n",
       "      <th>7</th>\n",
       "      <td>31.00</td>\n",
       "      <td>Male</td>\n",
       "      <td>Bachelor's Degree</td>\n",
       "      <td>FullStack Developer</td>\n",
       "      <td>4.00</td>\n",
       "      <td>80000.00</td>\n",
       "    </tr>\n",
       "    <tr>\n",
       "      <th>8</th>\n",
       "      <td>26.00</td>\n",
       "      <td>Female</td>\n",
       "      <td>Bachelor's Degree</td>\n",
       "      <td>Marketing Coordinator</td>\n",
       "      <td>1.00</td>\n",
       "      <td>45000.00</td>\n",
       "    </tr>\n",
       "    <tr>\n",
       "      <th>9</th>\n",
       "      <td>38.00</td>\n",
       "      <td>Male</td>\n",
       "      <td>PhD</td>\n",
       "      <td>Senior Scientist</td>\n",
       "      <td>10.00</td>\n",
       "      <td>110000.00</td>\n",
       "    </tr>\n",
       "  </tbody>\n",
       "</table>\n",
       "</div>"
      ],
      "text/plain": [
       "    Age  Gender    Education_Level              Job_Title  Experience  \\\n",
       "1 28.00  Female    Master's Degree           Data Analyst        3.00   \n",
       "4 52.00    Male    Master's Degree               Director       20.00   \n",
       "7 31.00    Male  Bachelor's Degree    FullStack Developer        4.00   \n",
       "8 26.00  Female  Bachelor's Degree  Marketing Coordinator        1.00   \n",
       "9 38.00    Male                PhD       Senior Scientist       10.00   \n",
       "\n",
       "     Salary  \n",
       "1  65000.00  \n",
       "4 200000.00  \n",
       "7  80000.00  \n",
       "8  45000.00  \n",
       "9 110000.00  "
      ]
     },
     "execution_count": 31,
     "metadata": {},
     "output_type": "execute_result"
    }
   ],
   "source": [
    "df.head()"
   ]
  },
  {
   "cell_type": "markdown",
   "id": "89274c22",
   "metadata": {},
   "source": [
    "#### rename the columns"
   ]
  },
  {
   "cell_type": "code",
   "execution_count": 5,
   "id": "24954ad4",
   "metadata": {},
   "outputs": [],
   "source": [
    "df.rename(columns={'Education Level':'Education_Level',\"Job Title\":'Job_Title','Years of Experience':'Experience'},inplace=True)"
   ]
  },
  {
   "cell_type": "markdown",
   "id": "72754732",
   "metadata": {},
   "source": [
    "#### Handling unconsistent education levels"
   ]
  },
  {
   "cell_type": "code",
   "execution_count": 6,
   "id": "d4d41c42",
   "metadata": {},
   "outputs": [],
   "source": [
    "df.Education_Level.value_counts()\n",
    "df.loc[ (df.Education_Level==\"Bachelor's\"),'Education_Level']=\"Bachelor's Degree\"\n",
    "df.loc[ (df.Education_Level==\"Master's\"),'Education_Level']=\"Master's Degree\"\n",
    "df.loc[ (df.Education_Level==\"phD\"),'Education_Level']=\"PhD\""
   ]
  },
  {
   "cell_type": "markdown",
   "id": "19ba9560",
   "metadata": {},
   "source": [
    "#### find the null cols and remove them"
   ]
  },
  {
   "cell_type": "code",
   "execution_count": 7,
   "id": "63ceb93c",
   "metadata": {},
   "outputs": [],
   "source": [
    "df.loc[df.isnull().any(axis=1)]\n",
    "df.dropna(inplace=True)"
   ]
  },
  {
   "cell_type": "markdown",
   "id": "da7df4c3",
   "metadata": {},
   "source": [
    "#### find the duplicate rows and remove them"
   ]
  },
  {
   "cell_type": "code",
   "execution_count": 8,
   "id": "b079e065",
   "metadata": {},
   "outputs": [],
   "source": [
    "df.loc[df.duplicated(keep=False)]\n",
    "df.drop_duplicates(inplace=True)"
   ]
  },
  {
   "cell_type": "markdown",
   "id": "ca06f03a",
   "metadata": {},
   "source": [
    "#### shape of dataframe"
   ]
  },
  {
   "cell_type": "code",
   "execution_count": 9,
   "id": "5a2eec33",
   "metadata": {},
   "outputs": [
    {
     "data": {
      "text/plain": [
       "(1779, 6)"
      ]
     },
     "execution_count": 9,
     "metadata": {},
     "output_type": "execute_result"
    }
   ],
   "source": [
    "df.shape"
   ]
  },
  {
   "cell_type": "markdown",
   "id": "5ca06ac0",
   "metadata": {},
   "source": [
    "#### percentage of different employess with different education level\n"
   ]
  },
  {
   "cell_type": "code",
   "execution_count": 10,
   "id": "73cc774f",
   "metadata": {},
   "outputs": [
    {
     "data": {
      "text/plain": [
       "Education_Level\n",
       "Bachelor's Degree   42.89\n",
       "Master's Degree     31.82\n",
       "PhD                 19.11\n",
       "High School          6.18\n",
       "Name: proportion, dtype: float64"
      ]
     },
     "execution_count": 10,
     "metadata": {},
     "output_type": "execute_result"
    }
   ],
   "source": [
    "df.Education_Level.value_counts(normalize=True)*100"
   ]
  },
  {
   "cell_type": "markdown",
   "id": "f5329fc7",
   "metadata": {},
   "source": [
    "#### Proportion of gender"
   ]
  },
  {
   "cell_type": "code",
   "execution_count": 11,
   "id": "597ad34f",
   "metadata": {},
   "outputs": [
    {
     "data": {
      "text/plain": [
       "Gender\n",
       "Male     54.08\n",
       "Female   45.53\n",
       "Other     0.39\n",
       "Name: proportion, dtype: float64"
      ]
     },
     "execution_count": 11,
     "metadata": {},
     "output_type": "execute_result"
    }
   ],
   "source": [
    "df.Gender.value_counts(normalize=True)*100"
   ]
  },
  {
   "cell_type": "markdown",
   "id": "ee45200e",
   "metadata": {},
   "source": [
    "#### different job profiles "
   ]
  },
  {
   "cell_type": "code",
   "execution_count": 12,
   "id": "2ef5afd8",
   "metadata": {},
   "outputs": [
    {
     "data": {
      "text/plain": [
       "array(['Data Analyst', 'Director', 'FullStack Developer',\n",
       "       'Marketing Coordinator', 'Senior Scientist', 'Software Developer',\n",
       "       'HR Manager', 'Project Manager', 'Customer Service Rep',\n",
       "       'Operations Manager', 'Marketing Manager', 'Senior Engineer',\n",
       "       'Data Entry Clerk', 'Sales Director', 'VP of Operations',\n",
       "       'IT Support', 'Recruiter', 'Financial Manager',\n",
       "       'Social Media Specialist', 'Software Manager', 'Junior Developer',\n",
       "       'Senior Consultant', 'Product Designer', 'CEO', 'Accountant',\n",
       "       'Data Scientist', 'Marketing Specialist', 'Senior Manager',\n",
       "       'Technical Writer', 'HR Generalist', 'Project Engineer',\n",
       "       'Customer Success Rep', 'Sales Executive', 'UX Designer',\n",
       "       'Operations Director', 'Network Engineer',\n",
       "       'Administrative Assistant', 'Strategy Consultant', 'Copywriter',\n",
       "       'Account Manager', 'Director of Marketing', 'Help Desk Analyst',\n",
       "       'Customer Service Manager', 'Business Intelligence Analyst',\n",
       "       'Event Coordinator', 'VP of Finance', 'Graphic Designer',\n",
       "       'Sales Manager', 'UX Researcher', 'Social Media Manager',\n",
       "       'Product Manager', 'Director of Operations', 'Marketing Analyst',\n",
       "       'Senior Data Scientist', 'Junior Accountant',\n",
       "       'Digital Marketing Manager', 'IT Manager',\n",
       "       'Customer Service Representative', 'Business Development Manager',\n",
       "       'Senior Financial Analyst', 'Web Developer', 'Research Director',\n",
       "       'Technical Support Specialist', 'Creative Director',\n",
       "       'Senior Software Engineer', 'Human Resources Director',\n",
       "       'Content Marketing Manager', 'Technical Recruiter',\n",
       "       'Sales Representative', 'Chief Technology Officer',\n",
       "       'Junior Designer', 'Financial Advisor', 'Junior Account Manager',\n",
       "       'Senior Project Manager', 'Principal Scientist', 'Sales Associate',\n",
       "       'Supply Chain Manager', 'Senior Marketing Manager',\n",
       "       'Business Analyst', 'Training Specialist', 'Research Scientist',\n",
       "       'Junior Software Developer', 'Public Relations Manager',\n",
       "       'Operations Analyst', 'Product Marketing Manager',\n",
       "       'Senior HR Manager', 'Junior Web Developer',\n",
       "       'Senior Project Coordinator', 'Chief Data Officer',\n",
       "       'Digital Content Producer', 'IT Support Specialist',\n",
       "       'Senior Marketing Analyst', 'Customer Success Manager',\n",
       "       'Senior Graphic Designer', 'Software Project Manager',\n",
       "       'Supply Chain Analyst', 'Senior Business Analyst',\n",
       "       'Junior Marketing Analyst', 'Office Manager', 'Principal Engineer',\n",
       "       'Junior HR Generalist', 'Senior Product Manager',\n",
       "       'Junior Operations Analyst', 'Senior HR Generalist',\n",
       "       'Sales Operations Manager', 'Senior Software Developer',\n",
       "       'Junior Web Designer', 'Senior Training Specialist',\n",
       "       'Senior Research Scientist', 'Junior Sales Representative',\n",
       "       'Junior Marketing Manager', 'Junior Data Analyst',\n",
       "       'Senior Product Marketing Manager', 'Junior Business Analyst',\n",
       "       'Senior Sales Manager', 'Junior Marketing Specialist',\n",
       "       'Junior Project Manager', 'Senior Accountant', 'Director of Sales',\n",
       "       'Junior Recruiter', 'Senior Business Development Manager',\n",
       "       'Senior Product Designer', 'Junior Customer Support Specialist',\n",
       "       'Senior IT Support Specialist', 'Junior Financial Analyst',\n",
       "       'Senior Operations Manager', 'Director of Human Resources',\n",
       "       'Junior Software Engineer', 'Senior Sales Representative',\n",
       "       'Director of Product Management', 'Junior Copywriter',\n",
       "       'Senior Marketing Coordinator', 'Senior Human Resources Manager',\n",
       "       'Junior Business Development Associate', 'Senior Account Manager',\n",
       "       'Senior Researcher', 'Junior HR Coordinator',\n",
       "       'Director of Finance', 'Junior Marketing Coordinator',\n",
       "       'Junior Data Scientist', 'Senior Operations Analyst',\n",
       "       'Senior Human Resources Coordinator', 'Senior UX Designer',\n",
       "       'Junior Product Manager', 'Senior Marketing Specialist',\n",
       "       'Senior IT Project Manager', 'Senior Quality Assurance Analyst',\n",
       "       'Director of Sales and Marketing', 'Senior Account Executive',\n",
       "       'Director of Business Development', 'Junior Social Media Manager',\n",
       "       'Senior Human Resources Specialist', 'Senior Data Analyst',\n",
       "       'Director of Human Capital', 'Junior Advertising Coordinator',\n",
       "       'Junior UX Designer', 'Senior Marketing Director',\n",
       "       'Senior IT Consultant', 'Senior Financial Advisor',\n",
       "       'Junior Business Operations Analyst',\n",
       "       'Junior Social Media Specialist',\n",
       "       'Senior Product Development Manager', 'Junior Operations Manager',\n",
       "       'Senior Software Architect', 'Junior Research Scientist',\n",
       "       'Senior Financial Manager', 'Senior HR Specialist',\n",
       "       'Senior Data Engineer', 'Junior Operations Coordinator',\n",
       "       'Director of HR', 'Senior Operations Coordinator',\n",
       "       'Junior Financial Advisor', 'Director of Engineering',\n",
       "       'Software Engineer', 'Software Engineer Manager',\n",
       "       'Back end Developer', 'Senior Project Engineer',\n",
       "       'Full Stack Engineer', 'Front end Developer',\n",
       "       'Front End Developer', 'Director of Data Science',\n",
       "       'Human Resources Coordinator', 'Junior Sales Associate',\n",
       "       'Human Resources Manager', 'Juniour HR Generalist',\n",
       "       'Juniour HR Coordinator', 'Financial Analyst',\n",
       "       'Digital Marketing Specialist', 'Receptionist',\n",
       "       'Marketing Director', 'Social Media Man', 'Delivery Driver'],\n",
       "      dtype=object)"
      ]
     },
     "execution_count": 12,
     "metadata": {},
     "output_type": "execute_result"
    }
   ],
   "source": [
    "df.Job_Title.unique()"
   ]
  },
  {
   "cell_type": "markdown",
   "id": "121cc1a1",
   "metadata": {},
   "source": [
    "#### count the number of seniors juniors , directors and other"
   ]
  },
  {
   "cell_type": "code",
   "execution_count": 13,
   "id": "f57867b1",
   "metadata": {},
   "outputs": [
    {
     "data": {
      "text/plain": [
       "{'Junior': 177, 'Senior': 365, 'Director': 82, 'Manager': 472}"
      ]
     },
     "execution_count": 13,
     "metadata": {},
     "output_type": "execute_result"
    }
   ],
   "source": [
    "junior=df[df.Job_Title.str.startswith('Junior')].Job_Title.count()\n",
    "senior=df[df.Job_Title.str.startswith('Senior')].Job_Title.count()\n",
    "director=df[df.Job_Title.str.startswith('Director')].Job_Title.count()\n",
    "manager=df[df.Job_Title.str.endswith('Manager')].Job_Title.count()\n",
    "data={\"Junior\":\n",
    "     junior,\n",
    "     \"Senior\":senior,'Director':director,'Manager':manager}\n",
    "data"
   ]
  },
  {
   "cell_type": "markdown",
   "id": "a36c83f4",
   "metadata": {},
   "source": [
    "#### Group the data by Job Title and display their max salary"
   ]
  },
  {
   "cell_type": "code",
   "execution_count": 14,
   "id": "1276cace",
   "metadata": {},
   "outputs": [
    {
     "data": {
      "text/html": [
       "<div>\n",
       "<style scoped>\n",
       "    .dataframe tbody tr th:only-of-type {\n",
       "        vertical-align: middle;\n",
       "    }\n",
       "\n",
       "    .dataframe tbody tr th {\n",
       "        vertical-align: top;\n",
       "    }\n",
       "\n",
       "    .dataframe thead th {\n",
       "        text-align: right;\n",
       "    }\n",
       "</style>\n",
       "<table border=\"1\" class=\"dataframe\">\n",
       "  <thead>\n",
       "    <tr style=\"text-align: right;\">\n",
       "      <th></th>\n",
       "      <th>Maximum_Salary</th>\n",
       "    </tr>\n",
       "    <tr>\n",
       "      <th>Job_Title</th>\n",
       "      <th></th>\n",
       "    </tr>\n",
       "  </thead>\n",
       "  <tbody>\n",
       "    <tr>\n",
       "      <th>Chief Technology Officer</th>\n",
       "      <td>250000.00</td>\n",
       "    </tr>\n",
       "    <tr>\n",
       "      <th>CEO</th>\n",
       "      <td>250000.00</td>\n",
       "    </tr>\n",
       "    <tr>\n",
       "      <th>Financial Manager</th>\n",
       "      <td>250000.00</td>\n",
       "    </tr>\n",
       "    <tr>\n",
       "      <th>Data Scientist</th>\n",
       "      <td>240000.00</td>\n",
       "    </tr>\n",
       "    <tr>\n",
       "      <th>Marketing Manager</th>\n",
       "      <td>228000.00</td>\n",
       "    </tr>\n",
       "    <tr>\n",
       "      <th>...</th>\n",
       "      <td>...</td>\n",
       "    </tr>\n",
       "    <tr>\n",
       "      <th>Data Entry Clerk</th>\n",
       "      <td>35000.00</td>\n",
       "    </tr>\n",
       "    <tr>\n",
       "      <th>Junior Business Operations Analyst</th>\n",
       "      <td>35000.00</td>\n",
       "    </tr>\n",
       "    <tr>\n",
       "      <th>Juniour HR Coordinator</th>\n",
       "      <td>32000.00</td>\n",
       "    </tr>\n",
       "    <tr>\n",
       "      <th>Delivery Driver</th>\n",
       "      <td>28000.00</td>\n",
       "    </tr>\n",
       "    <tr>\n",
       "      <th>Receptionist</th>\n",
       "      <td>25000.00</td>\n",
       "    </tr>\n",
       "  </tbody>\n",
       "</table>\n",
       "<p>192 rows × 1 columns</p>\n",
       "</div>"
      ],
      "text/plain": [
       "                                    Maximum_Salary\n",
       "Job_Title                                         \n",
       "Chief Technology Officer                 250000.00\n",
       "CEO                                      250000.00\n",
       "Financial Manager                        250000.00\n",
       "Data Scientist                           240000.00\n",
       "Marketing Manager                        228000.00\n",
       "...                                            ...\n",
       "Data Entry Clerk                          35000.00\n",
       "Junior Business Operations Analyst        35000.00\n",
       "Juniour HR Coordinator                    32000.00\n",
       "Delivery Driver                           28000.00\n",
       "Receptionist                              25000.00\n",
       "\n",
       "[192 rows x 1 columns]"
      ]
     },
     "execution_count": 14,
     "metadata": {},
     "output_type": "execute_result"
    }
   ],
   "source": [
    "df.groupby('Job_Title')['Salary'].agg(Maximum_Salary=(max)).sort_values(by='Maximum_Salary',ascending=False)"
   ]
  },
  {
   "cell_type": "markdown",
   "id": "cfcadbc5",
   "metadata": {},
   "source": [
    "#### Row where the salary is maximum"
   ]
  },
  {
   "cell_type": "code",
   "execution_count": 15,
   "id": "dfb048f7",
   "metadata": {},
   "outputs": [
    {
     "data": {
      "text/html": [
       "<div>\n",
       "<style scoped>\n",
       "    .dataframe tbody tr th:only-of-type {\n",
       "        vertical-align: middle;\n",
       "    }\n",
       "\n",
       "    .dataframe tbody tr th {\n",
       "        vertical-align: top;\n",
       "    }\n",
       "\n",
       "    .dataframe thead th {\n",
       "        text-align: right;\n",
       "    }\n",
       "</style>\n",
       "<table border=\"1\" class=\"dataframe\">\n",
       "  <thead>\n",
       "    <tr style=\"text-align: right;\">\n",
       "      <th></th>\n",
       "      <th>Age</th>\n",
       "      <th>Gender</th>\n",
       "      <th>Education_Level</th>\n",
       "      <th>Job_Title</th>\n",
       "      <th>Experience</th>\n",
       "      <th>Salary</th>\n",
       "    </tr>\n",
       "  </thead>\n",
       "  <tbody>\n",
       "    <tr>\n",
       "      <th>5002</th>\n",
       "      <td>45.00</td>\n",
       "      <td>Male</td>\n",
       "      <td>Bachelor's Degree</td>\n",
       "      <td>Financial Manager</td>\n",
       "      <td>21.00</td>\n",
       "      <td>250000.00</td>\n",
       "    </tr>\n",
       "    <tr>\n",
       "      <th>84</th>\n",
       "      <td>52.00</td>\n",
       "      <td>Male</td>\n",
       "      <td>PhD</td>\n",
       "      <td>Chief Technology Officer</td>\n",
       "      <td>24.00</td>\n",
       "      <td>250000.00</td>\n",
       "    </tr>\n",
       "    <tr>\n",
       "      <th>31</th>\n",
       "      <td>50.00</td>\n",
       "      <td>Male</td>\n",
       "      <td>Bachelor's Degree</td>\n",
       "      <td>CEO</td>\n",
       "      <td>25.00</td>\n",
       "      <td>250000.00</td>\n",
       "    </tr>\n",
       "    <tr>\n",
       "      <th>4277</th>\n",
       "      <td>51.00</td>\n",
       "      <td>Male</td>\n",
       "      <td>PhD</td>\n",
       "      <td>Data Scientist</td>\n",
       "      <td>24.00</td>\n",
       "      <td>240000.00</td>\n",
       "    </tr>\n",
       "    <tr>\n",
       "      <th>4398</th>\n",
       "      <td>49.00</td>\n",
       "      <td>Male</td>\n",
       "      <td>Master's Degree</td>\n",
       "      <td>Marketing Manager</td>\n",
       "      <td>23.00</td>\n",
       "      <td>228000.00</td>\n",
       "    </tr>\n",
       "    <tr>\n",
       "      <th>...</th>\n",
       "      <td>...</td>\n",
       "      <td>...</td>\n",
       "      <td>...</td>\n",
       "      <td>...</td>\n",
       "      <td>...</td>\n",
       "      <td>...</td>\n",
       "    </tr>\n",
       "    <tr>\n",
       "      <th>4412</th>\n",
       "      <td>31.00</td>\n",
       "      <td>Female</td>\n",
       "      <td>High School</td>\n",
       "      <td>Junior Sales Associate</td>\n",
       "      <td>1.00</td>\n",
       "      <td>25000.00</td>\n",
       "    </tr>\n",
       "    <tr>\n",
       "      <th>2655</th>\n",
       "      <td>23.00</td>\n",
       "      <td>Male</td>\n",
       "      <td>PhD</td>\n",
       "      <td>Software Engineer Manager</td>\n",
       "      <td>1.00</td>\n",
       "      <td>579.00</td>\n",
       "    </tr>\n",
       "    <tr>\n",
       "      <th>1891</th>\n",
       "      <td>25.00</td>\n",
       "      <td>Female</td>\n",
       "      <td>Bachelor's Degree</td>\n",
       "      <td>Front end Developer</td>\n",
       "      <td>1.00</td>\n",
       "      <td>550.00</td>\n",
       "    </tr>\n",
       "    <tr>\n",
       "      <th>4634</th>\n",
       "      <td>31.00</td>\n",
       "      <td>Female</td>\n",
       "      <td>Bachelor's Degree</td>\n",
       "      <td>Junior HR Coordinator</td>\n",
       "      <td>4.00</td>\n",
       "      <td>500.00</td>\n",
       "    </tr>\n",
       "    <tr>\n",
       "      <th>260</th>\n",
       "      <td>29.00</td>\n",
       "      <td>Male</td>\n",
       "      <td>Bachelor's Degree</td>\n",
       "      <td>Junior Business Operations Analyst</td>\n",
       "      <td>1.50</td>\n",
       "      <td>350.00</td>\n",
       "    </tr>\n",
       "  </tbody>\n",
       "</table>\n",
       "<p>1779 rows × 6 columns</p>\n",
       "</div>"
      ],
      "text/plain": [
       "       Age  Gender    Education_Level                           Job_Title  \\\n",
       "5002 45.00    Male  Bachelor's Degree                   Financial Manager   \n",
       "84   52.00    Male                PhD            Chief Technology Officer   \n",
       "31   50.00    Male  Bachelor's Degree                                 CEO   \n",
       "4277 51.00    Male                PhD                      Data Scientist   \n",
       "4398 49.00    Male    Master's Degree                   Marketing Manager   \n",
       "...    ...     ...                ...                                 ...   \n",
       "4412 31.00  Female        High School              Junior Sales Associate   \n",
       "2655 23.00    Male                PhD           Software Engineer Manager   \n",
       "1891 25.00  Female  Bachelor's Degree                 Front end Developer   \n",
       "4634 31.00  Female  Bachelor's Degree               Junior HR Coordinator   \n",
       "260  29.00    Male  Bachelor's Degree  Junior Business Operations Analyst   \n",
       "\n",
       "      Experience    Salary  \n",
       "5002       21.00 250000.00  \n",
       "84         24.00 250000.00  \n",
       "31         25.00 250000.00  \n",
       "4277       24.00 240000.00  \n",
       "4398       23.00 228000.00  \n",
       "...          ...       ...  \n",
       "4412        1.00  25000.00  \n",
       "2655        1.00    579.00  \n",
       "1891        1.00    550.00  \n",
       "4634        4.00    500.00  \n",
       "260         1.50    350.00  \n",
       "\n",
       "[1779 rows x 6 columns]"
      ]
     },
     "execution_count": 15,
     "metadata": {},
     "output_type": "execute_result"
    }
   ],
   "source": [
    "df.sort_values(by='Salary',ascending=False)\n",
    "# so financial manager has the heighest salary"
   ]
  },
  {
   "cell_type": "markdown",
   "id": "d723d10e",
   "metadata": {},
   "source": [
    "#### Maximum Experience"
   ]
  },
  {
   "cell_type": "code",
   "execution_count": 16,
   "id": "890fa5dd",
   "metadata": {},
   "outputs": [
    {
     "data": {
      "text/html": [
       "<div>\n",
       "<style scoped>\n",
       "    .dataframe tbody tr th:only-of-type {\n",
       "        vertical-align: middle;\n",
       "    }\n",
       "\n",
       "    .dataframe tbody tr th {\n",
       "        vertical-align: top;\n",
       "    }\n",
       "\n",
       "    .dataframe thead th {\n",
       "        text-align: right;\n",
       "    }\n",
       "</style>\n",
       "<table border=\"1\" class=\"dataframe\">\n",
       "  <thead>\n",
       "    <tr style=\"text-align: right;\">\n",
       "      <th></th>\n",
       "      <th>Age</th>\n",
       "      <th>Gender</th>\n",
       "      <th>Education_Level</th>\n",
       "      <th>Job_Title</th>\n",
       "      <th>Experience</th>\n",
       "      <th>Salary</th>\n",
       "    </tr>\n",
       "  </thead>\n",
       "  <tbody>\n",
       "    <tr>\n",
       "      <th>2422</th>\n",
       "      <td>60.00</td>\n",
       "      <td>Female</td>\n",
       "      <td>PhD</td>\n",
       "      <td>Software Engineer Manager</td>\n",
       "      <td>34.00</td>\n",
       "      <td>188651.00</td>\n",
       "    </tr>\n",
       "    <tr>\n",
       "      <th>2402</th>\n",
       "      <td>57.00</td>\n",
       "      <td>Female</td>\n",
       "      <td>PhD</td>\n",
       "      <td>Software Engineer Manager</td>\n",
       "      <td>33.00</td>\n",
       "      <td>191790.00</td>\n",
       "    </tr>\n",
       "    <tr>\n",
       "      <th>2436</th>\n",
       "      <td>57.00</td>\n",
       "      <td>Female</td>\n",
       "      <td>Master's Degree</td>\n",
       "      <td>Full Stack Engineer</td>\n",
       "      <td>33.00</td>\n",
       "      <td>188232.00</td>\n",
       "    </tr>\n",
       "    <tr>\n",
       "      <th>2397</th>\n",
       "      <td>60.00</td>\n",
       "      <td>Female</td>\n",
       "      <td>PhD</td>\n",
       "      <td>Software Engineer Manager</td>\n",
       "      <td>33.00</td>\n",
       "      <td>179180.00</td>\n",
       "    </tr>\n",
       "    <tr>\n",
       "      <th>2821</th>\n",
       "      <td>54.00</td>\n",
       "      <td>Male</td>\n",
       "      <td>Master's Degree</td>\n",
       "      <td>Senior Software Engineer</td>\n",
       "      <td>32.00</td>\n",
       "      <td>195270.00</td>\n",
       "    </tr>\n",
       "    <tr>\n",
       "      <th>...</th>\n",
       "      <td>...</td>\n",
       "      <td>...</td>\n",
       "      <td>...</td>\n",
       "      <td>...</td>\n",
       "      <td>...</td>\n",
       "      <td>...</td>\n",
       "    </tr>\n",
       "    <tr>\n",
       "      <th>3391</th>\n",
       "      <td>22.00</td>\n",
       "      <td>Female</td>\n",
       "      <td>High School</td>\n",
       "      <td>Junior HR Generalist</td>\n",
       "      <td>0.00</td>\n",
       "      <td>40000.00</td>\n",
       "    </tr>\n",
       "    <tr>\n",
       "      <th>2586</th>\n",
       "      <td>23.00</td>\n",
       "      <td>Male</td>\n",
       "      <td>PhD</td>\n",
       "      <td>Software Engineer Manager</td>\n",
       "      <td>0.00</td>\n",
       "      <td>52612.00</td>\n",
       "    </tr>\n",
       "    <tr>\n",
       "      <th>5001</th>\n",
       "      <td>22.00</td>\n",
       "      <td>Female</td>\n",
       "      <td>High School</td>\n",
       "      <td>Sales Associate</td>\n",
       "      <td>0.00</td>\n",
       "      <td>25000.00</td>\n",
       "    </tr>\n",
       "    <tr>\n",
       "      <th>50</th>\n",
       "      <td>25.00</td>\n",
       "      <td>Male</td>\n",
       "      <td>Bachelor's Degree</td>\n",
       "      <td>Help Desk Analyst</td>\n",
       "      <td>0.00</td>\n",
       "      <td>35000.00</td>\n",
       "    </tr>\n",
       "    <tr>\n",
       "      <th>4885</th>\n",
       "      <td>21.00</td>\n",
       "      <td>Female</td>\n",
       "      <td>High School</td>\n",
       "      <td>Junior Sales Representative</td>\n",
       "      <td>0.00</td>\n",
       "      <td>25000.00</td>\n",
       "    </tr>\n",
       "  </tbody>\n",
       "</table>\n",
       "<p>1779 rows × 6 columns</p>\n",
       "</div>"
      ],
      "text/plain": [
       "       Age  Gender    Education_Level                    Job_Title  \\\n",
       "2422 60.00  Female                PhD    Software Engineer Manager   \n",
       "2402 57.00  Female                PhD    Software Engineer Manager   \n",
       "2436 57.00  Female    Master's Degree          Full Stack Engineer   \n",
       "2397 60.00  Female                PhD    Software Engineer Manager   \n",
       "2821 54.00    Male    Master's Degree     Senior Software Engineer   \n",
       "...    ...     ...                ...                          ...   \n",
       "3391 22.00  Female        High School         Junior HR Generalist   \n",
       "2586 23.00    Male                PhD    Software Engineer Manager   \n",
       "5001 22.00  Female        High School              Sales Associate   \n",
       "50   25.00    Male  Bachelor's Degree            Help Desk Analyst   \n",
       "4885 21.00  Female        High School  Junior Sales Representative   \n",
       "\n",
       "      Experience    Salary  \n",
       "2422       34.00 188651.00  \n",
       "2402       33.00 191790.00  \n",
       "2436       33.00 188232.00  \n",
       "2397       33.00 179180.00  \n",
       "2821       32.00 195270.00  \n",
       "...          ...       ...  \n",
       "3391        0.00  40000.00  \n",
       "2586        0.00  52612.00  \n",
       "5001        0.00  25000.00  \n",
       "50          0.00  35000.00  \n",
       "4885        0.00  25000.00  \n",
       "\n",
       "[1779 rows x 6 columns]"
      ]
     },
     "execution_count": 16,
     "metadata": {},
     "output_type": "execute_result"
    }
   ],
   "source": [
    "df.sort_values(by='Experience',ascending=False)"
   ]
  },
  {
   "cell_type": "markdown",
   "id": "48189dcb",
   "metadata": {},
   "source": [
    "#### Mean experience of males vs female"
   ]
  },
  {
   "cell_type": "code",
   "execution_count": 17,
   "id": "668171d9",
   "metadata": {},
   "outputs": [
    {
     "data": {
      "text/html": [
       "<div>\n",
       "<style scoped>\n",
       "    .dataframe tbody tr th:only-of-type {\n",
       "        vertical-align: middle;\n",
       "    }\n",
       "\n",
       "    .dataframe tbody tr th {\n",
       "        vertical-align: top;\n",
       "    }\n",
       "\n",
       "    .dataframe thead th {\n",
       "        text-align: right;\n",
       "    }\n",
       "</style>\n",
       "<table border=\"1\" class=\"dataframe\">\n",
       "  <thead>\n",
       "    <tr style=\"text-align: right;\">\n",
       "      <th></th>\n",
       "      <th>Mean_Experience</th>\n",
       "    </tr>\n",
       "    <tr>\n",
       "      <th>Gender</th>\n",
       "      <th></th>\n",
       "    </tr>\n",
       "  </thead>\n",
       "  <tbody>\n",
       "    <tr>\n",
       "      <th>Female</th>\n",
       "      <td>8.67</td>\n",
       "    </tr>\n",
       "    <tr>\n",
       "      <th>Male</th>\n",
       "      <td>9.53</td>\n",
       "    </tr>\n",
       "    <tr>\n",
       "      <th>Other</th>\n",
       "      <td>16.43</td>\n",
       "    </tr>\n",
       "  </tbody>\n",
       "</table>\n",
       "</div>"
      ],
      "text/plain": [
       "        Mean_Experience\n",
       "Gender                 \n",
       "Female             8.67\n",
       "Male               9.53\n",
       "Other             16.43"
      ]
     },
     "execution_count": 17,
     "metadata": {},
     "output_type": "execute_result"
    }
   ],
   "source": [
    "df.groupby('Gender')['Experience'].agg(Mean_Experience=('mean'))\n",
    "# df.query('Gender==\"Other\"')"
   ]
  },
  {
   "cell_type": "markdown",
   "id": "b2ef1dbf",
   "metadata": {},
   "source": [
    "#### From each gender display their max salary"
   ]
  },
  {
   "cell_type": "code",
   "execution_count": 18,
   "id": "882268f4",
   "metadata": {},
   "outputs": [
    {
     "data": {
      "text/plain": [
       "Gender\n",
       "Female   220000.00\n",
       "Male     250000.00\n",
       "Other    166109.00\n",
       "Name: Salary, dtype: float64"
      ]
     },
     "execution_count": 18,
     "metadata": {},
     "output_type": "execute_result"
    }
   ],
   "source": [
    "df.groupby('Gender')['Salary'].agg(max)"
   ]
  },
  {
   "cell_type": "markdown",
   "id": "bd344af7",
   "metadata": {},
   "source": [
    "#### From each Education_Level category display their max salary and Experience"
   ]
  },
  {
   "cell_type": "code",
   "execution_count": 19,
   "id": "e61c53c1",
   "metadata": {},
   "outputs": [
    {
     "data": {
      "text/html": [
       "<div>\n",
       "<style scoped>\n",
       "    .dataframe tbody tr th:only-of-type {\n",
       "        vertical-align: middle;\n",
       "    }\n",
       "\n",
       "    .dataframe tbody tr th {\n",
       "        vertical-align: top;\n",
       "    }\n",
       "\n",
       "    .dataframe thead th {\n",
       "        text-align: right;\n",
       "    }\n",
       "</style>\n",
       "<table border=\"1\" class=\"dataframe\">\n",
       "  <thead>\n",
       "    <tr style=\"text-align: right;\">\n",
       "      <th></th>\n",
       "      <th>Experience</th>\n",
       "      <th>Salary</th>\n",
       "    </tr>\n",
       "    <tr>\n",
       "      <th>Education_Level</th>\n",
       "      <th></th>\n",
       "      <th></th>\n",
       "    </tr>\n",
       "  </thead>\n",
       "  <tbody>\n",
       "    <tr>\n",
       "      <th>Bachelor's Degree</th>\n",
       "      <td>30.00</td>\n",
       "      <td>250000.00</td>\n",
       "    </tr>\n",
       "    <tr>\n",
       "      <th>High School</th>\n",
       "      <td>31.00</td>\n",
       "      <td>166109.00</td>\n",
       "    </tr>\n",
       "    <tr>\n",
       "      <th>Master's Degree</th>\n",
       "      <td>33.00</td>\n",
       "      <td>228000.00</td>\n",
       "    </tr>\n",
       "    <tr>\n",
       "      <th>PhD</th>\n",
       "      <td>34.00</td>\n",
       "      <td>250000.00</td>\n",
       "    </tr>\n",
       "  </tbody>\n",
       "</table>\n",
       "</div>"
      ],
      "text/plain": [
       "                   Experience    Salary\n",
       "Education_Level                        \n",
       "Bachelor's Degree       30.00 250000.00\n",
       "High School             31.00 166109.00\n",
       "Master's Degree         33.00 228000.00\n",
       "PhD                     34.00 250000.00"
      ]
     },
     "execution_count": 19,
     "metadata": {},
     "output_type": "execute_result"
    }
   ],
   "source": [
    "df.groupby(['Education_Level'])[['Experience','Salary']].agg(max)"
   ]
  },
  {
   "cell_type": "markdown",
   "id": "86e7c6ab",
   "metadata": {},
   "source": [
    "#### How many males and females with Master's degree"
   ]
  },
  {
   "cell_type": "code",
   "execution_count": 20,
   "id": "72a0b1d3",
   "metadata": {},
   "outputs": [
    {
     "data": {
      "text/plain": [
       "Gender\n",
       "Female    310\n",
       "Male      255\n",
       "Other       1\n",
       "Name: count, dtype: int64"
      ]
     },
     "execution_count": 20,
     "metadata": {},
     "output_type": "execute_result"
    }
   ],
   "source": [
    "df[ (df.Education_Level==\"Master's Degree\") ].Gender.value_counts()\n",
    "# so 310 males and 255 female"
   ]
  },
  {
   "cell_type": "markdown",
   "id": "776377ed",
   "metadata": {},
   "source": [
    "#### How many males and females with Bachlor's degree"
   ]
  },
  {
   "cell_type": "code",
   "execution_count": 21,
   "id": "a6010741",
   "metadata": {},
   "outputs": [
    {
     "data": {
      "text/plain": [
       "Gender\n",
       "Male      437\n",
       "Female    326\n",
       "Name: count, dtype: int64"
      ]
     },
     "execution_count": 21,
     "metadata": {},
     "output_type": "execute_result"
    }
   ],
   "source": [
    "df[ (df.Education_Level==\"Bachelor's Degree\") ].Gender.value_counts()\n",
    "# so 437 males and 326\n",
    "#  we can conclude that most bof females prefer choosing master degree after bachlors"
   ]
  },
  {
   "cell_type": "markdown",
   "id": "0d9891f9",
   "metadata": {},
   "source": [
    "#### Job title whose work is some how assosiated with data"
   ]
  },
  {
   "cell_type": "code",
   "execution_count": 22,
   "id": "30b19dba",
   "metadata": {},
   "outputs": [
    {
     "data": {
      "text/plain": [
       "Job_Title\n",
       "Data Scientist              80\n",
       "Data Analyst                51\n",
       "Senior Data Scientist       14\n",
       "Director of Data Science     7\n",
       "Junior Data Analyst          3\n",
       "Senior Data Analyst          3\n",
       "Senior Data Engineer         2\n",
       "Data Entry Clerk             1\n",
       "Chief Data Officer           1\n",
       "Junior Data Scientist        1\n",
       "Name: count, dtype: int64"
      ]
     },
     "execution_count": 22,
     "metadata": {},
     "output_type": "execute_result"
    }
   ],
   "source": [
    "df.loc[df.Job_Title.str.contains('Data')].Job_Title.value_counts()"
   ]
  },
  {
   "cell_type": "markdown",
   "id": "c8eef7cb",
   "metadata": {},
   "source": [
    "#### Different types of roles in marketing branch"
   ]
  },
  {
   "cell_type": "code",
   "execution_count": 23,
   "id": "f2c93096",
   "metadata": {},
   "outputs": [
    {
     "data": {
      "text/plain": [
       "Job_Title\n",
       "Marketing Manager                   55\n",
       "Director of Marketing               27\n",
       "Marketing Coordinator               26\n",
       "Content Marketing Manager           24\n",
       "Senior Product Marketing Manager    17\n",
       "Digital Marketing Manager           15\n",
       "Marketing Analyst                   13\n",
       "Senior Marketing Manager             8\n",
       "Junior Marketing Manager             7\n",
       "Marketing Director                   6\n",
       "Junior Marketing Coordinator         5\n",
       "Senior Marketing Analyst             4\n",
       "Junior Marketing Specialist          4\n",
       "Senior Marketing Coordinator         3\n",
       "Senior Marketing Specialist          3\n",
       "Digital Marketing Specialist         3\n",
       "Junior Marketing Analyst             3\n",
       "Product Marketing Manager            1\n",
       "Marketing Specialist                 1\n",
       "Director of Sales and Marketing      1\n",
       "Senior Marketing Director            1\n",
       "Name: count, dtype: int64"
      ]
     },
     "execution_count": 23,
     "metadata": {},
     "output_type": "execute_result"
    }
   ],
   "source": [
    "df.loc[df.Job_Title.str.contains('Marketing')].Job_Title.value_counts()"
   ]
  },
  {
   "cell_type": "markdown",
   "id": "2e526a6c",
   "metadata": {},
   "source": [
    "#### Differnt types of developers"
   ]
  },
  {
   "cell_type": "code",
   "execution_count": 24,
   "id": "1e89355a",
   "metadata": {},
   "outputs": [
    {
     "data": {
      "text/plain": [
       "Job_Title\n",
       "Back end Developer           81\n",
       "Front end Developer          71\n",
       "Web Developer                34\n",
       "Software Developer           22\n",
       "Junior Web Developer         15\n",
       "Junior Software Developer     8\n",
       "Front End Developer           4\n",
       "Senior Software Developer     3\n",
       "FullStack Developer           1\n",
       "Junior Developer              1\n",
       "Name: count, dtype: int64"
      ]
     },
     "execution_count": 24,
     "metadata": {},
     "output_type": "execute_result"
    }
   ],
   "source": [
    "df.loc[df.Job_Title.str.contains('Developer')].Job_Title.value_counts()"
   ]
  },
  {
   "cell_type": "markdown",
   "id": "06783dcb",
   "metadata": {},
   "source": [
    "#### Maximum and minimum salary of various Education_Level"
   ]
  },
  {
   "cell_type": "code",
   "execution_count": 25,
   "id": "4e99cd13",
   "metadata": {},
   "outputs": [
    {
     "data": {
      "text/html": [
       "<div>\n",
       "<style scoped>\n",
       "    .dataframe tbody tr th:only-of-type {\n",
       "        vertical-align: middle;\n",
       "    }\n",
       "\n",
       "    .dataframe tbody tr th {\n",
       "        vertical-align: top;\n",
       "    }\n",
       "\n",
       "    .dataframe thead th {\n",
       "        text-align: right;\n",
       "    }\n",
       "</style>\n",
       "<table border=\"1\" class=\"dataframe\">\n",
       "  <thead>\n",
       "    <tr style=\"text-align: right;\">\n",
       "      <th></th>\n",
       "      <th>Maximum_Salary</th>\n",
       "      <th>Minimum_Salary</th>\n",
       "    </tr>\n",
       "    <tr>\n",
       "      <th>Education_Level</th>\n",
       "      <th></th>\n",
       "      <th></th>\n",
       "    </tr>\n",
       "  </thead>\n",
       "  <tbody>\n",
       "    <tr>\n",
       "      <th>Bachelor's Degree</th>\n",
       "      <td>250000.00</td>\n",
       "      <td>350.00</td>\n",
       "    </tr>\n",
       "    <tr>\n",
       "      <th>High School</th>\n",
       "      <td>166109.00</td>\n",
       "      <td>25000.00</td>\n",
       "    </tr>\n",
       "    <tr>\n",
       "      <th>Master's Degree</th>\n",
       "      <td>228000.00</td>\n",
       "      <td>32000.00</td>\n",
       "    </tr>\n",
       "    <tr>\n",
       "      <th>PhD</th>\n",
       "      <td>250000.00</td>\n",
       "      <td>579.00</td>\n",
       "    </tr>\n",
       "  </tbody>\n",
       "</table>\n",
       "</div>"
      ],
      "text/plain": [
       "                   Maximum_Salary  Minimum_Salary\n",
       "Education_Level                                  \n",
       "Bachelor's Degree       250000.00          350.00\n",
       "High School             166109.00        25000.00\n",
       "Master's Degree         228000.00        32000.00\n",
       "PhD                     250000.00          579.00"
      ]
     },
     "execution_count": 25,
     "metadata": {},
     "output_type": "execute_result"
    }
   ],
   "source": [
    "df.groupby(['Education_Level'])['Salary'].agg(Maximum_Salary=(max),Minimum_Salary=(min))"
   ]
  },
  {
   "cell_type": "markdown",
   "id": "24894cce",
   "metadata": {},
   "source": [
    "#### with experience of 3-5 years , display the mean salary from various education level categories"
   ]
  },
  {
   "cell_type": "code",
   "execution_count": 26,
   "id": "d861131f",
   "metadata": {},
   "outputs": [
    {
     "data": {
      "text/html": [
       "<div>\n",
       "<style scoped>\n",
       "    .dataframe tbody tr th:only-of-type {\n",
       "        vertical-align: middle;\n",
       "    }\n",
       "\n",
       "    .dataframe tbody tr th {\n",
       "        vertical-align: top;\n",
       "    }\n",
       "\n",
       "    .dataframe thead th {\n",
       "        text-align: right;\n",
       "    }\n",
       "</style>\n",
       "<table border=\"1\" class=\"dataframe\">\n",
       "  <thead>\n",
       "    <tr style=\"text-align: right;\">\n",
       "      <th></th>\n",
       "      <th>Mean_Salary</th>\n",
       "    </tr>\n",
       "    <tr>\n",
       "      <th>Education_Level</th>\n",
       "      <th></th>\n",
       "    </tr>\n",
       "  </thead>\n",
       "  <tbody>\n",
       "    <tr>\n",
       "      <th>Bachelor's Degree</th>\n",
       "      <td>76748.38</td>\n",
       "    </tr>\n",
       "    <tr>\n",
       "      <th>High School</th>\n",
       "      <td>65002.33</td>\n",
       "    </tr>\n",
       "    <tr>\n",
       "      <th>Master's Degree</th>\n",
       "      <td>85674.45</td>\n",
       "    </tr>\n",
       "    <tr>\n",
       "      <th>PhD</th>\n",
       "      <td>55000.00</td>\n",
       "    </tr>\n",
       "  </tbody>\n",
       "</table>\n",
       "</div>"
      ],
      "text/plain": [
       "                   Mean_Salary\n",
       "Education_Level               \n",
       "Bachelor's Degree     76748.38\n",
       "High School           65002.33\n",
       "Master's Degree       85674.45\n",
       "PhD                   55000.00"
      ]
     },
     "execution_count": 26,
     "metadata": {},
     "output_type": "execute_result"
    }
   ],
   "source": [
    "df.query(' 3<Experience<5').groupby('Education_Level')['Salary'].agg(Mean_Salary=('mean'))"
   ]
  },
  {
   "cell_type": "markdown",
   "id": "b1ec2f3c",
   "metadata": {},
   "source": [
    "#### mean salary as a fresher with different educational qualification"
   ]
  },
  {
   "cell_type": "code",
   "execution_count": 27,
   "id": "3b7591c9",
   "metadata": {},
   "outputs": [
    {
     "data": {
      "text/html": [
       "<div>\n",
       "<style scoped>\n",
       "    .dataframe tbody tr th:only-of-type {\n",
       "        vertical-align: middle;\n",
       "    }\n",
       "\n",
       "    .dataframe tbody tr th {\n",
       "        vertical-align: top;\n",
       "    }\n",
       "\n",
       "    .dataframe thead th {\n",
       "        text-align: right;\n",
       "    }\n",
       "</style>\n",
       "<table border=\"1\" class=\"dataframe\">\n",
       "  <thead>\n",
       "    <tr style=\"text-align: right;\">\n",
       "      <th></th>\n",
       "      <th>Mean_Salary</th>\n",
       "    </tr>\n",
       "    <tr>\n",
       "      <th>Education_Level</th>\n",
       "      <th></th>\n",
       "    </tr>\n",
       "  </thead>\n",
       "  <tbody>\n",
       "    <tr>\n",
       "      <th>Bachelor's Degree</th>\n",
       "      <td>40666.00</td>\n",
       "    </tr>\n",
       "    <tr>\n",
       "      <th>High School</th>\n",
       "      <td>29483.20</td>\n",
       "    </tr>\n",
       "    <tr>\n",
       "      <th>Master's Degree</th>\n",
       "      <td>55538.00</td>\n",
       "    </tr>\n",
       "    <tr>\n",
       "      <th>PhD</th>\n",
       "      <td>52695.50</td>\n",
       "    </tr>\n",
       "  </tbody>\n",
       "</table>\n",
       "</div>"
      ],
      "text/plain": [
       "                   Mean_Salary\n",
       "Education_Level               \n",
       "Bachelor's Degree     40666.00\n",
       "High School           29483.20\n",
       "Master's Degree       55538.00\n",
       "PhD                   52695.50"
      ]
     },
     "execution_count": 27,
     "metadata": {},
     "output_type": "execute_result"
    }
   ],
   "source": [
    "df.query('Experience==0').groupby('Education_Level')['Salary'].agg(Mean_Salary=('mean'))"
   ]
  },
  {
   "cell_type": "markdown",
   "id": "8a822883",
   "metadata": {},
   "source": [
    "#### Number of employess in various age ranges"
   ]
  },
  {
   "cell_type": "code",
   "execution_count": 28,
   "id": "a74d0b4f",
   "metadata": {},
   "outputs": [
    {
     "data": {
      "text/plain": [
       "Age\n",
       "(30, 40]    657\n",
       "(20, 30]    637\n",
       "(40, 50]    402\n",
       "(50, 60]     80\n",
       "(60, 70]      3\n",
       "Name: count, dtype: int64"
      ]
     },
     "execution_count": 28,
     "metadata": {},
     "output_type": "execute_result"
    }
   ],
   "source": [
    "bins=[20,30,40,50,60,70]\n",
    "pd.cut(df.Age, bins=bins).value_counts()\n",
    "# so most of the employess are between the age 30-40"
   ]
  },
  {
   "cell_type": "markdown",
   "id": "ba18ebb8",
   "metadata": {},
   "source": [
    "#### Number 0f employess in various Experience ranges"
   ]
  },
  {
   "cell_type": "code",
   "execution_count": 29,
   "id": "705b80fa",
   "metadata": {},
   "outputs": [
    {
     "data": {
      "text/plain": [
       "Experience\n",
       "(0, 5]      655\n",
       "(5, 12]     601\n",
       "(12, 17]    252\n",
       "(17, 22]    171\n",
       "(22, 28]     58\n",
       "(28, 35]     22\n",
       "(35, 40]      0\n",
       "Name: count, dtype: int64"
      ]
     },
     "execution_count": 29,
     "metadata": {},
     "output_type": "execute_result"
    }
   ],
   "source": [
    "data=df.Experience.unique()\n",
    "np.sort(data)\n",
    "bins=[0,5,12,17,22,28,35,40]\n",
    "pd.cut(df.Experience,bins=bins).value_counts()\n",
    "# so most the employess working in the company have experience between 0-5"
   ]
  },
  {
   "cell_type": "markdown",
   "id": "f3eda509",
   "metadata": {},
   "source": [
    "#### Create a pivot table with display the mean experience and salary of male and female with various educational qualification"
   ]
  },
  {
   "cell_type": "code",
   "execution_count": 30,
   "id": "f4ca43e7",
   "metadata": {},
   "outputs": [
    {
     "data": {
      "text/html": [
       "<div>\n",
       "<style scoped>\n",
       "    .dataframe tbody tr th:only-of-type {\n",
       "        vertical-align: middle;\n",
       "    }\n",
       "\n",
       "    .dataframe tbody tr th {\n",
       "        vertical-align: top;\n",
       "    }\n",
       "\n",
       "    .dataframe thead tr th {\n",
       "        text-align: left;\n",
       "    }\n",
       "\n",
       "    .dataframe thead tr:last-of-type th {\n",
       "        text-align: right;\n",
       "    }\n",
       "</style>\n",
       "<table border=\"1\" class=\"dataframe\">\n",
       "  <thead>\n",
       "    <tr>\n",
       "      <th></th>\n",
       "      <th colspan=\"3\" halign=\"left\">Experience</th>\n",
       "      <th colspan=\"3\" halign=\"left\">Salary</th>\n",
       "    </tr>\n",
       "    <tr>\n",
       "      <th>Gender</th>\n",
       "      <th>Female</th>\n",
       "      <th>Male</th>\n",
       "      <th>Other</th>\n",
       "      <th>Female</th>\n",
       "      <th>Male</th>\n",
       "      <th>Other</th>\n",
       "    </tr>\n",
       "    <tr>\n",
       "      <th>Education_Level</th>\n",
       "      <th></th>\n",
       "      <th></th>\n",
       "      <th></th>\n",
       "      <th></th>\n",
       "      <th></th>\n",
       "      <th></th>\n",
       "    </tr>\n",
       "  </thead>\n",
       "  <tbody>\n",
       "    <tr>\n",
       "      <th>Bachelor's Degree</th>\n",
       "      <td>6.25</td>\n",
       "      <td>6.74</td>\n",
       "      <td>Null</td>\n",
       "      <td>84982.25</td>\n",
       "      <td>96053.96</td>\n",
       "      <td>Null</td>\n",
       "    </tr>\n",
       "    <tr>\n",
       "      <th>High School</th>\n",
       "      <td>1.86</td>\n",
       "      <td>2.60</td>\n",
       "      <td>16.83</td>\n",
       "      <td>38380.08</td>\n",
       "      <td>43796.87</td>\n",
       "      <td>119890.00</td>\n",
       "    </tr>\n",
       "    <tr>\n",
       "      <th>Master's Degree</th>\n",
       "      <td>9.61</td>\n",
       "      <td>11.37</td>\n",
       "      <td>14.00</td>\n",
       "      <td>121676.54</td>\n",
       "      <td>134512.60</td>\n",
       "      <td>161393.00</td>\n",
       "    </tr>\n",
       "    <tr>\n",
       "      <th>PhD</th>\n",
       "      <td>15.55</td>\n",
       "      <td>14.67</td>\n",
       "      <td>Null</td>\n",
       "      <td>159728.77</td>\n",
       "      <td>161680.93</td>\n",
       "      <td>Null</td>\n",
       "    </tr>\n",
       "  </tbody>\n",
       "</table>\n",
       "</div>"
      ],
      "text/plain": [
       "                  Experience                Salary                    \n",
       "Gender                Female  Male Other    Female      Male     Other\n",
       "Education_Level                                                       \n",
       "Bachelor's Degree       6.25  6.74  Null  84982.25  96053.96      Null\n",
       "High School             1.86  2.60 16.83  38380.08  43796.87 119890.00\n",
       "Master's Degree         9.61 11.37 14.00 121676.54 134512.60 161393.00\n",
       "PhD                    15.55 14.67  Null 159728.77 161680.93      Null"
      ]
     },
     "execution_count": 30,
     "metadata": {},
     "output_type": "execute_result"
    }
   ],
   "source": [
    "df.pivot_table(index='Education_Level',columns='Gender',values=['Experience','Salary'],aggfunc='mean',fill_value=\"Null\")"
   ]
  }
 ],
 "metadata": {
  "kernelspec": {
   "display_name": "Python 3 (ipykernel)",
   "language": "python",
   "name": "python3"
  },
  "language_info": {
   "codemirror_mode": {
    "name": "ipython",
    "version": 3
   },
   "file_extension": ".py",
   "mimetype": "text/x-python",
   "name": "python",
   "nbconvert_exporter": "python",
   "pygments_lexer": "ipython3",
   "version": "3.10.7"
  }
 },
 "nbformat": 4,
 "nbformat_minor": 5
}
