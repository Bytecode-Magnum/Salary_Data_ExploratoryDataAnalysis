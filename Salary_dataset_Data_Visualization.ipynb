{
 "cells": [
  {
   "cell_type": "markdown",
   "id": "c87c6704",
   "metadata": {},
   "source": [
    "### Salary dataset data visualization"
   ]
  },
  {
   "cell_type": "markdown",
   "id": "86004ced",
   "metadata": {},
   "source": [
    "#### The Project Uses Plotly for data visualization, but github dont render plotly plots, so below is jupyter nb view link"
   ]
  },
  {
   "cell_type": "markdown",
   "id": "8c4dc235",
   "metadata": {},
   "source": [
    "[https://nbviewer.org/github/Bytecode-Magnum/Salary_Data_ExploratoryDataAnalysis/blob/main/Sales_dataset_Data_Visualization.ipynb]\n"
   ]
  },
  {
   "cell_type": "markdown",
   "id": "ee397b01",
   "metadata": {},
   "source": [
    "#### For data visualization we will be using plotly.express"
   ]
  },
  {
   "cell_type": "code",
   "execution_count": 82,
   "id": "b8251089",
   "metadata": {},
   "outputs": [
    {
     "data": {
      "text/html": [
       "<div>\n",
       "<style scoped>\n",
       "    .dataframe tbody tr th:only-of-type {\n",
       "        vertical-align: middle;\n",
       "    }\n",
       "\n",
       "    .dataframe tbody tr th {\n",
       "        vertical-align: top;\n",
       "    }\n",
       "\n",
       "    .dataframe thead th {\n",
       "        text-align: right;\n",
       "    }\n",
       "</style>\n",
       "<table border=\"1\" class=\"dataframe\">\n",
       "  <thead>\n",
       "    <tr style=\"text-align: right;\">\n",
       "      <th></th>\n",
       "      <th>Age</th>\n",
       "      <th>Gender</th>\n",
       "      <th>Education Level</th>\n",
       "      <th>Job Title</th>\n",
       "      <th>Years of Experience</th>\n",
       "      <th>Salary</th>\n",
       "    </tr>\n",
       "  </thead>\n",
       "  <tbody>\n",
       "    <tr>\n",
       "      <th>0</th>\n",
       "      <td>32.00</td>\n",
       "      <td>Male</td>\n",
       "      <td>Bachelor's</td>\n",
       "      <td>Software Engineer</td>\n",
       "      <td>5.00</td>\n",
       "      <td>NaN</td>\n",
       "    </tr>\n",
       "    <tr>\n",
       "      <th>1</th>\n",
       "      <td>28.00</td>\n",
       "      <td>Female</td>\n",
       "      <td>Master's</td>\n",
       "      <td>Data Analyst</td>\n",
       "      <td>3.00</td>\n",
       "      <td>65000.00</td>\n",
       "    </tr>\n",
       "    <tr>\n",
       "      <th>2</th>\n",
       "      <td>45.00</td>\n",
       "      <td>Male</td>\n",
       "      <td>NaN</td>\n",
       "      <td>Senior Manager</td>\n",
       "      <td>15.00</td>\n",
       "      <td>150000.00</td>\n",
       "    </tr>\n",
       "    <tr>\n",
       "      <th>3</th>\n",
       "      <td>36.00</td>\n",
       "      <td>Female</td>\n",
       "      <td>Bachelor's</td>\n",
       "      <td>NaN</td>\n",
       "      <td>7.00</td>\n",
       "      <td>60000.00</td>\n",
       "    </tr>\n",
       "    <tr>\n",
       "      <th>4</th>\n",
       "      <td>52.00</td>\n",
       "      <td>Male</td>\n",
       "      <td>Master's</td>\n",
       "      <td>Director</td>\n",
       "      <td>20.00</td>\n",
       "      <td>200000.00</td>\n",
       "    </tr>\n",
       "  </tbody>\n",
       "</table>\n",
       "</div>"
      ],
      "text/plain": [
       "    Age  Gender Education Level          Job Title  Years of Experience  \\\n",
       "0 32.00    Male      Bachelor's  Software Engineer                 5.00   \n",
       "1 28.00  Female        Master's       Data Analyst                 3.00   \n",
       "2 45.00    Male             NaN     Senior Manager                15.00   \n",
       "3 36.00  Female      Bachelor's                NaN                 7.00   \n",
       "4 52.00    Male        Master's           Director                20.00   \n",
       "\n",
       "     Salary  \n",
       "0       NaN  \n",
       "1  65000.00  \n",
       "2 150000.00  \n",
       "3  60000.00  \n",
       "4 200000.00  "
      ]
     },
     "execution_count": 82,
     "metadata": {},
     "output_type": "execute_result"
    }
   ],
   "source": [
    "import plotly.express as px\n",
    "import matplotlib.pyplot as plt\n",
    "import pandas as pd\n",
    "import seaborn as sns\n",
    "df=pd.read_csv('Salary_Data.csv')\n",
    "pd.set_option('display.float_format','{:.2f}'.format)\n",
    "df.head()"
   ]
  },
  {
   "cell_type": "code",
   "execution_count": 83,
   "id": "4e872354",
   "metadata": {},
   "outputs": [],
   "source": [
    "def cleaning(df1):\n",
    "        df1.rename(columns={'Education Level':'Education_Level',\"Job Title\":'Job_Title','Years of Experience':'Experience'},inplace=True)\n",
    "        df1.Education_Level.value_counts()\n",
    "        df1.loc[ (df.Education_Level==\"Bachelor's\"),'Education_Level']=\"Bachelor's Degree\"\n",
    "        df1.loc[ (df.Education_Level==\"Master's\"),'Education_Level']=\"Master's Degree\"\n",
    "        df1.loc[ (df.Education_Level==\"phD\"),'Education_Level']=\"PhD\"\n",
    "        df1.loc[df.isnull().any(axis=1)]\n",
    "        df1.dropna(inplace=True)\n",
    "        df1.loc[df.duplicated(keep=False)]\n",
    "        df1.drop_duplicates(inplace=True)\n",
    "        return df\n",
    "df=cleaning(df)"
   ]
  },
  {
   "cell_type": "markdown",
   "id": "f60886c8",
   "metadata": {},
   "source": [
    "#### Propertion of female and various with varioys educational qualification"
   ]
  },
  {
   "cell_type": "code",
   "execution_count": 84,
   "id": "9cc34c4a",
   "metadata": {},
   "outputs": [
    {
     "data": {
      "application/vnd.plotly.v1+json": {
       "config": {
        "plotlyServerURL": "https://plot.ly"
       },
       "data": [
        {
         "alignmentgroup": "True",
         "hovertemplate": "variable=Female<br>Education_Level=%{x}<br>value=%{y}<extra></extra>",
         "legendgroup": "Female",
         "marker": {
          "color": "#636efa",
          "pattern": {
           "shape": ""
          }
         },
         "name": "Female",
         "offsetgroup": "Female",
         "orientation": "v",
         "showlegend": true,
         "textposition": "auto",
         "type": "bar",
         "x": [
          "Bachelor's Degree",
          "High School",
          "Master's Degree",
          "PhD"
         ],
         "xaxis": "x",
         "y": [
          326,
          51,
          310,
          123
         ],
         "yaxis": "y"
        },
        {
         "alignmentgroup": "True",
         "hovertemplate": "variable=Male<br>Education_Level=%{x}<br>value=%{y}<extra></extra>",
         "legendgroup": "Male",
         "marker": {
          "color": "#EF553B",
          "pattern": {
           "shape": ""
          }
         },
         "name": "Male",
         "offsetgroup": "Male",
         "orientation": "v",
         "showlegend": true,
         "textposition": "auto",
         "type": "bar",
         "x": [
          "Bachelor's Degree",
          "High School",
          "Master's Degree",
          "PhD"
         ],
         "xaxis": "x",
         "y": [
          437,
          53,
          255,
          217
         ],
         "yaxis": "y"
        },
        {
         "alignmentgroup": "True",
         "hovertemplate": "variable=Other<br>Education_Level=%{x}<br>value=%{y}<extra></extra>",
         "legendgroup": "Other",
         "marker": {
          "color": "#00cc96",
          "pattern": {
           "shape": ""
          }
         },
         "name": "Other",
         "offsetgroup": "Other",
         "orientation": "v",
         "showlegend": true,
         "textposition": "auto",
         "type": "bar",
         "x": [
          "Bachelor's Degree",
          "High School",
          "Master's Degree",
          "PhD"
         ],
         "xaxis": "x",
         "y": [
          0,
          6,
          1,
          0
         ],
         "yaxis": "y"
        }
       ],
       "layout": {
        "barmode": "group",
        "legend": {
         "title": {
          "text": "variable"
         },
         "tracegroupgap": 0
        },
        "template": {
         "data": {
          "bar": [
           {
            "error_x": {
             "color": "#2a3f5f"
            },
            "error_y": {
             "color": "#2a3f5f"
            },
            "marker": {
             "line": {
              "color": "#E5ECF6",
              "width": 0.5
             },
             "pattern": {
              "fillmode": "overlay",
              "size": 10,
              "solidity": 0.2
             }
            },
            "type": "bar"
           }
          ],
          "barpolar": [
           {
            "marker": {
             "line": {
              "color": "#E5ECF6",
              "width": 0.5
             },
             "pattern": {
              "fillmode": "overlay",
              "size": 10,
              "solidity": 0.2
             }
            },
            "type": "barpolar"
           }
          ],
          "carpet": [
           {
            "aaxis": {
             "endlinecolor": "#2a3f5f",
             "gridcolor": "white",
             "linecolor": "white",
             "minorgridcolor": "white",
             "startlinecolor": "#2a3f5f"
            },
            "baxis": {
             "endlinecolor": "#2a3f5f",
             "gridcolor": "white",
             "linecolor": "white",
             "minorgridcolor": "white",
             "startlinecolor": "#2a3f5f"
            },
            "type": "carpet"
           }
          ],
          "choropleth": [
           {
            "colorbar": {
             "outlinewidth": 0,
             "ticks": ""
            },
            "type": "choropleth"
           }
          ],
          "contour": [
           {
            "colorbar": {
             "outlinewidth": 0,
             "ticks": ""
            },
            "colorscale": [
             [
              0,
              "#0d0887"
             ],
             [
              0.1111111111111111,
              "#46039f"
             ],
             [
              0.2222222222222222,
              "#7201a8"
             ],
             [
              0.3333333333333333,
              "#9c179e"
             ],
             [
              0.4444444444444444,
              "#bd3786"
             ],
             [
              0.5555555555555556,
              "#d8576b"
             ],
             [
              0.6666666666666666,
              "#ed7953"
             ],
             [
              0.7777777777777778,
              "#fb9f3a"
             ],
             [
              0.8888888888888888,
              "#fdca26"
             ],
             [
              1,
              "#f0f921"
             ]
            ],
            "type": "contour"
           }
          ],
          "contourcarpet": [
           {
            "colorbar": {
             "outlinewidth": 0,
             "ticks": ""
            },
            "type": "contourcarpet"
           }
          ],
          "heatmap": [
           {
            "colorbar": {
             "outlinewidth": 0,
             "ticks": ""
            },
            "colorscale": [
             [
              0,
              "#0d0887"
             ],
             [
              0.1111111111111111,
              "#46039f"
             ],
             [
              0.2222222222222222,
              "#7201a8"
             ],
             [
              0.3333333333333333,
              "#9c179e"
             ],
             [
              0.4444444444444444,
              "#bd3786"
             ],
             [
              0.5555555555555556,
              "#d8576b"
             ],
             [
              0.6666666666666666,
              "#ed7953"
             ],
             [
              0.7777777777777778,
              "#fb9f3a"
             ],
             [
              0.8888888888888888,
              "#fdca26"
             ],
             [
              1,
              "#f0f921"
             ]
            ],
            "type": "heatmap"
           }
          ],
          "heatmapgl": [
           {
            "colorbar": {
             "outlinewidth": 0,
             "ticks": ""
            },
            "colorscale": [
             [
              0,
              "#0d0887"
             ],
             [
              0.1111111111111111,
              "#46039f"
             ],
             [
              0.2222222222222222,
              "#7201a8"
             ],
             [
              0.3333333333333333,
              "#9c179e"
             ],
             [
              0.4444444444444444,
              "#bd3786"
             ],
             [
              0.5555555555555556,
              "#d8576b"
             ],
             [
              0.6666666666666666,
              "#ed7953"
             ],
             [
              0.7777777777777778,
              "#fb9f3a"
             ],
             [
              0.8888888888888888,
              "#fdca26"
             ],
             [
              1,
              "#f0f921"
             ]
            ],
            "type": "heatmapgl"
           }
          ],
          "histogram": [
           {
            "marker": {
             "pattern": {
              "fillmode": "overlay",
              "size": 10,
              "solidity": 0.2
             }
            },
            "type": "histogram"
           }
          ],
          "histogram2d": [
           {
            "colorbar": {
             "outlinewidth": 0,
             "ticks": ""
            },
            "colorscale": [
             [
              0,
              "#0d0887"
             ],
             [
              0.1111111111111111,
              "#46039f"
             ],
             [
              0.2222222222222222,
              "#7201a8"
             ],
             [
              0.3333333333333333,
              "#9c179e"
             ],
             [
              0.4444444444444444,
              "#bd3786"
             ],
             [
              0.5555555555555556,
              "#d8576b"
             ],
             [
              0.6666666666666666,
              "#ed7953"
             ],
             [
              0.7777777777777778,
              "#fb9f3a"
             ],
             [
              0.8888888888888888,
              "#fdca26"
             ],
             [
              1,
              "#f0f921"
             ]
            ],
            "type": "histogram2d"
           }
          ],
          "histogram2dcontour": [
           {
            "colorbar": {
             "outlinewidth": 0,
             "ticks": ""
            },
            "colorscale": [
             [
              0,
              "#0d0887"
             ],
             [
              0.1111111111111111,
              "#46039f"
             ],
             [
              0.2222222222222222,
              "#7201a8"
             ],
             [
              0.3333333333333333,
              "#9c179e"
             ],
             [
              0.4444444444444444,
              "#bd3786"
             ],
             [
              0.5555555555555556,
              "#d8576b"
             ],
             [
              0.6666666666666666,
              "#ed7953"
             ],
             [
              0.7777777777777778,
              "#fb9f3a"
             ],
             [
              0.8888888888888888,
              "#fdca26"
             ],
             [
              1,
              "#f0f921"
             ]
            ],
            "type": "histogram2dcontour"
           }
          ],
          "mesh3d": [
           {
            "colorbar": {
             "outlinewidth": 0,
             "ticks": ""
            },
            "type": "mesh3d"
           }
          ],
          "parcoords": [
           {
            "line": {
             "colorbar": {
              "outlinewidth": 0,
              "ticks": ""
             }
            },
            "type": "parcoords"
           }
          ],
          "pie": [
           {
            "automargin": true,
            "type": "pie"
           }
          ],
          "scatter": [
           {
            "fillpattern": {
             "fillmode": "overlay",
             "size": 10,
             "solidity": 0.2
            },
            "type": "scatter"
           }
          ],
          "scatter3d": [
           {
            "line": {
             "colorbar": {
              "outlinewidth": 0,
              "ticks": ""
             }
            },
            "marker": {
             "colorbar": {
              "outlinewidth": 0,
              "ticks": ""
             }
            },
            "type": "scatter3d"
           }
          ],
          "scattercarpet": [
           {
            "marker": {
             "colorbar": {
              "outlinewidth": 0,
              "ticks": ""
             }
            },
            "type": "scattercarpet"
           }
          ],
          "scattergeo": [
           {
            "marker": {
             "colorbar": {
              "outlinewidth": 0,
              "ticks": ""
             }
            },
            "type": "scattergeo"
           }
          ],
          "scattergl": [
           {
            "marker": {
             "colorbar": {
              "outlinewidth": 0,
              "ticks": ""
             }
            },
            "type": "scattergl"
           }
          ],
          "scattermapbox": [
           {
            "marker": {
             "colorbar": {
              "outlinewidth": 0,
              "ticks": ""
             }
            },
            "type": "scattermapbox"
           }
          ],
          "scatterpolar": [
           {
            "marker": {
             "colorbar": {
              "outlinewidth": 0,
              "ticks": ""
             }
            },
            "type": "scatterpolar"
           }
          ],
          "scatterpolargl": [
           {
            "marker": {
             "colorbar": {
              "outlinewidth": 0,
              "ticks": ""
             }
            },
            "type": "scatterpolargl"
           }
          ],
          "scatterternary": [
           {
            "marker": {
             "colorbar": {
              "outlinewidth": 0,
              "ticks": ""
             }
            },
            "type": "scatterternary"
           }
          ],
          "surface": [
           {
            "colorbar": {
             "outlinewidth": 0,
             "ticks": ""
            },
            "colorscale": [
             [
              0,
              "#0d0887"
             ],
             [
              0.1111111111111111,
              "#46039f"
             ],
             [
              0.2222222222222222,
              "#7201a8"
             ],
             [
              0.3333333333333333,
              "#9c179e"
             ],
             [
              0.4444444444444444,
              "#bd3786"
             ],
             [
              0.5555555555555556,
              "#d8576b"
             ],
             [
              0.6666666666666666,
              "#ed7953"
             ],
             [
              0.7777777777777778,
              "#fb9f3a"
             ],
             [
              0.8888888888888888,
              "#fdca26"
             ],
             [
              1,
              "#f0f921"
             ]
            ],
            "type": "surface"
           }
          ],
          "table": [
           {
            "cells": {
             "fill": {
              "color": "#EBF0F8"
             },
             "line": {
              "color": "white"
             }
            },
            "header": {
             "fill": {
              "color": "#C8D4E3"
             },
             "line": {
              "color": "white"
             }
            },
            "type": "table"
           }
          ]
         },
         "layout": {
          "annotationdefaults": {
           "arrowcolor": "#2a3f5f",
           "arrowhead": 0,
           "arrowwidth": 1
          },
          "autotypenumbers": "strict",
          "coloraxis": {
           "colorbar": {
            "outlinewidth": 0,
            "ticks": ""
           }
          },
          "colorscale": {
           "diverging": [
            [
             0,
             "#8e0152"
            ],
            [
             0.1,
             "#c51b7d"
            ],
            [
             0.2,
             "#de77ae"
            ],
            [
             0.3,
             "#f1b6da"
            ],
            [
             0.4,
             "#fde0ef"
            ],
            [
             0.5,
             "#f7f7f7"
            ],
            [
             0.6,
             "#e6f5d0"
            ],
            [
             0.7,
             "#b8e186"
            ],
            [
             0.8,
             "#7fbc41"
            ],
            [
             0.9,
             "#4d9221"
            ],
            [
             1,
             "#276419"
            ]
           ],
           "sequential": [
            [
             0,
             "#0d0887"
            ],
            [
             0.1111111111111111,
             "#46039f"
            ],
            [
             0.2222222222222222,
             "#7201a8"
            ],
            [
             0.3333333333333333,
             "#9c179e"
            ],
            [
             0.4444444444444444,
             "#bd3786"
            ],
            [
             0.5555555555555556,
             "#d8576b"
            ],
            [
             0.6666666666666666,
             "#ed7953"
            ],
            [
             0.7777777777777778,
             "#fb9f3a"
            ],
            [
             0.8888888888888888,
             "#fdca26"
            ],
            [
             1,
             "#f0f921"
            ]
           ],
           "sequentialminus": [
            [
             0,
             "#0d0887"
            ],
            [
             0.1111111111111111,
             "#46039f"
            ],
            [
             0.2222222222222222,
             "#7201a8"
            ],
            [
             0.3333333333333333,
             "#9c179e"
            ],
            [
             0.4444444444444444,
             "#bd3786"
            ],
            [
             0.5555555555555556,
             "#d8576b"
            ],
            [
             0.6666666666666666,
             "#ed7953"
            ],
            [
             0.7777777777777778,
             "#fb9f3a"
            ],
            [
             0.8888888888888888,
             "#fdca26"
            ],
            [
             1,
             "#f0f921"
            ]
           ]
          },
          "colorway": [
           "#636efa",
           "#EF553B",
           "#00cc96",
           "#ab63fa",
           "#FFA15A",
           "#19d3f3",
           "#FF6692",
           "#B6E880",
           "#FF97FF",
           "#FECB52"
          ],
          "font": {
           "color": "#2a3f5f"
          },
          "geo": {
           "bgcolor": "white",
           "lakecolor": "white",
           "landcolor": "#E5ECF6",
           "showlakes": true,
           "showland": true,
           "subunitcolor": "white"
          },
          "hoverlabel": {
           "align": "left"
          },
          "hovermode": "closest",
          "mapbox": {
           "style": "light"
          },
          "paper_bgcolor": "white",
          "plot_bgcolor": "#E5ECF6",
          "polar": {
           "angularaxis": {
            "gridcolor": "white",
            "linecolor": "white",
            "ticks": ""
           },
           "bgcolor": "#E5ECF6",
           "radialaxis": {
            "gridcolor": "white",
            "linecolor": "white",
            "ticks": ""
           }
          },
          "scene": {
           "xaxis": {
            "backgroundcolor": "#E5ECF6",
            "gridcolor": "white",
            "gridwidth": 2,
            "linecolor": "white",
            "showbackground": true,
            "ticks": "",
            "zerolinecolor": "white"
           },
           "yaxis": {
            "backgroundcolor": "#E5ECF6",
            "gridcolor": "white",
            "gridwidth": 2,
            "linecolor": "white",
            "showbackground": true,
            "ticks": "",
            "zerolinecolor": "white"
           },
           "zaxis": {
            "backgroundcolor": "#E5ECF6",
            "gridcolor": "white",
            "gridwidth": 2,
            "linecolor": "white",
            "showbackground": true,
            "ticks": "",
            "zerolinecolor": "white"
           }
          },
          "shapedefaults": {
           "line": {
            "color": "#2a3f5f"
           }
          },
          "ternary": {
           "aaxis": {
            "gridcolor": "white",
            "linecolor": "white",
            "ticks": ""
           },
           "baxis": {
            "gridcolor": "white",
            "linecolor": "white",
            "ticks": ""
           },
           "bgcolor": "#E5ECF6",
           "caxis": {
            "gridcolor": "white",
            "linecolor": "white",
            "ticks": ""
           }
          },
          "title": {
           "x": 0.05
          },
          "xaxis": {
           "automargin": true,
           "gridcolor": "white",
           "linecolor": "white",
           "ticks": "",
           "title": {
            "standoff": 15
           },
           "zerolinecolor": "white",
           "zerolinewidth": 2
          },
          "yaxis": {
           "automargin": true,
           "gridcolor": "white",
           "linecolor": "white",
           "ticks": "",
           "title": {
            "standoff": 15
           },
           "zerolinecolor": "white",
           "zerolinewidth": 2
          }
         }
        },
        "title": {
         "text": "Propertion of Gender with various educational qualification"
        },
        "xaxis": {
         "anchor": "y",
         "domain": [
          0,
          1
         ],
         "title": {
          "text": "Education_Level"
         }
        },
        "yaxis": {
         "anchor": "x",
         "domain": [
          0,
          1
         ],
         "title": {
          "text": "total"
         }
        }
       }
      },
      "text/html": [
       "<div>                            <div id=\"00369aa4-9fb9-479f-a862-ba32177041c7\" class=\"plotly-graph-div\" style=\"height:525px; width:100%;\"></div>            <script type=\"text/javascript\">                require([\"plotly\"], function(Plotly) {                    window.PLOTLYENV=window.PLOTLYENV || {};                                    if (document.getElementById(\"00369aa4-9fb9-479f-a862-ba32177041c7\")) {                    Plotly.newPlot(                        \"00369aa4-9fb9-479f-a862-ba32177041c7\",                        [{\"alignmentgroup\":\"True\",\"hovertemplate\":\"variable=Female\\u003cbr\\u003eEducation_Level=%{x}\\u003cbr\\u003evalue=%{y}\\u003cextra\\u003e\\u003c\\u002fextra\\u003e\",\"legendgroup\":\"Female\",\"marker\":{\"color\":\"#636efa\",\"pattern\":{\"shape\":\"\"}},\"name\":\"Female\",\"offsetgroup\":\"Female\",\"orientation\":\"v\",\"showlegend\":true,\"textposition\":\"auto\",\"x\":[\"Bachelor's Degree\",\"High School\",\"Master's Degree\",\"PhD\"],\"xaxis\":\"x\",\"y\":[326.0,51.0,310.0,123.0],\"yaxis\":\"y\",\"type\":\"bar\"},{\"alignmentgroup\":\"True\",\"hovertemplate\":\"variable=Male\\u003cbr\\u003eEducation_Level=%{x}\\u003cbr\\u003evalue=%{y}\\u003cextra\\u003e\\u003c\\u002fextra\\u003e\",\"legendgroup\":\"Male\",\"marker\":{\"color\":\"#EF553B\",\"pattern\":{\"shape\":\"\"}},\"name\":\"Male\",\"offsetgroup\":\"Male\",\"orientation\":\"v\",\"showlegend\":true,\"textposition\":\"auto\",\"x\":[\"Bachelor's Degree\",\"High School\",\"Master's Degree\",\"PhD\"],\"xaxis\":\"x\",\"y\":[437.0,53.0,255.0,217.0],\"yaxis\":\"y\",\"type\":\"bar\"},{\"alignmentgroup\":\"True\",\"hovertemplate\":\"variable=Other\\u003cbr\\u003eEducation_Level=%{x}\\u003cbr\\u003evalue=%{y}\\u003cextra\\u003e\\u003c\\u002fextra\\u003e\",\"legendgroup\":\"Other\",\"marker\":{\"color\":\"#00cc96\",\"pattern\":{\"shape\":\"\"}},\"name\":\"Other\",\"offsetgroup\":\"Other\",\"orientation\":\"v\",\"showlegend\":true,\"textposition\":\"auto\",\"x\":[\"Bachelor's Degree\",\"High School\",\"Master's Degree\",\"PhD\"],\"xaxis\":\"x\",\"y\":[0.0,6.0,1.0,0.0],\"yaxis\":\"y\",\"type\":\"bar\"}],                        {\"template\":{\"data\":{\"histogram2dcontour\":[{\"type\":\"histogram2dcontour\",\"colorbar\":{\"outlinewidth\":0,\"ticks\":\"\"},\"colorscale\":[[0.0,\"#0d0887\"],[0.1111111111111111,\"#46039f\"],[0.2222222222222222,\"#7201a8\"],[0.3333333333333333,\"#9c179e\"],[0.4444444444444444,\"#bd3786\"],[0.5555555555555556,\"#d8576b\"],[0.6666666666666666,\"#ed7953\"],[0.7777777777777778,\"#fb9f3a\"],[0.8888888888888888,\"#fdca26\"],[1.0,\"#f0f921\"]]}],\"choropleth\":[{\"type\":\"choropleth\",\"colorbar\":{\"outlinewidth\":0,\"ticks\":\"\"}}],\"histogram2d\":[{\"type\":\"histogram2d\",\"colorbar\":{\"outlinewidth\":0,\"ticks\":\"\"},\"colorscale\":[[0.0,\"#0d0887\"],[0.1111111111111111,\"#46039f\"],[0.2222222222222222,\"#7201a8\"],[0.3333333333333333,\"#9c179e\"],[0.4444444444444444,\"#bd3786\"],[0.5555555555555556,\"#d8576b\"],[0.6666666666666666,\"#ed7953\"],[0.7777777777777778,\"#fb9f3a\"],[0.8888888888888888,\"#fdca26\"],[1.0,\"#f0f921\"]]}],\"heatmap\":[{\"type\":\"heatmap\",\"colorbar\":{\"outlinewidth\":0,\"ticks\":\"\"},\"colorscale\":[[0.0,\"#0d0887\"],[0.1111111111111111,\"#46039f\"],[0.2222222222222222,\"#7201a8\"],[0.3333333333333333,\"#9c179e\"],[0.4444444444444444,\"#bd3786\"],[0.5555555555555556,\"#d8576b\"],[0.6666666666666666,\"#ed7953\"],[0.7777777777777778,\"#fb9f3a\"],[0.8888888888888888,\"#fdca26\"],[1.0,\"#f0f921\"]]}],\"heatmapgl\":[{\"type\":\"heatmapgl\",\"colorbar\":{\"outlinewidth\":0,\"ticks\":\"\"},\"colorscale\":[[0.0,\"#0d0887\"],[0.1111111111111111,\"#46039f\"],[0.2222222222222222,\"#7201a8\"],[0.3333333333333333,\"#9c179e\"],[0.4444444444444444,\"#bd3786\"],[0.5555555555555556,\"#d8576b\"],[0.6666666666666666,\"#ed7953\"],[0.7777777777777778,\"#fb9f3a\"],[0.8888888888888888,\"#fdca26\"],[1.0,\"#f0f921\"]]}],\"contourcarpet\":[{\"type\":\"contourcarpet\",\"colorbar\":{\"outlinewidth\":0,\"ticks\":\"\"}}],\"contour\":[{\"type\":\"contour\",\"colorbar\":{\"outlinewidth\":0,\"ticks\":\"\"},\"colorscale\":[[0.0,\"#0d0887\"],[0.1111111111111111,\"#46039f\"],[0.2222222222222222,\"#7201a8\"],[0.3333333333333333,\"#9c179e\"],[0.4444444444444444,\"#bd3786\"],[0.5555555555555556,\"#d8576b\"],[0.6666666666666666,\"#ed7953\"],[0.7777777777777778,\"#fb9f3a\"],[0.8888888888888888,\"#fdca26\"],[1.0,\"#f0f921\"]]}],\"surface\":[{\"type\":\"surface\",\"colorbar\":{\"outlinewidth\":0,\"ticks\":\"\"},\"colorscale\":[[0.0,\"#0d0887\"],[0.1111111111111111,\"#46039f\"],[0.2222222222222222,\"#7201a8\"],[0.3333333333333333,\"#9c179e\"],[0.4444444444444444,\"#bd3786\"],[0.5555555555555556,\"#d8576b\"],[0.6666666666666666,\"#ed7953\"],[0.7777777777777778,\"#fb9f3a\"],[0.8888888888888888,\"#fdca26\"],[1.0,\"#f0f921\"]]}],\"mesh3d\":[{\"type\":\"mesh3d\",\"colorbar\":{\"outlinewidth\":0,\"ticks\":\"\"}}],\"scatter\":[{\"fillpattern\":{\"fillmode\":\"overlay\",\"size\":10,\"solidity\":0.2},\"type\":\"scatter\"}],\"parcoords\":[{\"type\":\"parcoords\",\"line\":{\"colorbar\":{\"outlinewidth\":0,\"ticks\":\"\"}}}],\"scatterpolargl\":[{\"type\":\"scatterpolargl\",\"marker\":{\"colorbar\":{\"outlinewidth\":0,\"ticks\":\"\"}}}],\"bar\":[{\"error_x\":{\"color\":\"#2a3f5f\"},\"error_y\":{\"color\":\"#2a3f5f\"},\"marker\":{\"line\":{\"color\":\"#E5ECF6\",\"width\":0.5},\"pattern\":{\"fillmode\":\"overlay\",\"size\":10,\"solidity\":0.2}},\"type\":\"bar\"}],\"scattergeo\":[{\"type\":\"scattergeo\",\"marker\":{\"colorbar\":{\"outlinewidth\":0,\"ticks\":\"\"}}}],\"scatterpolar\":[{\"type\":\"scatterpolar\",\"marker\":{\"colorbar\":{\"outlinewidth\":0,\"ticks\":\"\"}}}],\"histogram\":[{\"marker\":{\"pattern\":{\"fillmode\":\"overlay\",\"size\":10,\"solidity\":0.2}},\"type\":\"histogram\"}],\"scattergl\":[{\"type\":\"scattergl\",\"marker\":{\"colorbar\":{\"outlinewidth\":0,\"ticks\":\"\"}}}],\"scatter3d\":[{\"type\":\"scatter3d\",\"line\":{\"colorbar\":{\"outlinewidth\":0,\"ticks\":\"\"}},\"marker\":{\"colorbar\":{\"outlinewidth\":0,\"ticks\":\"\"}}}],\"scattermapbox\":[{\"type\":\"scattermapbox\",\"marker\":{\"colorbar\":{\"outlinewidth\":0,\"ticks\":\"\"}}}],\"scatterternary\":[{\"type\":\"scatterternary\",\"marker\":{\"colorbar\":{\"outlinewidth\":0,\"ticks\":\"\"}}}],\"scattercarpet\":[{\"type\":\"scattercarpet\",\"marker\":{\"colorbar\":{\"outlinewidth\":0,\"ticks\":\"\"}}}],\"carpet\":[{\"aaxis\":{\"endlinecolor\":\"#2a3f5f\",\"gridcolor\":\"white\",\"linecolor\":\"white\",\"minorgridcolor\":\"white\",\"startlinecolor\":\"#2a3f5f\"},\"baxis\":{\"endlinecolor\":\"#2a3f5f\",\"gridcolor\":\"white\",\"linecolor\":\"white\",\"minorgridcolor\":\"white\",\"startlinecolor\":\"#2a3f5f\"},\"type\":\"carpet\"}],\"table\":[{\"cells\":{\"fill\":{\"color\":\"#EBF0F8\"},\"line\":{\"color\":\"white\"}},\"header\":{\"fill\":{\"color\":\"#C8D4E3\"},\"line\":{\"color\":\"white\"}},\"type\":\"table\"}],\"barpolar\":[{\"marker\":{\"line\":{\"color\":\"#E5ECF6\",\"width\":0.5},\"pattern\":{\"fillmode\":\"overlay\",\"size\":10,\"solidity\":0.2}},\"type\":\"barpolar\"}],\"pie\":[{\"automargin\":true,\"type\":\"pie\"}]},\"layout\":{\"autotypenumbers\":\"strict\",\"colorway\":[\"#636efa\",\"#EF553B\",\"#00cc96\",\"#ab63fa\",\"#FFA15A\",\"#19d3f3\",\"#FF6692\",\"#B6E880\",\"#FF97FF\",\"#FECB52\"],\"font\":{\"color\":\"#2a3f5f\"},\"hovermode\":\"closest\",\"hoverlabel\":{\"align\":\"left\"},\"paper_bgcolor\":\"white\",\"plot_bgcolor\":\"#E5ECF6\",\"polar\":{\"bgcolor\":\"#E5ECF6\",\"angularaxis\":{\"gridcolor\":\"white\",\"linecolor\":\"white\",\"ticks\":\"\"},\"radialaxis\":{\"gridcolor\":\"white\",\"linecolor\":\"white\",\"ticks\":\"\"}},\"ternary\":{\"bgcolor\":\"#E5ECF6\",\"aaxis\":{\"gridcolor\":\"white\",\"linecolor\":\"white\",\"ticks\":\"\"},\"baxis\":{\"gridcolor\":\"white\",\"linecolor\":\"white\",\"ticks\":\"\"},\"caxis\":{\"gridcolor\":\"white\",\"linecolor\":\"white\",\"ticks\":\"\"}},\"coloraxis\":{\"colorbar\":{\"outlinewidth\":0,\"ticks\":\"\"}},\"colorscale\":{\"sequential\":[[0.0,\"#0d0887\"],[0.1111111111111111,\"#46039f\"],[0.2222222222222222,\"#7201a8\"],[0.3333333333333333,\"#9c179e\"],[0.4444444444444444,\"#bd3786\"],[0.5555555555555556,\"#d8576b\"],[0.6666666666666666,\"#ed7953\"],[0.7777777777777778,\"#fb9f3a\"],[0.8888888888888888,\"#fdca26\"],[1.0,\"#f0f921\"]],\"sequentialminus\":[[0.0,\"#0d0887\"],[0.1111111111111111,\"#46039f\"],[0.2222222222222222,\"#7201a8\"],[0.3333333333333333,\"#9c179e\"],[0.4444444444444444,\"#bd3786\"],[0.5555555555555556,\"#d8576b\"],[0.6666666666666666,\"#ed7953\"],[0.7777777777777778,\"#fb9f3a\"],[0.8888888888888888,\"#fdca26\"],[1.0,\"#f0f921\"]],\"diverging\":[[0,\"#8e0152\"],[0.1,\"#c51b7d\"],[0.2,\"#de77ae\"],[0.3,\"#f1b6da\"],[0.4,\"#fde0ef\"],[0.5,\"#f7f7f7\"],[0.6,\"#e6f5d0\"],[0.7,\"#b8e186\"],[0.8,\"#7fbc41\"],[0.9,\"#4d9221\"],[1,\"#276419\"]]},\"xaxis\":{\"gridcolor\":\"white\",\"linecolor\":\"white\",\"ticks\":\"\",\"title\":{\"standoff\":15},\"zerolinecolor\":\"white\",\"automargin\":true,\"zerolinewidth\":2},\"yaxis\":{\"gridcolor\":\"white\",\"linecolor\":\"white\",\"ticks\":\"\",\"title\":{\"standoff\":15},\"zerolinecolor\":\"white\",\"automargin\":true,\"zerolinewidth\":2},\"scene\":{\"xaxis\":{\"backgroundcolor\":\"#E5ECF6\",\"gridcolor\":\"white\",\"linecolor\":\"white\",\"showbackground\":true,\"ticks\":\"\",\"zerolinecolor\":\"white\",\"gridwidth\":2},\"yaxis\":{\"backgroundcolor\":\"#E5ECF6\",\"gridcolor\":\"white\",\"linecolor\":\"white\",\"showbackground\":true,\"ticks\":\"\",\"zerolinecolor\":\"white\",\"gridwidth\":2},\"zaxis\":{\"backgroundcolor\":\"#E5ECF6\",\"gridcolor\":\"white\",\"linecolor\":\"white\",\"showbackground\":true,\"ticks\":\"\",\"zerolinecolor\":\"white\",\"gridwidth\":2}},\"shapedefaults\":{\"line\":{\"color\":\"#2a3f5f\"}},\"annotationdefaults\":{\"arrowcolor\":\"#2a3f5f\",\"arrowhead\":0,\"arrowwidth\":1},\"geo\":{\"bgcolor\":\"white\",\"landcolor\":\"#E5ECF6\",\"subunitcolor\":\"white\",\"showland\":true,\"showlakes\":true,\"lakecolor\":\"white\"},\"title\":{\"x\":0.05},\"mapbox\":{\"style\":\"light\"}}},\"xaxis\":{\"anchor\":\"y\",\"domain\":[0.0,1.0],\"title\":{\"text\":\"Education_Level\"}},\"yaxis\":{\"anchor\":\"x\",\"domain\":[0.0,1.0],\"title\":{\"text\":\"total\"}},\"legend\":{\"title\":{\"text\":\"variable\"},\"tracegroupgap\":0},\"title\":{\"text\":\"Propertion of Gender with various educational qualification\"},\"barmode\":\"group\"},                        {\"responsive\": true}                    ).then(function(){\n",
       "                            \n",
       "var gd = document.getElementById('00369aa4-9fb9-479f-a862-ba32177041c7');\n",
       "var x = new MutationObserver(function (mutations, observer) {{\n",
       "        var display = window.getComputedStyle(gd).display;\n",
       "        if (!display || display === 'none') {{\n",
       "            console.log([gd, 'removed!']);\n",
       "            Plotly.purge(gd);\n",
       "            observer.disconnect();\n",
       "        }}\n",
       "}});\n",
       "\n",
       "// Listen for the removal of the full notebook cells\n",
       "var notebookContainer = gd.closest('#notebook-container');\n",
       "if (notebookContainer) {{\n",
       "    x.observe(notebookContainer, {childList: true});\n",
       "}}\n",
       "\n",
       "// Listen for the clearing of the current output cell\n",
       "var outputEl = gd.closest('.output');\n",
       "if (outputEl) {{\n",
       "    x.observe(outputEl, {childList: true});\n",
       "}}\n",
       "\n",
       "                        })                };                });            </script>        </div>"
      ]
     },
     "metadata": {},
     "output_type": "display_data"
    }
   ],
   "source": [
    "i=df.groupby('Education_Level').Gender.value_counts().unstack('Gender').fillna(0)\n",
    "fig=px.bar(i,x=i.index,y=['Female','Male','Other'],title=\"Propertion of Gender with various educational qualification\",barmode='group')\n",
    "fig.add_pointcloud\n",
    "fig.update_yaxes(title='total')\n",
    "fig.show()"
   ]
  },
  {
   "cell_type": "markdown",
   "id": "42e3e415",
   "metadata": {},
   "source": [
    "#### Distribution plot of Salary"
   ]
  },
  {
   "cell_type": "code",
   "execution_count": 85,
   "id": "c99d18e8",
   "metadata": {},
   "outputs": [
    {
     "data": {
      "text/plain": [
       "<seaborn.axisgrid.FacetGrid at 0x20019fc2350>"
      ]
     },
     "execution_count": 85,
     "metadata": {},
     "output_type": "execute_result"
    },
    {
     "data": {
      "image/png": "[encoded data removed]",
      "text/plain": [
       "<Figure size 500x500 with 1 Axes>"
      ]
     },
     "metadata": {},
     "output_type": "display_data"
    }
   ],
   "source": [
    "sns.displot(df['Salary'],kind='kde',fill=True,color='red')"
   ]
  },
  {
   "cell_type": "markdown",
   "id": "7518bd35",
   "metadata": {},
   "source": [
    "#### Dsitribution plot of Age"
   ]
  },
  {
   "cell_type": "code",
   "execution_count": 86,
   "id": "619ece34",
   "metadata": {},
   "outputs": [
    {
     "data": {
      "text/plain": [
       "<seaborn.axisgrid.FacetGrid at 0x2001894f8b0>"
      ]
     },
     "execution_count": 86,
     "metadata": {},
     "output_type": "execute_result"
    },
    {
     "data": {
      "image/png": "[encoded data removed]",
      "text/plain": [
       "<Figure size 500x500 with 1 Axes>"
      ]
     },
     "metadata": {},
     "output_type": "display_data"
    }
   ],
   "source": [
    "sns.displot(df['Age'],kind='kde',fill=True)"
   ]
  },
  {
   "cell_type": "markdown",
   "id": "7dfb5931",
   "metadata": {},
   "source": [
    "#### Comparison in the salary of master's degree holder and bachelor's degree holder`"
   ]
  },
  {
   "cell_type": "code",
   "execution_count": 88,
   "id": "19ceafd0",
   "metadata": {},
   "outputs": [
    {
     "data": {
      "text/plain": [
       "<Axes: xlabel='Salary', ylabel='Density'>"
      ]
     },
     "execution_count": 88,
     "metadata": {},
     "output_type": "execute_result"
    },
    {
     "data": {
      "image/png": "[encoded data removed]",
      "text/plain": [
       "<Figure size 640x480 with 1 Axes>"
      ]
     },
     "metadata": {},
     "output_type": "display_data"
    }
   ],
   "source": [
    "mas=df.loc[df.Education_Level==\"Master's Degree\"]\n",
    "bac=df.loc[df.Education_Level==\"Bachelor's Degree\"]\n",
    "i=pd.concat([mas,bac],axis=0)\n",
    "# plt.show()\n",
    "sns.kdeplot(data=bac['Salary'], label=\"Bachelor's Degree\",fill=True)\n",
    "sns.kdeplot(data=mas['Salary'], label=\"Master's Degree\",fill=True,color='red')\n"
   ]
  },
  {
   "cell_type": "markdown",
   "id": "d61d441d",
   "metadata": {},
   "source": [
    "#### Comparison of sarlary of front end and backend developer with experience of 3-4yr"
   ]
  },
  {
   "cell_type": "code",
   "execution_count": 89,
   "id": "ba0b88bf",
   "metadata": {},
   "outputs": [
    {
     "data": {
      "text/plain": [
       "<Axes: xlabel='Salary', ylabel='Density'>"
      ]
     },
     "execution_count": 89,
     "metadata": {},
     "output_type": "execute_result"
    },
    {
     "data": {
      "image/png": "[encoded data removed]",
      "text/plain": [
       "<Figure size 640x480 with 1 Axes>"
      ]
     },
     "metadata": {},
     "output_type": "display_data"
    }
   ],
   "source": [
    "backend=df.query(' (Job_Title==\"Back end Developer\")  & Experience.between(3,5)')\n",
    "frontend=df.query(' (Job_Title==\"Front end Developer\")  & Experience.between(3,5)')\n",
    "sns.kdeplot(frontend['Salary'],fill=True,color='blue')\n",
    "sns.kdeplot(backend['Salary'],fill=True,color='green')"
   ]
  },
  {
   "cell_type": "markdown",
   "id": "55ab07cc",
   "metadata": {},
   "source": [
    "#### Scatter plot between Salary and Experience"
   ]
  },
  {
   "cell_type": "code",
   "execution_count": 90,
   "id": "006527c2",
   "metadata": {},
   "outputs": [
    {
     "data": {
      "text/plain": [
       "<seaborn.axisgrid.FacetGrid at 0x20018d34070>"
      ]
     },
     "execution_count": 90,
     "metadata": {},
     "output_type": "execute_result"
    },
    {
     "data": {
      "image/png": "[encoded data removed]",
      "text/plain": [
       "<Figure size 500x500 with 1 Axes>"
      ]
     },
     "metadata": {},
     "output_type": "display_data"
    }
   ],
   "source": [
    "data=df.loc[df.Gender=='Female']\n",
    "sns.lmplot(data,x='Salary',y='Experience')"
   ]
  },
  {
   "cell_type": "markdown",
   "id": "6deff9c4",
   "metadata": {},
   "source": [
    "#### Encoding the categorical data"
   ]
  },
  {
   "cell_type": "code",
   "execution_count": 91,
   "id": "cc2cc9b5",
   "metadata": {},
   "outputs": [],
   "source": [
    "Gender_code={'Female':0,'Male':1}\n",
    "df.Gender=df.Gender.map(Gender_code)"
   ]
  },
  {
   "cell_type": "markdown",
   "id": "c0d3db80",
   "metadata": {},
   "source": [
    "#### Variation of experience of qualification"
   ]
  },
  {
   "cell_type": "code",
   "execution_count": 92,
   "id": "9d91921f",
   "metadata": {},
   "outputs": [
    {
     "data": {
      "text/plain": [
       "<seaborn.axisgrid.FacetGrid at 0x20018173ac0>"
      ]
     },
     "execution_count": 92,
     "metadata": {},
     "output_type": "execute_result"
    },
    {
     "data": {
      "image/png": "[encoded data removed]",
      "text/plain": [
       "<Figure size 500x500 with 1 Axes>"
      ]
     },
     "metadata": {},
     "output_type": "display_data"
    }
   ],
   "source": [
    "data=df.loc[df.Education_Level==\"Master's Degree\"]\n",
    "sns.lmplot(data,x='Salary',y='Age')"
   ]
  },
  {
   "cell_type": "code",
   "execution_count": 93,
   "id": "7d4f1574",
   "metadata": {},
   "outputs": [
    {
     "data": {
      "text/plain": [
       "<seaborn.axisgrid.FacetGrid at 0x200175a2b60>"
      ]
     },
     "execution_count": 93,
     "metadata": {},
     "output_type": "execute_result"
    },
    {
     "data": {
      "image/png": "[encoded data removed]",
      "text/plain": [
       "<Figure size 500x500 with 1 Axes>"
      ]
     },
     "metadata": {},
     "output_type": "display_data"
    }
   ],
   "source": [
    "data=df.loc[df.Education_Level==\"Bachelor's Degree\"]\n",
    "sns.lmplot(data,x='Salary',y='Age')"
   ]
  },
  {
   "cell_type": "markdown",
   "id": "45f96090",
   "metadata": {},
   "source": [
    "### Salary vs Education Level"
   ]
  },
  {
   "cell_type": "code",
   "execution_count": 94,
   "id": "93b69fe1",
   "metadata": {},
   "outputs": [
    {
     "data": {
      "text/plain": [
       "<Axes: xlabel='Education_Level', ylabel='Salary'>"
      ]
     },
     "execution_count": 94,
     "metadata": {},
     "output_type": "execute_result"
    },
    {
     "data": {
      "image/png": "[encoded data removed]",
      "text/plain": [
       "<Figure size 640x480 with 1 Axes>"
      ]
     },
     "metadata": {},
     "output_type": "display_data"
    }
   ],
   "source": [
    "sns.barplot(df,x='Education_Level',y='Salary')\n",
    "# so as the degree increases the salary increases"
   ]
  },
  {
   "cell_type": "code",
   "execution_count": 95,
   "id": "a712f123",
   "metadata": {},
   "outputs": [
    {
     "data": {
      "text/plain": [
       "array([\"Master's Degree\", \"Bachelor's Degree\", 'PhD', 'High School'],\n",
       "      dtype=object)"
      ]
     },
     "execution_count": 95,
     "metadata": {},
     "output_type": "execute_result"
    }
   ],
   "source": [
    "df.Education_Level.unique()"
   ]
  },
  {
   "cell_type": "code",
   "execution_count": 96,
   "id": "3f0426d2",
   "metadata": {},
   "outputs": [],
   "source": [
    "education_level_code={'High School':0,\"Bachelor's Degree\":1,\"Master's Degree\":3,'PhD':4}\n",
    "df.Education_Level=df.Education_Level.map(education_level_code)"
   ]
  },
  {
   "cell_type": "markdown",
   "id": "78957bd0",
   "metadata": {},
   "source": [
    "### Salary box plot"
   ]
  },
  {
   "cell_type": "code",
   "execution_count": 97,
   "id": "3f5b985a",
   "metadata": {},
   "outputs": [
    {
     "data": {
      "application/vnd.plotly.v1+json": {
       "config": {
        "plotlyServerURL": "https://plot.ly"
       },
       "data": [
        {
         "alignmentgroup": "True",
         "hovertemplate": "variable=%{x}<br>value=%{y}<extra></extra>",
         "legendgroup": "",
         "marker": {
          "color": "#636efa"
         },
         "name": "",
         "notched": false,
         "offsetgroup": "",
         "orientation": "v",
         "showlegend": false,
         "type": "box",
         "x": [
          "Salary",
          "Salary",
          "Salary",
          "Salary",
          "Salary",
          "Salary",
          "Salary",
          "Salary",
          "Salary",
          "Salary",
          "Salary",
          "Salary",
          "Salary",
          "Salary",
          "Salary",
          "Salary",
          "Salary",
          "Salary",
          "Salary",
          "Salary",
          "Salary",
          "Salary",
          "Salary",
          "Salary",
          "Salary",
          "Salary",
          "Salary",
          "Salary",
          "Salary",
          "Salary",
          "Salary",
          "Salary",
          "Salary",
          "Salary",
          "Salary",
          "Salary",
          "Salary",
          "Salary",
          "Salary",
          "Salary",
          "Salary",
          "Salary",
          "Salary",
          "Salary",
          "Salary",
          "Salary",
          "Salary",
          "Salary",
          "Salary",
          "Salary",
          "Salary",
          "Salary",
          "Salary",
          "Salary",
          "Salary",
          "Salary",
          "Salary",
          "Salary",
          "Salary",
          "Salary",
          "Salary",
          "Salary",
          "Salary",
          "Salary",
          "Salary",
          "Salary",
          "Salary",
          "Salary",
          "Salary",
          "Salary",
          "Salary",
          "Salary",
          "Salary",
          "Salary",
          "Salary",
          "Salary",
          "Salary",
          "Salary",
          "Salary",
          "Salary",
          "Salary",
          "Salary",
          "Salary",
          "Salary",
          "Salary",
          "Salary",
          "Salary",
          "Salary",
          "Salary",
          "Salary",
          "Salary",
          "Salary",
          "Salary",
          "Salary",
          "Salary",
          "Salary",
          "Salary",
          "Salary",
          "Salary",
          "Salary",
          "Salary",
          "Salary",
          "Salary",
          "Salary",
          "Salary",
          "Salary",
          "Salary",
          "Salary",
          "Salary",
          "Salary",
          "Salary",
          "Salary",
          "Salary",
          "Salary",
          "Salary",
          "Salary",
          "Salary",
          "Salary",
          "Salary",
          "Salary",
          "Salary",
          "Salary",
          "Salary",
          "Salary",
          "Salary",
          "Salary",
          "Salary",
          "Salary",
          "Salary",
          "Salary",
          "Salary",
          "Salary",
          "Salary",
          "Salary",
          "Salary",
          "Salary",
          "Salary",
          "Salary",
          "Salary",
          "Salary",
          "Salary",
          "Salary",
          "Salary",
          "Salary",
          "Salary",
          "Salary",
          "Salary",
          "Salary",
          "Salary",
          "Salary",
          "Salary",
          "Salary",
          "Salary",
          "Salary",
          "Salary",
          "Salary",
          "Salary",
          "Salary",
          "Salary",
          "Salary",
          "Salary",
          "Salary",
          "Salary",
          "Salary",
          "Salary",
          "Salary",
          "Salary",
          "Salary",
          "Salary",
          "Salary",
          "Salary",
          "Salary",
          "Salary",
          "Salary",
          "Salary",
          "Salary",
          "Salary",
          "Salary",
          "Salary",
          "Salary",
          "Salary",
          "Salary",
          "Salary",
          "Salary",
          "Salary",
          "Salary",
          "Salary",
          "Salary",
          "Salary",
          "Salary",
          "Salary",
          "Salary",
          "Salary",
          "Salary",
          "Salary",
          "Salary",
          "Salary",
          "Salary",
          "Salary",
          "Salary",
          "Salary",
          "Salary",
          "Salary",
          "Salary",
          "Salary",
          "Salary",
          "Salary",
          "Salary",
          "Salary",
          "Salary",
          "Salary",
          "Salary",
          "Salary",
          "Salary",
          "Salary",
          "Salary",
          "Salary",
          "Salary",
          "Salary",
          "Salary",
          "Salary",
          "Salary",
          "Salary",
          "Salary",
          "Salary",
          "Salary",
          "Salary",
          "Salary",
          "Salary",
          "Salary",
          "Salary",
          "Salary",
          "Salary",
          "Salary",
          "Salary",
          "Salary",
          "Salary",
          "Salary",
          "Salary",
          "Salary",
          "Salary",
          "Salary",
          "Salary",
          "Salary",
          "Salary",
          "Salary",
          "Salary",
          "Salary",
          "Salary",
          "Salary",
          "Salary",
          "Salary",
          "Salary",
          "Salary",
          "Salary",
          "Salary",
          "Salary",
          "Salary",
          "Salary",
          "Salary",
          "Salary",
          "Salary",
          "Salary",
          "Salary",
          "Salary",
          "Salary",
          "Salary",
          "Salary",
          "Salary",
          "Salary",
          "Salary",
          "Salary",
          "Salary",
          "Salary",
          "Salary",
          "Salary",
          "Salary",
          "Salary",
          "Salary",
          "Salary",
          "Salary",
          "Salary",
          "Salary",
          "Salary",
          "Salary",
          "Salary",
          "Salary",
          "Salary",
          "Salary",
          "Salary",
          "Salary",
          "Salary",
          "Salary",
          "Salary",
          "Salary",
          "Salary",
          "Salary",
          "Salary",
          "Salary",
          "Salary",
          "Salary",
          "Salary",
          "Salary",
          "Salary",
          "Salary",
          "Salary",
          "Salary",
          "Salary",
          "Salary",
          "Salary",
          "Salary",
          "Salary",
          "Salary",
          "Salary",
          "Salary",
          "Salary",
          "Salary",
          "Salary",
          "Salary",
          "Salary",
          "Salary",
          "Salary",
          "Salary",
          "Salary",
          "Salary",
          "Salary",
          "Salary",
          "Salary",
          "Salary",
          "Salary",
          "Salary",
          "Salary",
          "Salary",
          "Salary",
          "Salary",
          "Salary",
          "Salary",
          "Salary",
          "Salary",
          "Salary",
          "Salary",
          "Salary",
          "Salary",
          "Salary",
          "Salary",
          "Salary",
          "Salary",
          "Salary",
          "Salary",
          "Salary",
          "Salary",
          "Salary",
          "Salary",
          "Salary",
          "Salary",
          "Salary",
          "Salary",
          "Salary",
          "Salary",
          "Salary",
          "Salary",
          "Salary",
          "Salary",
          "Salary",
          "Salary",
          "Salary",
          "Salary",
          "Salary",
          "Salary",
          "Salary",
          "Salary",
          "Salary",
          "Salary",
          "Salary",
          "Salary",
          "Salary",
          "Salary",
          "Salary",
          "Salary",
          "Salary",
          "Salary",
          "Salary",
          "Salary",
          "Salary",
          "Salary",
          "Salary",
          "Salary",
          "Salary",
          "Salary",
          "Salary",
          "Salary",
          "Salary",
          "Salary",
          "Salary",
          "Salary",
          "Salary",
          "Salary",
          "Salary",
          "Salary",
          "Salary",
          "Salary",
          "Salary",
          "Salary",
          "Salary",
          "Salary",
          "Salary",
          "Salary",
          "Salary",
          "Salary",
          "Salary",
          "Salary",
          "Salary",
          "Salary",
          "Salary",
          "Salary",
          "Salary",
          "Salary",
          "Salary",
          "Salary",
          "Salary",
          "Salary",
          "Salary",
          "Salary",
          "Salary",
          "Salary",
          "Salary",
          "Salary",
          "Salary",
          "Salary",
          "Salary",
          "Salary",
          "Salary",
          "Salary",
          "Salary",
          "Salary",
          "Salary",
          "Salary",
          "Salary",
          "Salary",
          "Salary",
          "Salary",
          "Salary",
          "Salary",
          "Salary",
          "Salary",
          "Salary",
          "Salary",
          "Salary",
          "Salary",
          "Salary",
          "Salary",
          "Salary",
          "Salary",
          "Salary",
          "Salary",
          "Salary",
          "Salary",
          "Salary",
          "Salary",
          "Salary",
          "Salary",
          "Salary",
          "Salary",
          "Salary",
          "Salary",
          "Salary",
          "Salary",
          "Salary",
          "Salary",
          "Salary",
          "Salary",
          "Salary",
          "Salary",
          "Salary",
          "Salary",
          "Salary",
          "Salary",
          "Salary",
          "Salary",
          "Salary",
          "Salary",
          "Salary",
          "Salary",
          "Salary",
          "Salary",
          "Salary",
          "Salary",
          "Salary",
          "Salary",
          "Salary",
          "Salary",
          "Salary",
          "Salary",
          "Salary",
          "Salary",
          "Salary",
          "Salary",
          "Salary",
          "Salary",
          "Salary",
          "Salary",
          "Salary",
          "Salary",
          "Salary",
          "Salary",
          "Salary",
          "Salary",
          "Salary",
          "Salary",
          "Salary",
          "Salary",
          "Salary",
          "Salary",
          "Salary",
          "Salary",
          "Salary",
          "Salary",
          "Salary",
          "Salary",
          "Salary",
          "Salary",
          "Salary",
          "Salary",
          "Salary",
          "Salary",
          "Salary",
          "Salary",
          "Salary",
          "Salary",
          "Salary",
          "Salary",
          "Salary",
          "Salary",
          "Salary",
          "Salary",
          "Salary",
          "Salary",
          "Salary",
          "Salary",
          "Salary",
          "Salary",
          "Salary",
          "Salary",
          "Salary",
          "Salary",
          "Salary",
          "Salary",
          "Salary",
          "Salary",
          "Salary",
          "Salary",
          "Salary",
          "Salary",
          "Salary",
          "Salary",
          "Salary",
          "Salary",
          "Salary",
          "Salary",
          "Salary",
          "Salary",
          "Salary",
          "Salary",
          "Salary",
          "Salary",
          "Salary",
          "Salary",
          "Salary",
          "Salary",
          "Salary",
          "Salary",
          "Salary",
          "Salary",
          "Salary",
          "Salary",
          "Salary",
          "Salary",
          "Salary",
          "Salary",
          "Salary",
          "Salary",
          "Salary",
          "Salary",
          "Salary",
          "Salary",
          "Salary",
          "Salary",
          "Salary",
          "Salary",
          "Salary",
          "Salary",
          "Salary",
          "Salary",
          "Salary",
          "Salary",
          "Salary",
          "Salary",
          "Salary",
          "Salary",
          "Salary",
          "Salary",
          "Salary",
          "Salary",
          "Salary",
          "Salary",
          "Salary",
          "Salary",
          "Salary",
          "Salary",
          "Salary",
          "Salary",
          "Salary",
          "Salary",
          "Salary",
          "Salary",
          "Salary",
          "Salary",
          "Salary",
          "Salary",
          "Salary",
          "Salary",
          "Salary",
          "Salary",
          "Salary",
          "Salary",
          "Salary",
          "Salary",
          "Salary",
          "Salary",
          "Salary",
          "Salary",
          "Salary",
          "Salary",
          "Salary",
          "Salary",
          "Salary",
          "Salary",
          "Salary",
          "Salary",
          "Salary",
          "Salary",
          "Salary",
          "Salary",
          "Salary",
          "Salary",
          "Salary",
          "Salary",
          "Salary",
          "Salary",
          "Salary",
          "Salary",
          "Salary",
          "Salary",
          "Salary",
          "Salary",
          "Salary",
          "Salary",
          "Salary",
          "Salary",
          "Salary",
          "Salary",
          "Salary",
          "Salary",
          "Salary",
          "Salary",
          "Salary",
          "Salary",
          "Salary",
          "Salary",
          "Salary",
          "Salary",
          "Salary",
          "Salary",
          "Salary",
          "Salary",
          "Salary",
          "Salary",
          "Salary",
          "Salary",
          "Salary",
          "Salary",
          "Salary",
          "Salary",
          "Salary",
          "Salary",
          "Salary",
          "Salary",
          "Salary",
          "Salary",
          "Salary",
          "Salary",
          "Salary",
          "Salary",
          "Salary",
          "Salary",
          "Salary",
          "Salary",
          "Salary",
          "Salary",
          "Salary",
          "Salary",
          "Salary",
          "Salary",
          "Salary",
          "Salary",
          "Salary",
          "Salary",
          "Salary",
          "Salary",
          "Salary",
          "Salary",
          "Salary",
          "Salary",
          "Salary",
          "Salary",
          "Salary",
          "Salary",
          "Salary",
          "Salary",
          "Salary",
          "Salary",
          "Salary",
          "Salary",
          "Salary",
          "Salary",
          "Salary",
          "Salary",
          "Salary",
          "Salary",
          "Salary",
          "Salary",
          "Salary",
          "Salary",
          "Salary",
          "Salary",
          "Salary",
          "Salary",
          "Salary",
          "Salary",
          "Salary",
          "Salary",
          "Salary",
          "Salary",
          "Salary",
          "Salary",
          "Salary",
          "Salary",
          "Salary",
          "Salary",
          "Salary",
          "Salary",
          "Salary",
          "Salary",
          "Salary",
          "Salary",
          "Salary",
          "Salary",
          "Salary",
          "Salary",
          "Salary",
          "Salary",
          "Salary",
          "Salary",
          "Salary",
          "Salary",
          "Salary",
          "Salary",
          "Salary",
          "Salary",
          "Salary",
          "Salary",
          "Salary",
          "Salary",
          "Salary",
          "Salary",
          "Salary",
          "Salary",
          "Salary",
          "Salary",
          "Salary",
          "Salary",
          "Salary",
          "Salary",
          "Salary",
          "Salary",
          "Salary",
          "Salary",
          "Salary",
          "Salary",
          "Salary",
          "Salary",
          "Salary",
          "Salary",
          "Salary",
          "Salary",
          "Salary",
          "Salary",
          "Salary",
          "Salary",
          "Salary",
          "Salary",
          "Salary",
          "Salary",
          "Salary",
          "Salary",
          "Salary",
          "Salary",
          "Salary",
          "Salary",
          "Salary",
          "Salary",
          "Salary",
          "Salary",
          "Salary",
          "Salary",
          "Salary",
          "Salary",
          "Salary",
          "Salary",
          "Salary",
          "Salary",
          "Salary",
          "Salary",
          "Salary",
          "Salary",
          "Salary",
          "Salary",
          "Salary",
          "Salary",
          "Salary",
          "Salary",
          "Salary",
          "Salary",
          "Salary",
          "Salary",
          "Salary",
          "Salary",
          "Salary",
          "Salary",
          "Salary",
          "Salary",
          "Salary",
          "Salary",
          "Salary",
          "Salary",
          "Salary",
          "Salary",
          "Salary",
          "Salary",
          "Salary",
          "Salary",
          "Salary",
          "Salary",
          "Salary",
          "Salary",
          "Salary",
          "Salary",
          "Salary",
          "Salary",
          "Salary",
          "Salary",
          "Salary",
          "Salary",
          "Salary",
          "Salary",
          "Salary",
          "Salary",
          "Salary",
          "Salary",
          "Salary",
          "Salary",
          "Salary",
          "Salary",
          "Salary",
          "Salary",
          "Salary",
          "Salary",
          "Salary",
          "Salary",
          "Salary",
          "Salary",
          "Salary",
          "Salary",
          "Salary",
          "Salary",
          "Salary",
          "Salary",
          "Salary",
          "Salary",
          "Salary",
          "Salary",
          "Salary",
          "Salary",
          "Salary",
          "Salary",
          "Salary",
          "Salary",
          "Salary",
          "Salary",
          "Salary",
          "Salary",
          "Salary",
          "Salary",
          "Salary",
          "Salary",
          "Salary",
          "Salary",
          "Salary",
          "Salary",
          "Salary",
          "Salary",
          "Salary",
          "Salary",
          "Salary",
          "Salary",
          "Salary",
          "Salary",
          "Salary",
          "Salary",
          "Salary",
          "Salary",
          "Salary",
          "Salary",
          "Salary",
          "Salary",
          "Salary",
          "Salary",
          "Salary",
          "Salary",
          "Salary",
          "Salary",
          "Salary",
          "Salary",
          "Salary",
          "Salary",
          "Salary",
          "Salary",
          "Salary",
          "Salary",
          "Salary",
          "Salary",
          "Salary",
          "Salary",
          "Salary",
          "Salary",
          "Salary",
          "Salary",
          "Salary",
          "Salary",
          "Salary",
          "Salary",
          "Salary",
          "Salary",
          "Salary",
          "Salary",
          "Salary",
          "Salary",
          "Salary",
          "Salary",
          "Salary",
          "Salary",
          "Salary",
          "Salary",
          "Salary",
          "Salary",
          "Salary",
          "Salary",
          "Salary",
          "Salary",
          "Salary",
          "Salary",
          "Salary",
          "Salary",
          "Salary",
          "Salary",
          "Salary",
          "Salary",
          "Salary",
          "Salary",
          "Salary",
          "Salary",
          "Salary",
          "Salary",
          "Salary",
          "Salary",
          "Salary",
          "Salary",
          "Salary",
          "Salary",
          "Salary",
          "Salary",
          "Salary",
          "Salary",
          "Salary",
          "Salary",
          "Salary",
          "Salary",
          "Salary",
          "Salary",
          "Salary",
          "Salary",
          "Salary",
          "Salary",
          "Salary",
          "Salary",
          "Salary",
          "Salary",
          "Salary",
          "Salary",
          "Salary",
          "Salary",
          "Salary",
          "Salary",
          "Salary",
          "Salary",
          "Salary",
          "Salary",
          "Salary",
          "Salary",
          "Salary",
          "Salary",
          "Salary",
          "Salary",
          "Salary",
          "Salary",
          "Salary",
          "Salary",
          "Salary",
          "Salary",
          "Salary",
          "Salary",
          "Salary",
          "Salary",
          "Salary",
          "Salary",
          "Salary",
          "Salary",
          "Salary",
          "Salary",
          "Salary",
          "Salary",
          "Salary",
          "Salary",
          "Salary",
          "Salary",
          "Salary",
          "Salary",
          "Salary",
          "Salary",
          "Salary",
          "Salary",
          "Salary",
          "Salary",
          "Salary",
          "Salary",
          "Salary",
          "Salary",
          "Salary",
          "Salary",
          "Salary",
          "Salary",
          "Salary",
          "Salary",
          "Salary",
          "Salary",
          "Salary",
          "Salary",
          "Salary",
          "Salary",
          "Salary",
          "Salary",
          "Salary",
          "Salary",
          "Salary",
          "Salary",
          "Salary",
          "Salary",
          "Salary",
          "Salary",
          "Salary",
          "Salary",
          "Salary",
          "Salary",
          "Salary",
          "Salary",
          "Salary",
          "Salary",
          "Salary",
          "Salary",
          "Salary",
          "Salary",
          "Salary",
          "Salary",
          "Salary",
          "Salary",
          "Salary",
          "Salary",
          "Salary",
          "Salary",
          "Salary",
          "Salary",
          "Salary",
          "Salary",
          "Salary",
          "Salary",
          "Salary",
          "Salary",
          "Salary",
          "Salary",
          "Salary",
          "Salary",
          "Salary",
          "Salary",
          "Salary",
          "Salary",
          "Salary",
          "Salary",
          "Salary",
          "Salary",
          "Salary",
          "Salary",
          "Salary",
          "Salary",
          "Salary",
          "Salary",
          "Salary",
          "Salary",
          "Salary",
          "Salary",
          "Salary",
          "Salary",
          "Salary",
          "Salary",
          "Salary",
          "Salary",
          "Salary",
          "Salary",
          "Salary",
          "Salary",
          "Salary",
          "Salary",
          "Salary",
          "Salary",
          "Salary",
          "Salary",
          "Salary",
          "Salary",
          "Salary",
          "Salary",
          "Salary",
          "Salary",
          "Salary",
          "Salary",
          "Salary",
          "Salary",
          "Salary",
          "Salary",
          "Salary",
          "Salary",
          "Salary",
          "Salary",
          "Salary",
          "Salary",
          "Salary",
          "Salary",
          "Salary",
          "Salary",
          "Salary",
          "Salary",
          "Salary",
          "Salary",
          "Salary",
          "Salary",
          "Salary",
          "Salary",
          "Salary",
          "Salary",
          "Salary",
          "Salary",
          "Salary",
          "Salary",
          "Salary",
          "Salary",
          "Salary",
          "Salary",
          "Salary",
          "Salary",
          "Salary",
          "Salary",
          "Salary",
          "Salary",
          "Salary",
          "Salary",
          "Salary",
          "Salary",
          "Salary",
          "Salary",
          "Salary",
          "Salary",
          "Salary",
          "Salary",
          "Salary",
          "Salary",
          "Salary",
          "Salary",
          "Salary",
          "Salary",
          "Salary",
          "Salary",
          "Salary",
          "Salary",
          "Salary",
          "Salary",
          "Salary",
          "Salary",
          "Salary",
          "Salary",
          "Salary",
          "Salary",
          "Salary",
          "Salary",
          "Salary",
          "Salary",
          "Salary",
          "Salary",
          "Salary",
          "Salary",
          "Salary",
          "Salary",
          "Salary",
          "Salary",
          "Salary",
          "Salary",
          "Salary",
          "Salary",
          "Salary",
          "Salary",
          "Salary",
          "Salary",
          "Salary",
          "Salary",
          "Salary",
          "Salary",
          "Salary",
          "Salary",
          "Salary",
          "Salary",
          "Salary",
          "Salary",
          "Salary",
          "Salary",
          "Salary",
          "Salary",
          "Salary",
          "Salary",
          "Salary",
          "Salary",
          "Salary",
          "Salary",
          "Salary",
          "Salary",
          "Salary",
          "Salary",
          "Salary",
          "Salary",
          "Salary",
          "Salary",
          "Salary",
          "Salary",
          "Salary",
          "Salary",
          "Salary",
          "Salary",
          "Salary",
          "Salary",
          "Salary",
          "Salary",
          "Salary",
          "Salary",
          "Salary",
          "Salary",
          "Salary",
          "Salary",
          "Salary",
          "Salary",
          "Salary",
          "Salary",
          "Salary",
          "Salary",
          "Salary",
          "Salary",
          "Salary",
          "Salary",
          "Salary",
          "Salary",
          "Salary",
          "Salary",
          "Salary",
          "Salary",
          "Salary",
          "Salary",
          "Salary",
          "Salary",
          "Salary",
          "Salary",
          "Salary",
          "Salary",
          "Salary",
          "Salary",
          "Salary",
          "Salary",
          "Salary",
          "Salary",
          "Salary",
          "Salary",
          "Salary",
          "Salary",
          "Salary",
          "Salary",
          "Salary",
          "Salary",
          "Salary",
          "Salary",
          "Salary",
          "Salary",
          "Salary",
          "Salary",
          "Salary",
          "Salary",
          "Salary",
          "Salary",
          "Salary",
          "Salary",
          "Salary",
          "Salary",
          "Salary",
          "Salary",
          "Salary",
          "Salary",
          "Salary",
          "Salary",
          "Salary",
          "Salary",
          "Salary",
          "Salary",
          "Salary",
          "Salary",
          "Salary",
          "Salary",
          "Salary",
          "Salary",
          "Salary",
          "Salary",
          "Salary",
          "Salary",
          "Salary",
          "Salary",
          "Salary",
          "Salary",
          "Salary",
          "Salary",
          "Salary",
          "Salary",
          "Salary",
          "Salary",
          "Salary",
          "Salary",
          "Salary",
          "Salary",
          "Salary",
          "Salary",
          "Salary",
          "Salary",
          "Salary",
          "Salary",
          "Salary",
          "Salary",
          "Salary",
          "Salary",
          "Salary",
          "Salary",
          "Salary",
          "Salary",
          "Salary",
          "Salary",
          "Salary",
          "Salary",
          "Salary",
          "Salary",
          "Salary",
          "Salary",
          "Salary",
          "Salary",
          "Salary",
          "Salary",
          "Salary",
          "Salary",
          "Salary",
          "Salary",
          "Salary",
          "Salary",
          "Salary",
          "Salary",
          "Salary",
          "Salary",
          "Salary",
          "Salary",
          "Salary",
          "Salary",
          "Salary",
          "Salary",
          "Salary",
          "Salary",
          "Salary",
          "Salary",
          "Salary",
          "Salary",
          "Salary",
          "Salary",
          "Salary",
          "Salary",
          "Salary",
          "Salary",
          "Salary",
          "Salary",
          "Salary",
          "Salary",
          "Salary",
          "Salary",
          "Salary",
          "Salary",
          "Salary",
          "Salary",
          "Salary",
          "Salary",
          "Salary",
          "Salary",
          "Salary",
          "Salary",
          "Salary",
          "Salary",
          "Salary",
          "Salary",
          "Salary",
          "Salary",
          "Salary",
          "Salary",
          "Salary",
          "Salary",
          "Salary",
          "Salary",
          "Salary",
          "Salary",
          "Salary",
          "Salary",
          "Salary",
          "Salary",
          "Salary",
          "Salary",
          "Salary",
          "Salary",
          "Salary",
          "Salary",
          "Salary",
          "Salary",
          "Salary",
          "Salary",
          "Salary",
          "Salary",
          "Salary",
          "Salary",
          "Salary",
          "Salary",
          "Salary",
          "Salary",
          "Salary",
          "Salary",
          "Salary",
          "Salary",
          "Salary",
          "Salary",
          "Salary",
          "Salary",
          "Salary",
          "Salary",
          "Salary",
          "Salary",
          "Salary",
          "Salary",
          "Salary",
          "Salary",
          "Salary",
          "Salary",
          "Salary",
          "Salary",
          "Salary",
          "Salary",
          "Salary",
          "Salary",
          "Salary",
          "Salary",
          "Salary",
          "Salary",
          "Salary",
          "Salary",
          "Salary",
          "Salary",
          "Salary",
          "Salary",
          "Salary",
          "Salary",
          "Salary",
          "Salary",
          "Salary",
          "Salary",
          "Salary",
          "Salary",
          "Salary",
          "Salary",
          "Salary",
          "Salary",
          "Salary",
          "Salary",
          "Salary",
          "Salary",
          "Salary",
          "Salary",
          "Salary",
          "Salary",
          "Salary",
          "Salary",
          "Salary",
          "Salary",
          "Salary",
          "Salary",
          "Salary",
          "Salary",
          "Salary",
          "Salary",
          "Salary",
          "Salary",
          "Salary",
          "Salary",
          "Salary",
          "Salary",
          "Salary",
          "Salary",
          "Salary",
          "Salary",
          "Salary",
          "Salary",
          "Salary",
          "Salary",
          "Salary",
          "Salary",
          "Salary",
          "Salary",
          "Salary",
          "Salary",
          "Salary",
          "Salary",
          "Salary",
          "Salary",
          "Salary",
          "Salary",
          "Salary",
          "Salary",
          "Salary",
          "Salary",
          "Salary",
          "Salary",
          "Salary",
          "Salary",
          "Salary",
          "Salary",
          "Salary",
          "Salary",
          "Salary",
          "Salary",
          "Salary",
          "Salary",
          "Salary",
          "Salary",
          "Salary",
          "Salary",
          "Salary",
          "Salary",
          "Salary",
          "Salary",
          "Salary",
          "Salary",
          "Salary",
          "Salary",
          "Salary",
          "Salary",
          "Salary",
          "Salary",
          "Salary",
          "Salary",
          "Salary",
          "Salary",
          "Salary",
          "Salary",
          "Salary",
          "Salary",
          "Salary",
          "Salary",
          "Salary",
          "Salary",
          "Salary",
          "Salary",
          "Salary",
          "Salary",
          "Salary",
          "Salary",
          "Salary",
          "Salary",
          "Salary",
          "Salary",
          "Salary",
          "Salary",
          "Salary",
          "Salary",
          "Salary",
          "Salary",
          "Salary",
          "Salary",
          "Salary",
          "Salary",
          "Salary",
          "Salary",
          "Salary",
          "Salary",
          "Salary",
          "Salary",
          "Salary",
          "Salary",
          "Salary",
          "Salary",
          "Salary",
          "Salary",
          "Salary",
          "Salary",
          "Salary",
          "Salary",
          "Salary",
          "Salary",
          "Salary",
          "Salary",
          "Salary",
          "Salary",
          "Salary",
          "Salary",
          "Salary",
          "Salary",
          "Salary",
          "Salary",
          "Salary",
          "Salary",
          "Salary",
          "Salary",
          "Salary",
          "Salary",
          "Salary",
          "Salary",
          "Salary",
          "Salary",
          "Salary",
          "Salary",
          "Salary",
          "Salary",
          "Salary",
          "Salary",
          "Salary",
          "Salary",
          "Salary",
          "Salary",
          "Salary",
          "Salary",
          "Salary",
          "Salary",
          "Salary",
          "Salary",
          "Salary",
          "Salary",
          "Salary",
          "Salary",
          "Salary",
          "Salary",
          "Salary",
          "Salary",
          "Salary",
          "Salary",
          "Salary",
          "Salary",
          "Salary",
          "Salary",
          "Salary",
          "Salary",
          "Salary",
          "Salary",
          "Salary",
          "Salary",
          "Salary",
          "Salary",
          "Salary",
          "Salary",
          "Salary",
          "Salary",
          "Salary",
          "Salary",
          "Salary",
          "Salary",
          "Salary",
          "Salary",
          "Salary",
          "Salary",
          "Salary",
          "Salary",
          "Salary",
          "Salary",
          "Salary",
          "Salary",
          "Salary",
          "Salary",
          "Salary",
          "Salary",
          "Salary",
          "Salary",
          "Salary",
          "Salary",
          "Salary",
          "Salary",
          "Salary",
          "Salary",
          "Salary",
          "Salary",
          "Salary",
          "Salary",
          "Salary",
          "Salary",
          "Salary",
          "Salary",
          "Salary",
          "Salary",
          "Salary",
          "Salary",
          "Salary",
          "Salary",
          "Salary",
          "Salary",
          "Salary",
          "Salary",
          "Salary",
          "Salary",
          "Salary",
          "Salary",
          "Salary",
          "Salary",
          "Salary",
          "Salary",
          "Salary",
          "Salary",
          "Salary",
          "Salary",
          "Salary",
          "Salary",
          "Salary",
          "Salary",
          "Salary",
          "Salary",
          "Salary",
          "Salary",
          "Salary",
          "Salary",
          "Salary",
          "Salary",
          "Salary",
          "Salary"
         ],
         "x0": " ",
         "xaxis": "x",
         "y": [
          65000,
          200000,
          80000,
          45000,
          110000,
          75000,
          140000,
          130000,
          40000,
          125000,
          90000,
          115000,
          35000,
          180000,
          190000,
          50000,
          60000,
          140000,
          45000,
          110000,
          40000,
          140000,
          90000,
          250000,
          55000,
          75000,
          65000,
          170000,
          45000,
          60000,
          115000,
          40000,
          160000,
          80000,
          190000,
          60000,
          45000,
          130000,
          40000,
          75000,
          180000,
          120000,
          35000,
          130000,
          85000,
          60000,
          200000,
          50000,
          95000,
          65000,
          140000,
          55000,
          105000,
          170000,
          50000,
          80000,
          180000,
          35000,
          90000,
          120000,
          45000,
          90000,
          150000,
          65000,
          70000,
          190000,
          40000,
          120000,
          95000,
          160000,
          100000,
          180000,
          55000,
          70000,
          80000,
          30000,
          250000,
          40000,
          95000,
          45000,
          80000,
          135000,
          55000,
          120000,
          40000,
          105000,
          170000,
          75000,
          65000,
          160000,
          35000,
          90000,
          110000,
          45000,
          95000,
          150000,
          50000,
          80000,
          220000,
          50000,
          60000,
          100000,
          40000,
          110000,
          95000,
          130000,
          90000,
          35000,
          95000,
          65000,
          170000,
          45000,
          120000,
          100000,
          180000,
          50000,
          80000,
          140000,
          40000,
          95000,
          110000,
          50000,
          105000,
          160000,
          45000,
          100000,
          160000,
          35000,
          55000,
          140000,
          50000,
          60000,
          120000,
          40000,
          110000,
          50000,
          135000,
          40000,
          90000,
          150000,
          60000,
          80000,
          175000,
          45000,
          120000,
          140000,
          35000,
          95000,
          110000,
          50000,
          115000,
          185000,
          40000,
          90000,
          175000,
          45000,
          80000,
          120000,
          35000,
          110000,
          150000,
          50000,
          105000,
          180000,
          40000,
          140000,
          45000,
          85000,
          140000,
          50000,
          80000,
          170000,
          40000,
          105000,
          145000,
          40000,
          85000,
          130000,
          95000,
          100000,
          180000,
          35000,
          95000,
          170000,
          45000,
          95000,
          120000,
          90000,
          155000,
          55000,
          110000,
          180000,
          45000,
          130000,
          45000,
          90000,
          160000,
          50000,
          120000,
          170000,
          40000,
          110000,
          150000,
          40000,
          85000,
          130000,
          100000,
          95000,
          180000,
          35000,
          100000,
          170000,
          45000,
          100000,
          140000,
          40000,
          105000,
          160000,
          70000,
          120000,
          190000,
          45000,
          120000,
          50000,
          85000,
          140000,
          45000,
          100000,
          140000,
          70000,
          120000,
          160000,
          40000,
          120000,
          150000,
          70000,
          95000,
          180000,
          50000,
          95000,
          170000,
          350,
          120000,
          50000,
          110000,
          40000,
          95000,
          140000,
          60000,
          110000,
          150000,
          60000,
          90000,
          180000,
          40000,
          120000,
          160000,
          70000,
          95000,
          180000,
          50000,
          170000,
          35000,
          100000,
          150000,
          60000,
          130000,
          65000,
          110000,
          180000,
          40000,
          90000,
          140000,
          60000,
          130000,
          160000,
          40000,
          100000,
          180000,
          55000,
          120000,
          70000,
          95000,
          120000,
          80000,
          40000,
          120000,
          160000,
          65000,
          130000,
          180000,
          40000,
          100000,
          150000,
          55000,
          180000,
          50000,
          130000,
          160000,
          60000,
          95000,
          170000,
          40000,
          90000,
          150000,
          70000,
          90000,
          170000,
          50000,
          150000,
          160000,
          180000,
          35000,
          110000,
          160000,
          55000,
          170000,
          160000,
          125000,
          120000,
          110000,
          180000,
          140000,
          170000,
          100000,
          190000,
          155000,
          130000,
          145000,
          115000,
          185000,
          125000,
          120000,
          110000,
          180000,
          140000,
          130000,
          180000,
          190000,
          150000,
          90000,
          195000,
          160000,
          198000,
          110000,
          185000,
          140000,
          196000,
          95000,
          193000,
          175000,
          160000,
          180000,
          195000,
          160000,
          198000,
          130000,
          185000,
          140000,
          196000,
          110000,
          160000,
          195000,
          125000,
          175000,
          190000,
          95000,
          195000,
          90000,
          170000,
          135000,
          115000,
          150000,
          125000,
          180000,
          195000,
          170000,
          196000,
          92000,
          195000,
          165000,
          135000,
          196000,
          92000,
          135000,
          180000,
          195000,
          165000,
          198000,
          150000,
          162000,
          175000,
          197000,
          142000,
          182000,
          185000,
          170000,
          160000,
          180000,
          150000,
          140000,
          100000,
          190000,
          120000,
          170000,
          190000,
          150000,
          120000,
          170000,
          130000,
          95000,
          195000,
          100000,
          150000,
          150000,
          195000,
          170000,
          180000,
          190000,
          100000,
          180000,
          120000,
          195000,
          160000,
          100000,
          190000,
          170000,
          185000,
          130000,
          190000,
          150000,
          150000,
          195000,
          110000,
          180000,
          185000,
          130000,
          190000,
          155000,
          195000,
          90000,
          185000,
          120000,
          180000,
          125000,
          175000,
          190000,
          110000,
          195000,
          100000,
          60000,
          155000,
          175000,
          180000,
          95000,
          200000,
          165000,
          145000,
          195000,
          75000,
          90000,
          155000,
          115000,
          170000,
          190000,
          115000,
          180000,
          195000,
          140000,
          200000,
          70000,
          170000,
          185000,
          140000,
          185000,
          185000,
          180000,
          175000,
          70000,
          60000,
          200000,
          170000,
          165000,
          55000,
          190000,
          105000,
          130000,
          185000,
          60000,
          195000,
          60000,
          150000,
          180000,
          125000,
          185000,
          90000,
          80000,
          85000,
          190000,
          160000,
          195000,
          195000,
          190000,
          95000,
          55000,
          185000,
          120000,
          195000,
          175000,
          75000,
          200000,
          160000,
          175000,
          180000,
          120000,
          185000,
          195000,
          170000,
          55000,
          130000,
          180000,
          145000,
          170000,
          155000,
          125000,
          180000,
          95000,
          170000,
          175000,
          80000,
          195000,
          155000,
          125000,
          110000,
          130000,
          190000,
          150000,
          140000,
          195000,
          55000,
          190000,
          130000,
          130000,
          140000,
          70000,
          170000,
          180000,
          70000,
          55000,
          180000,
          70000,
          165000,
          185000,
          140000,
          80000,
          90000,
          170000,
          170000,
          155000,
          195000,
          70000,
          140000,
          190000,
          130000,
          165000,
          55000,
          165000,
          195000,
          85000,
          200000,
          140000,
          65000,
          190000,
          120000,
          200000,
          190000,
          65000,
          130000,
          120000,
          55000,
          160000,
          140000,
          135000,
          55000,
          95000,
          170000,
          75000,
          210000,
          135000,
          190000,
          165000,
          120000,
          160000,
          55000,
          120000,
          90000,
          180000,
          130000,
          170000,
          70000,
          210000,
          55000,
          165000,
          105000,
          160000,
          110000,
          195000,
          85000,
          180000,
          55000,
          140000,
          145000,
          185000,
          110000,
          115000,
          170000,
          80000,
          200000,
          130000,
          155000,
          105000,
          190000,
          140000,
          185000,
          145000,
          90000,
          195000,
          95000,
          170000,
          115000,
          185000,
          65000,
          160000,
          100000,
          180000,
          190000,
          115000,
          195000,
          150000,
          185000,
          550,
          90000,
          160000,
          115000,
          150000,
          65000,
          190000,
          140000,
          185000,
          130000,
          105000,
          170000,
          90000,
          80000,
          195000,
          115000,
          135000,
          65000,
          140000,
          185000,
          130000,
          105000,
          200000,
          110000,
          150000,
          130000,
          180000,
          140000,
          160000,
          55000,
          190000,
          120000,
          200000,
          100000,
          150000,
          170000,
          210000,
          90000,
          180000,
          185000,
          105000,
          210000,
          95000,
          170000,
          200000,
          75000,
          95000,
          50000,
          180000,
          65000,
          120000,
          60000,
          150000,
          70000,
          220000,
          100000,
          55000,
          170000,
          90000,
          80000,
          180000,
          60000,
          120000,
          70000,
          210000,
          140000,
          50000,
          110000,
          160000,
          200000,
          100000,
          122485,
          169159,
          187081,
          166109,
          78354,
          90249,
          132720,
          161568,
          127346,
          120177,
          69032,
          101332,
          121450,
          166375,
          185119,
          149217,
          166512,
          186963,
          75072,
          163398,
          103947,
          179180,
          175966,
          190004,
          152039,
          76742,
          191790,
          139398,
          95845,
          160976,
          126753,
          161393,
          139817,
          181714,
          114776,
          105725,
          52731,
          106492,
          73895,
          119836,
          99747,
          168287,
          115920,
          128078,
          51265,
          165919,
          188651,
          55538,
          193964,
          104702,
          172955,
          138032,
          82683,
          155414,
          154207,
          107895,
          148446,
          102859,
          138662,
          181699,
          188232,
          51832,
          188484,
          138286,
          181132,
          73938,
          119224,
          101186,
          142360,
          151315,
          181021,
          134641,
          173851,
          104127,
          178859,
          98568,
          104661,
          134858,
          94502,
          62852,
          139095,
          106278,
          90452,
          168304,
          126593,
          152203,
          183138,
          130275,
          191915,
          62807,
          174305,
          133326,
          75656,
          155944,
          137775,
          51831,
          182237,
          151901,
          100052,
          158254,
          167207,
          112439,
          194214,
          84407,
          139413,
          143084,
          192344,
          106132,
          184816,
          150248,
          170995,
          88035,
          119419,
          173582,
          174436,
          71699,
          163558,
          166828,
          144496,
          193746,
          122581,
          79767,
          177177,
          89843,
          113563,
          128712,
          161621,
          121454,
          179987,
          72649,
          52612,
          184006,
          131960,
          102465,
          149748,
          171036,
          146351,
          185462,
          107718,
          90944,
          100425,
          63901,
          181902,
          136533,
          136285,
          191818,
          176643,
          70022,
          99363,
          152944,
          123386,
          168906,
          183020,
          47898,
          135853,
          149198,
          106662,
          186610,
          89995,
          85825,
          143814,
          174726,
          150534,
          68732,
          187951,
          137336,
          191159,
          102868,
          154281,
          111535,
          107906,
          143885,
          180958,
          108607,
          178284,
          75969,
          143705,
          197354,
          174324,
          123781,
          141735,
          187120,
          61095,
          179045,
          130355,
          103282,
          157872,
          117314,
          186321,
          129686,
          68611,
          177913,
          68472,
          113065,
          125091,
          172925,
          126916,
          183417,
          76898,
          579,
          65000,
          120000,
          90000,
          190000,
          140000,
          75000,
          160000,
          130000,
          60000,
          220000,
          80000,
          130000,
          65000,
          170000,
          110000,
          50000,
          210000,
          100000,
          50000,
          160000,
          70000,
          190000,
          140000,
          45000,
          120000,
          60000,
          150000,
          70000,
          103579,
          163780,
          137878,
          92438,
          84181,
          174821,
          126520,
          152168,
          190543,
          131547,
          192292,
          52807,
          174938,
          124071,
          73640,
          156486,
          138859,
          52831,
          182392,
          151078,
          100679,
          158966,
          167924,
          113334,
          194778,
          77606,
          140010,
          142421,
          192756,
          106686,
          186794,
          150729,
          171652,
          88552,
          119918,
          174985,
          174336,
          72389,
          163978,
          166958,
          145052,
          195270,
          122970,
          80247,
          177862,
          91062,
          114290,
          128999,
          162454,
          122354,
          179756,
          73218,
          184480,
          132442,
          102828,
          150301,
          171468,
          147326,
          185982,
          108267,
          91397,
          100867,
          64182,
          182506,
          136986,
          136662,
          191510,
          177347,
          70397,
          146075,
          155795,
          132638,
          178684,
          106218,
          191239,
          65840,
          52779,
          185038,
          136449,
          110707,
          151670,
          167015,
          146508,
          190596,
          104378,
          70216,
          101733,
          55935,
          180367,
          135596,
          136062,
          191267,
          91397,
          82944,
          188288,
          141090,
          152726,
          124141,
          67556,
          182768,
          148727,
          91903,
          147708,
          163209,
          120288,
          170226,
          134979,
          137489,
          83577,
          117904,
          134482,
          184660,
          100151,
          88678,
          181285,
          154990,
          108204,
          175684,
          77766,
          192211,
          144647,
          162231,
          121120,
          79652,
          177002,
          87584,
          131860,
          182013,
          108799,
          135378,
          183530,
          150901,
          82697,
          194638,
          130356,
          152560,
          121432,
          63789,
          183690,
          151310,
          100358,
          148437,
          168691,
          50000,
          100000,
          60000,
          90000,
          70000,
          170000,
          130000,
          50000,
          120000,
          80000,
          200000,
          170000,
          80000,
          80000,
          60000,
          50000,
          160000,
          120000,
          40000,
          100000,
          75000,
          140000,
          50000,
          110000,
          45000,
          55000,
          130000,
          50000,
          80000,
          45000,
          32000,
          120000,
          65000,
          95000,
          80000,
          38000,
          110000,
          45000,
          89000,
          32000,
          70000,
          150000,
          40000,
          105000,
          65000,
          140000,
          50000,
          35000,
          115000,
          70000,
          80000,
          30000,
          135000,
          40000,
          105000,
          35000,
          120000,
          55000,
          45000,
          140000,
          55000,
          115000,
          70000,
          38000,
          135000,
          45000,
          85000,
          32000,
          150000,
          65000,
          32000,
          120000,
          40000,
          95000,
          140000,
          55000,
          80000,
          135000,
          95000,
          32000,
          70000,
          120000,
          70000,
          33000,
          115000,
          40000,
          135000,
          65000,
          140000,
          60000,
          100000,
          150000,
          55000,
          30000,
          70000,
          90000,
          40000,
          130000,
          75000,
          35000,
          110000,
          65000,
          180000,
          35000,
          120000,
          75000,
          30000,
          160000,
          60000,
          85000,
          70000,
          50000,
          140000,
          35000,
          110000,
          65000,
          60000,
          100000,
          150000,
          55000,
          30000,
          70000,
          90000,
          40000,
          130000,
          75000,
          35000,
          110000,
          65000,
          180000,
          35000,
          120000,
          75000,
          30000,
          160000,
          60000,
          85000,
          70000,
          50000,
          140000,
          55000,
          90000,
          160000,
          60000,
          25000,
          100000,
          45000,
          140000,
          30000,
          120000,
          190000,
          130000,
          85000,
          25000,
          60000,
          100000,
          75000,
          30000,
          80000,
          60000,
          130000,
          45000,
          25000,
          90000,
          170000,
          40000,
          150000,
          95000,
          25000,
          110000,
          70000,
          220000,
          35000,
          140000,
          110000,
          25000,
          80000,
          120000,
          90000,
          45000,
          85000,
          62000,
          138000,
          47000,
          26000,
          95000,
          174000,
          41000,
          162000,
          99000,
          26000,
          117000,
          75000,
          225000,
          36000,
          146000,
          113000,
          26000,
          168000,
          85000,
          122000,
          96000,
          49000,
          162000,
          95000,
          26000,
          68000,
          127000,
          47000,
          155000,
          92000,
          26000,
          125000,
          71000,
          240000,
          36000,
          152000,
          119000,
          26000,
          190000,
          85000,
          131000,
          101000,
          49000,
          182000,
          62000,
          137000,
          112000,
          25000,
          91000,
          179000,
          74000,
          228000,
          37000,
          193000,
          25000,
          204000,
          61000,
          157000,
          92000,
          52000,
          58000,
          219000,
          77000,
          104000,
          25000,
          183000,
          95000,
          45000,
          70000,
          110000,
          35000,
          60000,
          50000,
          120000,
          32000,
          65000,
          35000,
          130000,
          95000,
          43000,
          60000,
          80000,
          48000,
          125000,
          85000,
          42000,
          70000,
          32000,
          80000,
          42000,
          90000,
          40000,
          110000,
          105000,
          50000,
          95000,
          60000,
          40000,
          55000,
          70000,
          32000,
          90000,
          50000,
          32000,
          80000,
          45000,
          65000,
          50000,
          45000,
          95000,
          65000,
          38000,
          125000,
          90000,
          43000,
          60000,
          60000,
          35000,
          95000,
          42000,
          100000,
          32000,
          130000,
          43000,
          32000,
          500,
          45000,
          120000,
          55000,
          70000,
          140000,
          30000,
          100000,
          50000,
          55000,
          130000,
          45000,
          48000,
          125000,
          57000,
          72000,
          145000,
          31000,
          105000,
          52000,
          57000,
          135000,
          48000,
          125000,
          85000,
          110000,
          170000,
          140000,
          30000,
          95000,
          80000,
          155000,
          25000,
          160000,
          65000,
          120000,
          105000,
          25000,
          250000,
          120000,
          80000,
          100000,
          170000,
          50000,
          140000,
          55000,
          80000,
          60000,
          150000,
          80000,
          120000,
          130000,
          50000,
          180000,
          60000,
          110000,
          25000,
          100000,
          55000,
          140000,
          25000,
          150000,
          170000,
          55000,
          65000,
          60000,
          150000,
          50000,
          120000,
          85000,
          160000,
          55000,
          100000,
          120000,
          185000,
          65000,
          130000,
          25000,
          100000,
          55000,
          150000,
          25000,
          160000,
          170000,
          55000,
          65000,
          60000,
          160000,
          50000,
          120000,
          85000,
          160000,
          55000,
          100000,
          120000,
          50000,
          185000,
          65000,
          130000,
          150000,
          160000,
          170000,
          55000,
          65000,
          60000,
          160000,
          120000,
          100000,
          120000,
          130000,
          35000,
          160000,
          50000,
          100000,
          80000,
          60000,
          90000,
          170000,
          60000,
          120000,
          25000,
          180000,
          200000,
          50000,
          140000,
          70000,
          130000,
          80000,
          160000,
          55000,
          85000,
          60000,
          120000,
          45000,
          80000,
          150000,
          65000,
          100000,
          90000,
          40000,
          110000,
          170000,
          75000,
          120000,
          30000,
          180000,
          200000,
          50000,
          65000,
          110000,
          28000,
          190000,
          210000,
          55000,
          170000,
          60000,
          90000,
          160000,
          75000,
          120000,
          65000,
          100000,
          150000,
          120000,
          120000,
          65000,
          100000,
          150000,
          65000,
          120000,
          45000,
          80000,
          150000,
          125000,
          70000,
          110000,
          160000,
          75000,
          120000,
          50000,
          85000,
          155000,
          70000,
          115000,
          95000,
          40000,
          115000,
          175000,
          135000,
          75000,
          185000,
          210000,
          45000,
          145000,
          70000,
          120000,
          195000,
          215000,
          55000,
          185000,
          95000,
          170000,
          65000,
          75000,
          185000,
          120000,
          60000,
          145000,
          135000,
          70000,
          175000,
          45000,
          80000,
          90000,
          35000,
          120000,
          60000,
          70000,
          40000,
          150000,
          35000,
          130000,
          35000,
          180000,
          60000,
          75000,
          50000,
          100000,
          40000,
          110000,
          55000,
          170000,
          40000,
          95000,
          35000,
          140000,
          70000,
          50000,
          75000,
          40000,
          120000,
          40000,
          160000,
          55000,
          100000,
          35000,
          80000,
          90000,
          35000,
          130000,
          70000,
          40000,
          35000,
          180000,
          40000,
          75000,
          120000,
          50000,
          90000,
          35000,
          110000,
          45000,
          70000,
          30000,
          130000,
          60000,
          150000,
          80000,
          35000,
          160000,
          40000,
          40000,
          35000,
          100000,
          70000,
          50000,
          120000,
          40000,
          50000,
          140000,
          100000,
          30000,
          75000,
          40000,
          180000,
          80000,
          120000,
          45000,
          90000,
          55000,
          160000,
          40000,
          40000,
          110000,
          75000,
          150000,
          70000,
          190000,
          40000,
          75000,
          140000,
          80000,
          35000,
          130000,
          40000,
          90000,
          55000,
          180000,
          45000,
          190000,
          50000,
          55000,
          130000,
          35000,
          120000,
          95000,
          35000,
          140000,
          40000,
          80000,
          55000,
          190000,
          75000,
          170000,
          110000,
          40000,
          150000,
          55000,
          70000,
          160000,
          35000,
          100000,
          90000,
          50000,
          140000,
          40000,
          180000,
          90000,
          35000,
          120000,
          45000,
          80000,
          180000,
          75000,
          70000,
          150000,
          120000,
          45000,
          160000,
          70000,
          75000,
          170000,
          110000,
          80000,
          55000,
          150000,
          190000,
          80000,
          35000,
          45000,
          90000,
          55000,
          190000,
          90000,
          200000,
          40000,
          70000,
          160000,
          35000,
          130000,
          95000,
          35000,
          140000,
          40000,
          90000,
          55000,
          190000,
          75000,
          200000,
          50000,
          55000,
          140000,
          35000,
          130000,
          100000,
          35000,
          150000,
          40000,
          80000,
          90000,
          70000
         ],
         "y0": " ",
         "yaxis": "y"
        }
       ],
       "layout": {
        "boxmode": "group",
        "legend": {
         "tracegroupgap": 0
        },
        "margin": {
         "t": 60
        },
        "template": {
         "data": {
          "bar": [
           {
            "error_x": {
             "color": "#2a3f5f"
            },
            "error_y": {
             "color": "#2a3f5f"
            },
            "marker": {
             "line": {
              "color": "#E5ECF6",
              "width": 0.5
             },
             "pattern": {
              "fillmode": "overlay",
              "size": 10,
              "solidity": 0.2
             }
            },
            "type": "bar"
           }
          ],
          "barpolar": [
           {
            "marker": {
             "line": {
              "color": "#E5ECF6",
              "width": 0.5
             },
             "pattern": {
              "fillmode": "overlay",
              "size": 10,
              "solidity": 0.2
             }
            },
            "type": "barpolar"
           }
          ],
          "carpet": [
           {
            "aaxis": {
             "endlinecolor": "#2a3f5f",
             "gridcolor": "white",
             "linecolor": "white",
             "minorgridcolor": "white",
             "startlinecolor": "#2a3f5f"
            },
            "baxis": {
             "endlinecolor": "#2a3f5f",
             "gridcolor": "white",
             "linecolor": "white",
             "minorgridcolor": "white",
             "startlinecolor": "#2a3f5f"
            },
            "type": "carpet"
           }
          ],
          "choropleth": [
           {
            "colorbar": {
             "outlinewidth": 0,
             "ticks": ""
            },
            "type": "choropleth"
           }
          ],
          "contour": [
           {
            "colorbar": {
             "outlinewidth": 0,
             "ticks": ""
            },
            "colorscale": [
             [
              0,
              "#0d0887"
             ],
             [
              0.1111111111111111,
              "#46039f"
             ],
             [
              0.2222222222222222,
              "#7201a8"
             ],
             [
              0.3333333333333333,
              "#9c179e"
             ],
             [
              0.4444444444444444,
              "#bd3786"
             ],
             [
              0.5555555555555556,
              "#d8576b"
             ],
             [
              0.6666666666666666,
              "#ed7953"
             ],
             [
              0.7777777777777778,
              "#fb9f3a"
             ],
             [
              0.8888888888888888,
              "#fdca26"
             ],
             [
              1,
              "#f0f921"
             ]
            ],
            "type": "contour"
           }
          ],
          "contourcarpet": [
           {
            "colorbar": {
             "outlinewidth": 0,
             "ticks": ""
            },
            "type": "contourcarpet"
           }
          ],
          "heatmap": [
           {
            "colorbar": {
             "outlinewidth": 0,
             "ticks": ""
            },
            "colorscale": [
             [
              0,
              "#0d0887"
             ],
             [
              0.1111111111111111,
              "#46039f"
             ],
             [
              0.2222222222222222,
              "#7201a8"
             ],
             [
              0.3333333333333333,
              "#9c179e"
             ],
             [
              0.4444444444444444,
              "#bd3786"
             ],
             [
              0.5555555555555556,
              "#d8576b"
             ],
             [
              0.6666666666666666,
              "#ed7953"
             ],
             [
              0.7777777777777778,
              "#fb9f3a"
             ],
             [
              0.8888888888888888,
              "#fdca26"
             ],
             [
              1,
              "#f0f921"
             ]
            ],
            "type": "heatmap"
           }
          ],
          "heatmapgl": [
           {
            "colorbar": {
             "outlinewidth": 0,
             "ticks": ""
            },
            "colorscale": [
             [
              0,
              "#0d0887"
             ],
             [
              0.1111111111111111,
              "#46039f"
             ],
             [
              0.2222222222222222,
              "#7201a8"
             ],
             [
              0.3333333333333333,
              "#9c179e"
             ],
             [
              0.4444444444444444,
              "#bd3786"
             ],
             [
              0.5555555555555556,
              "#d8576b"
             ],
             [
              0.6666666666666666,
              "#ed7953"
             ],
             [
              0.7777777777777778,
              "#fb9f3a"
             ],
             [
              0.8888888888888888,
              "#fdca26"
             ],
             [
              1,
              "#f0f921"
             ]
            ],
            "type": "heatmapgl"
           }
          ],
          "histogram": [
           {
            "marker": {
             "pattern": {
              "fillmode": "overlay",
              "size": 10,
              "solidity": 0.2
             }
            },
            "type": "histogram"
           }
          ],
          "histogram2d": [
           {
            "colorbar": {
             "outlinewidth": 0,
             "ticks": ""
            },
            "colorscale": [
             [
              0,
              "#0d0887"
             ],
             [
              0.1111111111111111,
              "#46039f"
             ],
             [
              0.2222222222222222,
              "#7201a8"
             ],
             [
              0.3333333333333333,
              "#9c179e"
             ],
             [
              0.4444444444444444,
              "#bd3786"
             ],
             [
              0.5555555555555556,
              "#d8576b"
             ],
             [
              0.6666666666666666,
              "#ed7953"
             ],
             [
              0.7777777777777778,
              "#fb9f3a"
             ],
             [
              0.8888888888888888,
              "#fdca26"
             ],
             [
              1,
              "#f0f921"
             ]
            ],
            "type": "histogram2d"
           }
          ],
          "histogram2dcontour": [
           {
            "colorbar": {
             "outlinewidth": 0,
             "ticks": ""
            },
            "colorscale": [
             [
              0,
              "#0d0887"
             ],
             [
              0.1111111111111111,
              "#46039f"
             ],
             [
              0.2222222222222222,
              "#7201a8"
             ],
             [
              0.3333333333333333,
              "#9c179e"
             ],
             [
              0.4444444444444444,
              "#bd3786"
             ],
             [
              0.5555555555555556,
              "#d8576b"
             ],
             [
              0.6666666666666666,
              "#ed7953"
             ],
             [
              0.7777777777777778,
              "#fb9f3a"
             ],
             [
              0.8888888888888888,
              "#fdca26"
             ],
             [
              1,
              "#f0f921"
             ]
            ],
            "type": "histogram2dcontour"
           }
          ],
          "mesh3d": [
           {
            "colorbar": {
             "outlinewidth": 0,
             "ticks": ""
            },
            "type": "mesh3d"
           }
          ],
          "parcoords": [
           {
            "line": {
             "colorbar": {
              "outlinewidth": 0,
              "ticks": ""
             }
            },
            "type": "parcoords"
           }
          ],
          "pie": [
           {
            "automargin": true,
            "type": "pie"
           }
          ],
          "scatter": [
           {
            "fillpattern": {
             "fillmode": "overlay",
             "size": 10,
             "solidity": 0.2
            },
            "type": "scatter"
           }
          ],
          "scatter3d": [
           {
            "line": {
             "colorbar": {
              "outlinewidth": 0,
              "ticks": ""
             }
            },
            "marker": {
             "colorbar": {
              "outlinewidth": 0,
              "ticks": ""
             }
            },
            "type": "scatter3d"
           }
          ],
          "scattercarpet": [
           {
            "marker": {
             "colorbar": {
              "outlinewidth": 0,
              "ticks": ""
             }
            },
            "type": "scattercarpet"
           }
          ],
          "scattergeo": [
           {
            "marker": {
             "colorbar": {
              "outlinewidth": 0,
              "ticks": ""
             }
            },
            "type": "scattergeo"
           }
          ],
          "scattergl": [
           {
            "marker": {
             "colorbar": {
              "outlinewidth": 0,
              "ticks": ""
             }
            },
            "type": "scattergl"
           }
          ],
          "scattermapbox": [
           {
            "marker": {
             "colorbar": {
              "outlinewidth": 0,
              "ticks": ""
             }
            },
            "type": "scattermapbox"
           }
          ],
          "scatterpolar": [
           {
            "marker": {
             "colorbar": {
              "outlinewidth": 0,
              "ticks": ""
             }
            },
            "type": "scatterpolar"
           }
          ],
          "scatterpolargl": [
           {
            "marker": {
             "colorbar": {
              "outlinewidth": 0,
              "ticks": ""
             }
            },
            "type": "scatterpolargl"
           }
          ],
          "scatterternary": [
           {
            "marker": {
             "colorbar": {
              "outlinewidth": 0,
              "ticks": ""
             }
            },
            "type": "scatterternary"
           }
          ],
          "surface": [
           {
            "colorbar": {
             "outlinewidth": 0,
             "ticks": ""
            },
            "colorscale": [
             [
              0,
              "#0d0887"
             ],
             [
              0.1111111111111111,
              "#46039f"
             ],
             [
              0.2222222222222222,
              "#7201a8"
             ],
             [
              0.3333333333333333,
              "#9c179e"
             ],
             [
              0.4444444444444444,
              "#bd3786"
             ],
             [
              0.5555555555555556,
              "#d8576b"
             ],
             [
              0.6666666666666666,
              "#ed7953"
             ],
             [
              0.7777777777777778,
              "#fb9f3a"
             ],
             [
              0.8888888888888888,
              "#fdca26"
             ],
             [
              1,
              "#f0f921"
             ]
            ],
            "type": "surface"
           }
          ],
          "table": [
           {
            "cells": {
             "fill": {
              "color": "#EBF0F8"
             },
             "line": {
              "color": "white"
             }
            },
            "header": {
             "fill": {
              "color": "#C8D4E3"
             },
             "line": {
              "color": "white"
             }
            },
            "type": "table"
           }
          ]
         },
         "layout": {
          "annotationdefaults": {
           "arrowcolor": "#2a3f5f",
           "arrowhead": 0,
           "arrowwidth": 1
          },
          "autotypenumbers": "strict",
          "coloraxis": {
           "colorbar": {
            "outlinewidth": 0,
            "ticks": ""
           }
          },
          "colorscale": {
           "diverging": [
            [
             0,
             "#8e0152"
            ],
            [
             0.1,
             "#c51b7d"
            ],
            [
             0.2,
             "#de77ae"
            ],
            [
             0.3,
             "#f1b6da"
            ],
            [
             0.4,
             "#fde0ef"
            ],
            [
             0.5,
             "#f7f7f7"
            ],
            [
             0.6,
             "#e6f5d0"
            ],
            [
             0.7,
             "#b8e186"
            ],
            [
             0.8,
             "#7fbc41"
            ],
            [
             0.9,
             "#4d9221"
            ],
            [
             1,
             "#276419"
            ]
           ],
           "sequential": [
            [
             0,
             "#0d0887"
            ],
            [
             0.1111111111111111,
             "#46039f"
            ],
            [
             0.2222222222222222,
             "#7201a8"
            ],
            [
             0.3333333333333333,
             "#9c179e"
            ],
            [
             0.4444444444444444,
             "#bd3786"
            ],
            [
             0.5555555555555556,
             "#d8576b"
            ],
            [
             0.6666666666666666,
             "#ed7953"
            ],
            [
             0.7777777777777778,
             "#fb9f3a"
            ],
            [
             0.8888888888888888,
             "#fdca26"
            ],
            [
             1,
             "#f0f921"
            ]
           ],
           "sequentialminus": [
            [
             0,
             "#0d0887"
            ],
            [
             0.1111111111111111,
             "#46039f"
            ],
            [
             0.2222222222222222,
             "#7201a8"
            ],
            [
             0.3333333333333333,
             "#9c179e"
            ],
            [
             0.4444444444444444,
             "#bd3786"
            ],
            [
             0.5555555555555556,
             "#d8576b"
            ],
            [
             0.6666666666666666,
             "#ed7953"
            ],
            [
             0.7777777777777778,
             "#fb9f3a"
            ],
            [
             0.8888888888888888,
             "#fdca26"
            ],
            [
             1,
             "#f0f921"
            ]
           ]
          },
          "colorway": [
           "#636efa",
           "#EF553B",
           "#00cc96",
           "#ab63fa",
           "#FFA15A",
           "#19d3f3",
           "#FF6692",
           "#B6E880",
           "#FF97FF",
           "#FECB52"
          ],
          "font": {
           "color": "#2a3f5f"
          },
          "geo": {
           "bgcolor": "white",
           "lakecolor": "white",
           "landcolor": "#E5ECF6",
           "showlakes": true,
           "showland": true,
           "subunitcolor": "white"
          },
          "hoverlabel": {
           "align": "left"
          },
          "hovermode": "closest",
          "mapbox": {
           "style": "light"
          },
          "paper_bgcolor": "white",
          "plot_bgcolor": "#E5ECF6",
          "polar": {
           "angularaxis": {
            "gridcolor": "white",
            "linecolor": "white",
            "ticks": ""
           },
           "bgcolor": "#E5ECF6",
           "radialaxis": {
            "gridcolor": "white",
            "linecolor": "white",
            "ticks": ""
           }
          },
          "scene": {
           "xaxis": {
            "backgroundcolor": "#E5ECF6",
            "gridcolor": "white",
            "gridwidth": 2,
            "linecolor": "white",
            "showbackground": true,
            "ticks": "",
            "zerolinecolor": "white"
           },
           "yaxis": {
            "backgroundcolor": "#E5ECF6",
            "gridcolor": "white",
            "gridwidth": 2,
            "linecolor": "white",
            "showbackground": true,
            "ticks": "",
            "zerolinecolor": "white"
           },
           "zaxis": {
            "backgroundcolor": "#E5ECF6",
            "gridcolor": "white",
            "gridwidth": 2,
            "linecolor": "white",
            "showbackground": true,
            "ticks": "",
            "zerolinecolor": "white"
           }
          },
          "shapedefaults": {
           "line": {
            "color": "#2a3f5f"
           }
          },
          "ternary": {
           "aaxis": {
            "gridcolor": "white",
            "linecolor": "white",
            "ticks": ""
           },
           "baxis": {
            "gridcolor": "white",
            "linecolor": "white",
            "ticks": ""
           },
           "bgcolor": "#E5ECF6",
           "caxis": {
            "gridcolor": "white",
            "linecolor": "white",
            "ticks": ""
           }
          },
          "title": {
           "x": 0.05
          },
          "xaxis": {
           "automargin": true,
           "gridcolor": "white",
           "linecolor": "white",
           "ticks": "",
           "title": {
            "standoff": 15
           },
           "zerolinecolor": "white",
           "zerolinewidth": 2
          },
          "yaxis": {
           "automargin": true,
           "gridcolor": "white",
           "linecolor": "white",
           "ticks": "",
           "title": {
            "standoff": 15
           },
           "zerolinecolor": "white",
           "zerolinewidth": 2
          }
         }
        },
        "xaxis": {
         "anchor": "y",
         "domain": [
          0,
          1
         ],
         "title": {
          "text": "variable"
         }
        },
        "yaxis": {
         "anchor": "x",
         "domain": [
          0,
          1
         ],
         "title": {
          "text": "value"
         }
        }
       }
      },
      "text/html": [
       "<div>                            <div id=\"9029d8fc-582f-4297-86df-bcdb324d7d72\" class=\"plotly-graph-div\" style=\"height:525px; width:100%;\"></div>            <script type=\"text/javascript\">                require([\"plotly\"], function(Plotly) {                    window.PLOTLYENV=window.PLOTLYENV || {};                                    if (document.getElementById(\"9029d8fc-582f-4297-86df-bcdb324d7d72\")) {                    Plotly.newPlot(                        \"9029d8fc-582f-4297-86df-bcdb324d7d72\",                        [{\"alignmentgroup\":\"True\",\"hovertemplate\":\"variable=%{x}\\u003cbr\\u003evalue=%{y}\\u003cextra\\u003e\\u003c\\u002fextra\\u003e\",\"legendgroup\":\"\",\"marker\":{\"color\":\"#636efa\"},\"name\":\"\",\"notched\":false,\"offsetgroup\":\"\",\"orientation\":\"v\",\"showlegend\":false,\"x\":[\"Salary\",\"Salary\",\"Salary\",\"Salary\",\"Salary\",\"Salary\",\"Salary\",\"Salary\",\"Salary\",\"Salary\",\"Salary\",\"Salary\",\"Salary\",\"Salary\",\"Salary\",\"Salary\",\"Salary\",\"Salary\",\"Salary\",\"Salary\",\"Salary\",\"Salary\",\"Salary\",\"Salary\",\"Salary\",\"Salary\",\"Salary\",\"Salary\",\"Salary\",\"Salary\",\"Salary\",\"Salary\",\"Salary\",\"Salary\",\"Salary\",\"Salary\",\"Salary\",\"Salary\",\"Salary\",\"Salary\",\"Salary\",\"Salary\",\"Salary\",\"Salary\",\"Salary\",\"Salary\",\"Salary\",\"Salary\",\"Salary\",\"Salary\",\"Salary\",\"Salary\",\"Salary\",\"Salary\",\"Salary\",\"Salary\",\"Salary\",\"Salary\",\"Salary\",\"Salary\",\"Salary\",\"Salary\",\"Salary\",\"Salary\",\"Salary\",\"Salary\",\"Salary\",\"Salary\",\"Salary\",\"Salary\",\"Salary\",\"Salary\",\"Salary\",\"Salary\",\"Salary\",\"Salary\",\"Salary\",\"Salary\",\"Salary\",\"Salary\",\"Salary\",\"Salary\",\"Salary\",\"Salary\",\"Salary\",\"Salary\",\"Salary\",\"Salary\",\"Salary\",\"Salary\",\"Salary\",\"Salary\",\"Salary\",\"Salary\",\"Salary\",\"Salary\",\"Salary\",\"Salary\",\"Salary\",\"Salary\",\"Salary\",\"Salary\",\"Salary\",\"Salary\",\"Salary\",\"Salary\",\"Salary\",\"Salary\",\"Salary\",\"Salary\",\"Salary\",\"Salary\",\"Salary\",\"Salary\",\"Salary\",\"Salary\",\"Salary\",\"Salary\",\"Salary\",\"Salary\",\"Salary\",\"Salary\",\"Salary\",\"Salary\",\"Salary\",\"Salary\",\"Salary\",\"Salary\",\"Salary\",\"Salary\",\"Salary\",\"Salary\",\"Salary\",\"Salary\",\"Salary\",\"Salary\",\"Salary\",\"Salary\",\"Salary\",\"Salary\",\"Salary\",\"Salary\",\"Salary\",\"Salary\",\"Salary\",\"Salary\",\"Salary\",\"Salary\",\"Salary\",\"Salary\",\"Salary\",\"Salary\",\"Salary\",\"Salary\",\"Salary\",\"Salary\",\"Salary\",\"Salary\",\"Salary\",\"Salary\",\"Salary\",\"Salary\",\"Salary\",\"Salary\",\"Salary\",\"Salary\",\"Salary\",\"Salary\",\"Salary\",\"Salary\",\"Salary\",\"Salary\",\"Salary\",\"Salary\",\"Salary\",\"Salary\",\"Salary\",\"Salary\",\"Salary\",\"Salary\",\"Salary\",\"Salary\",\"Salary\",\"Salary\",\"Salary\",\"Salary\",\"Salary\",\"Salary\",\"Salary\",\"Salary\",\"Salary\",\"Salary\",\"Salary\",\"Salary\",\"Salary\",\"Salary\",\"Salary\",\"Salary\",\"Salary\",\"Salary\",\"Salary\",\"Salary\",\"Salary\",\"Salary\",\"Salary\",\"Salary\",\"Salary\",\"Salary\",\"Salary\",\"Salary\",\"Salary\",\"Salary\",\"Salary\",\"Salary\",\"Salary\",\"Salary\",\"Salary\",\"Salary\",\"Salary\",\"Salary\",\"Salary\",\"Salary\",\"Salary\",\"Salary\",\"Salary\",\"Salary\",\"Salary\",\"Salary\",\"Salary\",\"Salary\",\"Salary\",\"Salary\",\"Salary\",\"Salary\",\"Salary\",\"Salary\",\"Salary\",\"Salary\",\"Salary\",\"Salary\",\"Salary\",\"Salary\",\"Salary\",\"Salary\",\"Salary\",\"Salary\",\"Salary\",\"Salary\",\"Salary\",\"Salary\",\"Salary\",\"Salary\",\"Salary\",\"Salary\",\"Salary\",\"Salary\",\"Salary\",\"Salary\",\"Salary\",\"Salary\",\"Salary\",\"Salary\",\"Salary\",\"Salary\",\"Salary\",\"Salary\",\"Salary\",\"Salary\",\"Salary\",\"Salary\",\"Salary\",\"Salary\",\"Salary\",\"Salary\",\"Salary\",\"Salary\",\"Salary\",\"Salary\",\"Salary\",\"Salary\",\"Salary\",\"Salary\",\"Salary\",\"Salary\",\"Salary\",\"Salary\",\"Salary\",\"Salary\",\"Salary\",\"Salary\",\"Salary\",\"Salary\",\"Salary\",\"Salary\",\"Salary\",\"Salary\",\"Salary\",\"Salary\",\"Salary\",\"Salary\",\"Salary\",\"Salary\",\"Salary\",\"Salary\",\"Salary\",\"Salary\",\"Salary\",\"Salary\",\"Salary\",\"Salary\",\"Salary\",\"Salary\",\"Salary\",\"Salary\",\"Salary\",\"Salary\",\"Salary\",\"Salary\",\"Salary\",\"Salary\",\"Salary\",\"Salary\",\"Salary\",\"Salary\",\"Salary\",\"Salary\",\"Salary\",\"Salary\",\"Salary\",\"Salary\",\"Salary\",\"Salary\",\"Salary\",\"Salary\",\"Salary\",\"Salary\",\"Salary\",\"Salary\",\"Salary\",\"Salary\",\"Salary\",\"Salary\",\"Salary\",\"Salary\",\"Salary\",\"Salary\",\"Salary\",\"Salary\",\"Salary\",\"Salary\",\"Salary\",\"Salary\",\"Salary\",\"Salary\",\"Salary\",\"Salary\",\"Salary\",\"Salary\",\"Salary\",\"Salary\",\"Salary\",\"Salary\",\"Salary\",\"Salary\",\"Salary\",\"Salary\",\"Salary\",\"Salary\",\"Salary\",\"Salary\",\"Salary\",\"Salary\",\"Salary\",\"Salary\",\"Salary\",\"Salary\",\"Salary\",\"Salary\",\"Salary\",\"Salary\",\"Salary\",\"Salary\",\"Salary\",\"Salary\",\"Salary\",\"Salary\",\"Salary\",\"Salary\",\"Salary\",\"Salary\",\"Salary\",\"Salary\",\"Salary\",\"Salary\",\"Salary\",\"Salary\",\"Salary\",\"Salary\",\"Salary\",\"Salary\",\"Salary\",\"Salary\",\"Salary\",\"Salary\",\"Salary\",\"Salary\",\"Salary\",\"Salary\",\"Salary\",\"Salary\",\"Salary\",\"Salary\",\"Salary\",\"Salary\",\"Salary\",\"Salary\",\"Salary\",\"Salary\",\"Salary\",\"Salary\",\"Salary\",\"Salary\",\"Salary\",\"Salary\",\"Salary\",\"Salary\",\"Salary\",\"Salary\",\"Salary\",\"Salary\",\"Salary\",\"Salary\",\"Salary\",\"Salary\",\"Salary\",\"Salary\",\"Salary\",\"Salary\",\"Salary\",\"Salary\",\"Salary\",\"Salary\",\"Salary\",\"Salary\",\"Salary\",\"Salary\",\"Salary\",\"Salary\",\"Salary\",\"Salary\",\"Salary\",\"Salary\",\"Salary\",\"Salary\",\"Salary\",\"Salary\",\"Salary\",\"Salary\",\"Salary\",\"Salary\",\"Salary\",\"Salary\",\"Salary\",\"Salary\",\"Salary\",\"Salary\",\"Salary\",\"Salary\",\"Salary\",\"Salary\",\"Salary\",\"Salary\",\"Salary\",\"Salary\",\"Salary\",\"Salary\",\"Salary\",\"Salary\",\"Salary\",\"Salary\",\"Salary\",\"Salary\",\"Salary\",\"Salary\",\"Salary\",\"Salary\",\"Salary\",\"Salary\",\"Salary\",\"Salary\",\"Salary\",\"Salary\",\"Salary\",\"Salary\",\"Salary\",\"Salary\",\"Salary\",\"Salary\",\"Salary\",\"Salary\",\"Salary\",\"Salary\",\"Salary\",\"Salary\",\"Salary\",\"Salary\",\"Salary\",\"Salary\",\"Salary\",\"Salary\",\"Salary\",\"Salary\",\"Salary\",\"Salary\",\"Salary\",\"Salary\",\"Salary\",\"Salary\",\"Salary\",\"Salary\",\"Salary\",\"Salary\",\"Salary\",\"Salary\",\"Salary\",\"Salary\",\"Salary\",\"Salary\",\"Salary\",\"Salary\",\"Salary\",\"Salary\",\"Salary\",\"Salary\",\"Salary\",\"Salary\",\"Salary\",\"Salary\",\"Salary\",\"Salary\",\"Salary\",\"Salary\",\"Salary\",\"Salary\",\"Salary\",\"Salary\",\"Salary\",\"Salary\",\"Salary\",\"Salary\",\"Salary\",\"Salary\",\"Salary\",\"Salary\",\"Salary\",\"Salary\",\"Salary\",\"Salary\",\"Salary\",\"Salary\",\"Salary\",\"Salary\",\"Salary\",\"Salary\",\"Salary\",\"Salary\",\"Salary\",\"Salary\",\"Salary\",\"Salary\",\"Salary\",\"Salary\",\"Salary\",\"Salary\",\"Salary\",\"Salary\",\"Salary\",\"Salary\",\"Salary\",\"Salary\",\"Salary\",\"Salary\",\"Salary\",\"Salary\",\"Salary\",\"Salary\",\"Salary\",\"Salary\",\"Salary\",\"Salary\",\"Salary\",\"Salary\",\"Salary\",\"Salary\",\"Salary\",\"Salary\",\"Salary\",\"Salary\",\"Salary\",\"Salary\",\"Salary\",\"Salary\",\"Salary\",\"Salary\",\"Salary\",\"Salary\",\"Salary\",\"Salary\",\"Salary\",\"Salary\",\"Salary\",\"Salary\",\"Salary\",\"Salary\",\"Salary\",\"Salary\",\"Salary\",\"Salary\",\"Salary\",\"Salary\",\"Salary\",\"Salary\",\"Salary\",\"Salary\",\"Salary\",\"Salary\",\"Salary\",\"Salary\",\"Salary\",\"Salary\",\"Salary\",\"Salary\",\"Salary\",\"Salary\",\"Salary\",\"Salary\",\"Salary\",\"Salary\",\"Salary\",\"Salary\",\"Salary\",\"Salary\",\"Salary\",\"Salary\",\"Salary\",\"Salary\",\"Salary\",\"Salary\",\"Salary\",\"Salary\",\"Salary\",\"Salary\",\"Salary\",\"Salary\",\"Salary\",\"Salary\",\"Salary\",\"Salary\",\"Salary\",\"Salary\",\"Salary\",\"Salary\",\"Salary\",\"Salary\",\"Salary\",\"Salary\",\"Salary\",\"Salary\",\"Salary\",\"Salary\",\"Salary\",\"Salary\",\"Salary\",\"Salary\",\"Salary\",\"Salary\",\"Salary\",\"Salary\",\"Salary\",\"Salary\",\"Salary\",\"Salary\",\"Salary\",\"Salary\",\"Salary\",\"Salary\",\"Salary\",\"Salary\",\"Salary\",\"Salary\",\"Salary\",\"Salary\",\"Salary\",\"Salary\",\"Salary\",\"Salary\",\"Salary\",\"Salary\",\"Salary\",\"Salary\",\"Salary\",\"Salary\",\"Salary\",\"Salary\",\"Salary\",\"Salary\",\"Salary\",\"Salary\",\"Salary\",\"Salary\",\"Salary\",\"Salary\",\"Salary\",\"Salary\",\"Salary\",\"Salary\",\"Salary\",\"Salary\",\"Salary\",\"Salary\",\"Salary\",\"Salary\",\"Salary\",\"Salary\",\"Salary\",\"Salary\",\"Salary\",\"Salary\",\"Salary\",\"Salary\",\"Salary\",\"Salary\",\"Salary\",\"Salary\",\"Salary\",\"Salary\",\"Salary\",\"Salary\",\"Salary\",\"Salary\",\"Salary\",\"Salary\",\"Salary\",\"Salary\",\"Salary\",\"Salary\",\"Salary\",\"Salary\",\"Salary\",\"Salary\",\"Salary\",\"Salary\",\"Salary\",\"Salary\",\"Salary\",\"Salary\",\"Salary\",\"Salary\",\"Salary\",\"Salary\",\"Salary\",\"Salary\",\"Salary\",\"Salary\",\"Salary\",\"Salary\",\"Salary\",\"Salary\",\"Salary\",\"Salary\",\"Salary\",\"Salary\",\"Salary\",\"Salary\",\"Salary\",\"Salary\",\"Salary\",\"Salary\",\"Salary\",\"Salary\",\"Salary\",\"Salary\",\"Salary\",\"Salary\",\"Salary\",\"Salary\",\"Salary\",\"Salary\",\"Salary\",\"Salary\",\"Salary\",\"Salary\",\"Salary\",\"Salary\",\"Salary\",\"Salary\",\"Salary\",\"Salary\",\"Salary\",\"Salary\",\"Salary\",\"Salary\",\"Salary\",\"Salary\",\"Salary\",\"Salary\",\"Salary\",\"Salary\",\"Salary\",\"Salary\",\"Salary\",\"Salary\",\"Salary\",\"Salary\",\"Salary\",\"Salary\",\"Salary\",\"Salary\",\"Salary\",\"Salary\",\"Salary\",\"Salary\",\"Salary\",\"Salary\",\"Salary\",\"Salary\",\"Salary\",\"Salary\",\"Salary\",\"Salary\",\"Salary\",\"Salary\",\"Salary\",\"Salary\",\"Salary\",\"Salary\",\"Salary\",\"Salary\",\"Salary\",\"Salary\",\"Salary\",\"Salary\",\"Salary\",\"Salary\",\"Salary\",\"Salary\",\"Salary\",\"Salary\",\"Salary\",\"Salary\",\"Salary\",\"Salary\",\"Salary\",\"Salary\",\"Salary\",\"Salary\",\"Salary\",\"Salary\",\"Salary\",\"Salary\",\"Salary\",\"Salary\",\"Salary\",\"Salary\",\"Salary\",\"Salary\",\"Salary\",\"Salary\",\"Salary\",\"Salary\",\"Salary\",\"Salary\",\"Salary\",\"Salary\",\"Salary\",\"Salary\",\"Salary\",\"Salary\",\"Salary\",\"Salary\",\"Salary\",\"Salary\",\"Salary\",\"Salary\",\"Salary\",\"Salary\",\"Salary\",\"Salary\",\"Salary\",\"Salary\",\"Salary\",\"Salary\",\"Salary\",\"Salary\",\"Salary\",\"Salary\",\"Salary\",\"Salary\",\"Salary\",\"Salary\",\"Salary\",\"Salary\",\"Salary\",\"Salary\",\"Salary\",\"Salary\",\"Salary\",\"Salary\",\"Salary\",\"Salary\",\"Salary\",\"Salary\",\"Salary\",\"Salary\",\"Salary\",\"Salary\",\"Salary\",\"Salary\",\"Salary\",\"Salary\",\"Salary\",\"Salary\",\"Salary\",\"Salary\",\"Salary\",\"Salary\",\"Salary\",\"Salary\",\"Salary\",\"Salary\",\"Salary\",\"Salary\",\"Salary\",\"Salary\",\"Salary\",\"Salary\",\"Salary\",\"Salary\",\"Salary\",\"Salary\",\"Salary\",\"Salary\",\"Salary\",\"Salary\",\"Salary\",\"Salary\",\"Salary\",\"Salary\",\"Salary\",\"Salary\",\"Salary\",\"Salary\",\"Salary\",\"Salary\",\"Salary\",\"Salary\",\"Salary\",\"Salary\",\"Salary\",\"Salary\",\"Salary\",\"Salary\",\"Salary\",\"Salary\",\"Salary\",\"Salary\",\"Salary\",\"Salary\",\"Salary\",\"Salary\",\"Salary\",\"Salary\",\"Salary\",\"Salary\",\"Salary\",\"Salary\",\"Salary\",\"Salary\",\"Salary\",\"Salary\",\"Salary\",\"Salary\",\"Salary\",\"Salary\",\"Salary\",\"Salary\",\"Salary\",\"Salary\",\"Salary\",\"Salary\",\"Salary\",\"Salary\",\"Salary\",\"Salary\",\"Salary\",\"Salary\",\"Salary\",\"Salary\",\"Salary\",\"Salary\",\"Salary\",\"Salary\",\"Salary\",\"Salary\",\"Salary\",\"Salary\",\"Salary\",\"Salary\",\"Salary\",\"Salary\",\"Salary\",\"Salary\",\"Salary\",\"Salary\",\"Salary\",\"Salary\",\"Salary\",\"Salary\",\"Salary\",\"Salary\",\"Salary\",\"Salary\",\"Salary\",\"Salary\",\"Salary\",\"Salary\",\"Salary\",\"Salary\",\"Salary\",\"Salary\",\"Salary\",\"Salary\",\"Salary\",\"Salary\",\"Salary\",\"Salary\",\"Salary\",\"Salary\",\"Salary\",\"Salary\",\"Salary\",\"Salary\",\"Salary\",\"Salary\",\"Salary\",\"Salary\",\"Salary\",\"Salary\",\"Salary\",\"Salary\",\"Salary\",\"Salary\",\"Salary\",\"Salary\",\"Salary\",\"Salary\",\"Salary\",\"Salary\",\"Salary\",\"Salary\",\"Salary\",\"Salary\",\"Salary\",\"Salary\",\"Salary\",\"Salary\",\"Salary\",\"Salary\",\"Salary\",\"Salary\",\"Salary\",\"Salary\",\"Salary\",\"Salary\",\"Salary\",\"Salary\",\"Salary\",\"Salary\",\"Salary\",\"Salary\",\"Salary\",\"Salary\",\"Salary\",\"Salary\",\"Salary\",\"Salary\",\"Salary\",\"Salary\",\"Salary\",\"Salary\",\"Salary\",\"Salary\",\"Salary\",\"Salary\",\"Salary\",\"Salary\",\"Salary\",\"Salary\",\"Salary\",\"Salary\",\"Salary\",\"Salary\",\"Salary\",\"Salary\",\"Salary\",\"Salary\",\"Salary\",\"Salary\",\"Salary\",\"Salary\",\"Salary\",\"Salary\",\"Salary\",\"Salary\",\"Salary\",\"Salary\",\"Salary\",\"Salary\",\"Salary\",\"Salary\",\"Salary\",\"Salary\",\"Salary\",\"Salary\",\"Salary\",\"Salary\",\"Salary\",\"Salary\",\"Salary\",\"Salary\",\"Salary\",\"Salary\",\"Salary\",\"Salary\",\"Salary\",\"Salary\",\"Salary\",\"Salary\",\"Salary\",\"Salary\",\"Salary\",\"Salary\",\"Salary\",\"Salary\",\"Salary\",\"Salary\",\"Salary\",\"Salary\",\"Salary\",\"Salary\",\"Salary\",\"Salary\",\"Salary\",\"Salary\",\"Salary\",\"Salary\",\"Salary\",\"Salary\",\"Salary\",\"Salary\",\"Salary\",\"Salary\",\"Salary\",\"Salary\",\"Salary\",\"Salary\",\"Salary\",\"Salary\",\"Salary\",\"Salary\",\"Salary\",\"Salary\",\"Salary\",\"Salary\",\"Salary\",\"Salary\",\"Salary\",\"Salary\",\"Salary\",\"Salary\",\"Salary\",\"Salary\",\"Salary\",\"Salary\",\"Salary\",\"Salary\",\"Salary\",\"Salary\",\"Salary\",\"Salary\",\"Salary\",\"Salary\",\"Salary\",\"Salary\",\"Salary\",\"Salary\",\"Salary\",\"Salary\",\"Salary\",\"Salary\",\"Salary\",\"Salary\",\"Salary\",\"Salary\",\"Salary\",\"Salary\",\"Salary\",\"Salary\",\"Salary\",\"Salary\",\"Salary\",\"Salary\",\"Salary\",\"Salary\",\"Salary\",\"Salary\",\"Salary\",\"Salary\",\"Salary\",\"Salary\",\"Salary\",\"Salary\",\"Salary\",\"Salary\",\"Salary\",\"Salary\",\"Salary\",\"Salary\",\"Salary\",\"Salary\",\"Salary\",\"Salary\",\"Salary\",\"Salary\",\"Salary\",\"Salary\",\"Salary\",\"Salary\",\"Salary\",\"Salary\",\"Salary\",\"Salary\",\"Salary\",\"Salary\",\"Salary\",\"Salary\",\"Salary\",\"Salary\",\"Salary\",\"Salary\",\"Salary\",\"Salary\",\"Salary\",\"Salary\",\"Salary\",\"Salary\",\"Salary\",\"Salary\",\"Salary\",\"Salary\",\"Salary\",\"Salary\",\"Salary\",\"Salary\",\"Salary\",\"Salary\",\"Salary\",\"Salary\",\"Salary\",\"Salary\",\"Salary\",\"Salary\",\"Salary\",\"Salary\",\"Salary\",\"Salary\",\"Salary\",\"Salary\",\"Salary\",\"Salary\",\"Salary\",\"Salary\",\"Salary\",\"Salary\",\"Salary\",\"Salary\",\"Salary\",\"Salary\",\"Salary\",\"Salary\",\"Salary\",\"Salary\",\"Salary\",\"Salary\",\"Salary\",\"Salary\",\"Salary\",\"Salary\",\"Salary\",\"Salary\",\"Salary\",\"Salary\",\"Salary\",\"Salary\",\"Salary\",\"Salary\",\"Salary\",\"Salary\",\"Salary\",\"Salary\",\"Salary\",\"Salary\",\"Salary\",\"Salary\",\"Salary\",\"Salary\",\"Salary\",\"Salary\",\"Salary\",\"Salary\",\"Salary\",\"Salary\",\"Salary\",\"Salary\",\"Salary\",\"Salary\",\"Salary\",\"Salary\",\"Salary\",\"Salary\",\"Salary\",\"Salary\",\"Salary\",\"Salary\",\"Salary\",\"Salary\",\"Salary\",\"Salary\",\"Salary\",\"Salary\",\"Salary\",\"Salary\",\"Salary\",\"Salary\",\"Salary\",\"Salary\",\"Salary\",\"Salary\",\"Salary\",\"Salary\",\"Salary\",\"Salary\",\"Salary\",\"Salary\",\"Salary\",\"Salary\",\"Salary\",\"Salary\",\"Salary\",\"Salary\",\"Salary\",\"Salary\",\"Salary\",\"Salary\",\"Salary\",\"Salary\",\"Salary\",\"Salary\",\"Salary\",\"Salary\",\"Salary\",\"Salary\",\"Salary\",\"Salary\",\"Salary\",\"Salary\",\"Salary\",\"Salary\",\"Salary\",\"Salary\",\"Salary\",\"Salary\",\"Salary\",\"Salary\",\"Salary\",\"Salary\",\"Salary\",\"Salary\",\"Salary\",\"Salary\",\"Salary\",\"Salary\",\"Salary\",\"Salary\",\"Salary\",\"Salary\",\"Salary\",\"Salary\",\"Salary\",\"Salary\",\"Salary\",\"Salary\",\"Salary\",\"Salary\",\"Salary\",\"Salary\",\"Salary\",\"Salary\",\"Salary\",\"Salary\",\"Salary\",\"Salary\",\"Salary\",\"Salary\",\"Salary\",\"Salary\",\"Salary\",\"Salary\",\"Salary\",\"Salary\",\"Salary\",\"Salary\",\"Salary\",\"Salary\",\"Salary\",\"Salary\",\"Salary\",\"Salary\",\"Salary\",\"Salary\",\"Salary\",\"Salary\",\"Salary\",\"Salary\",\"Salary\",\"Salary\",\"Salary\",\"Salary\",\"Salary\",\"Salary\",\"Salary\",\"Salary\",\"Salary\",\"Salary\",\"Salary\",\"Salary\",\"Salary\",\"Salary\",\"Salary\",\"Salary\",\"Salary\",\"Salary\",\"Salary\",\"Salary\",\"Salary\",\"Salary\",\"Salary\",\"Salary\",\"Salary\",\"Salary\",\"Salary\",\"Salary\",\"Salary\",\"Salary\",\"Salary\",\"Salary\",\"Salary\",\"Salary\",\"Salary\",\"Salary\",\"Salary\",\"Salary\",\"Salary\",\"Salary\",\"Salary\",\"Salary\",\"Salary\",\"Salary\",\"Salary\",\"Salary\",\"Salary\",\"Salary\",\"Salary\",\"Salary\",\"Salary\",\"Salary\",\"Salary\",\"Salary\",\"Salary\",\"Salary\",\"Salary\",\"Salary\",\"Salary\",\"Salary\",\"Salary\",\"Salary\",\"Salary\",\"Salary\",\"Salary\",\"Salary\",\"Salary\",\"Salary\",\"Salary\",\"Salary\",\"Salary\",\"Salary\",\"Salary\",\"Salary\",\"Salary\",\"Salary\",\"Salary\",\"Salary\",\"Salary\",\"Salary\",\"Salary\",\"Salary\",\"Salary\",\"Salary\",\"Salary\",\"Salary\",\"Salary\",\"Salary\",\"Salary\",\"Salary\",\"Salary\",\"Salary\",\"Salary\",\"Salary\",\"Salary\",\"Salary\",\"Salary\",\"Salary\",\"Salary\",\"Salary\",\"Salary\",\"Salary\",\"Salary\",\"Salary\",\"Salary\",\"Salary\",\"Salary\",\"Salary\",\"Salary\",\"Salary\",\"Salary\",\"Salary\",\"Salary\",\"Salary\",\"Salary\",\"Salary\",\"Salary\",\"Salary\",\"Salary\",\"Salary\",\"Salary\",\"Salary\",\"Salary\",\"Salary\",\"Salary\",\"Salary\",\"Salary\",\"Salary\",\"Salary\",\"Salary\",\"Salary\",\"Salary\",\"Salary\",\"Salary\",\"Salary\",\"Salary\",\"Salary\",\"Salary\",\"Salary\",\"Salary\",\"Salary\",\"Salary\",\"Salary\",\"Salary\",\"Salary\",\"Salary\",\"Salary\",\"Salary\",\"Salary\",\"Salary\",\"Salary\",\"Salary\",\"Salary\",\"Salary\",\"Salary\",\"Salary\",\"Salary\",\"Salary\",\"Salary\",\"Salary\",\"Salary\",\"Salary\",\"Salary\",\"Salary\",\"Salary\",\"Salary\",\"Salary\",\"Salary\",\"Salary\",\"Salary\",\"Salary\",\"Salary\",\"Salary\",\"Salary\",\"Salary\",\"Salary\",\"Salary\",\"Salary\",\"Salary\",\"Salary\",\"Salary\",\"Salary\",\"Salary\",\"Salary\",\"Salary\",\"Salary\",\"Salary\",\"Salary\",\"Salary\",\"Salary\",\"Salary\",\"Salary\",\"Salary\",\"Salary\",\"Salary\",\"Salary\",\"Salary\",\"Salary\",\"Salary\",\"Salary\",\"Salary\",\"Salary\",\"Salary\",\"Salary\",\"Salary\",\"Salary\",\"Salary\",\"Salary\",\"Salary\",\"Salary\",\"Salary\",\"Salary\",\"Salary\",\"Salary\",\"Salary\",\"Salary\",\"Salary\",\"Salary\",\"Salary\",\"Salary\",\"Salary\",\"Salary\",\"Salary\",\"Salary\",\"Salary\",\"Salary\",\"Salary\",\"Salary\",\"Salary\",\"Salary\",\"Salary\",\"Salary\",\"Salary\",\"Salary\",\"Salary\",\"Salary\",\"Salary\",\"Salary\",\"Salary\",\"Salary\",\"Salary\",\"Salary\",\"Salary\",\"Salary\",\"Salary\",\"Salary\",\"Salary\",\"Salary\",\"Salary\",\"Salary\",\"Salary\",\"Salary\",\"Salary\",\"Salary\",\"Salary\",\"Salary\",\"Salary\",\"Salary\",\"Salary\",\"Salary\",\"Salary\",\"Salary\",\"Salary\",\"Salary\",\"Salary\",\"Salary\",\"Salary\",\"Salary\",\"Salary\",\"Salary\",\"Salary\",\"Salary\",\"Salary\",\"Salary\",\"Salary\",\"Salary\",\"Salary\",\"Salary\",\"Salary\",\"Salary\",\"Salary\",\"Salary\",\"Salary\",\"Salary\",\"Salary\",\"Salary\",\"Salary\",\"Salary\",\"Salary\",\"Salary\",\"Salary\",\"Salary\",\"Salary\",\"Salary\",\"Salary\",\"Salary\",\"Salary\",\"Salary\",\"Salary\",\"Salary\",\"Salary\",\"Salary\",\"Salary\",\"Salary\",\"Salary\",\"Salary\",\"Salary\",\"Salary\",\"Salary\",\"Salary\",\"Salary\",\"Salary\",\"Salary\",\"Salary\",\"Salary\",\"Salary\",\"Salary\",\"Salary\",\"Salary\",\"Salary\",\"Salary\",\"Salary\",\"Salary\",\"Salary\",\"Salary\",\"Salary\",\"Salary\",\"Salary\",\"Salary\",\"Salary\",\"Salary\",\"Salary\",\"Salary\",\"Salary\",\"Salary\",\"Salary\",\"Salary\",\"Salary\",\"Salary\",\"Salary\",\"Salary\",\"Salary\",\"Salary\",\"Salary\",\"Salary\"],\"x0\":\" \",\"xaxis\":\"x\",\"y\":[65000.0,200000.0,80000.0,45000.0,110000.0,75000.0,140000.0,130000.0,40000.0,125000.0,90000.0,115000.0,35000.0,180000.0,190000.0,50000.0,60000.0,140000.0,45000.0,110000.0,40000.0,140000.0,90000.0,250000.0,55000.0,75000.0,65000.0,170000.0,45000.0,60000.0,115000.0,40000.0,160000.0,80000.0,190000.0,60000.0,45000.0,130000.0,40000.0,75000.0,180000.0,120000.0,35000.0,130000.0,85000.0,60000.0,200000.0,50000.0,95000.0,65000.0,140000.0,55000.0,105000.0,170000.0,50000.0,80000.0,180000.0,35000.0,90000.0,120000.0,45000.0,90000.0,150000.0,65000.0,70000.0,190000.0,40000.0,120000.0,95000.0,160000.0,100000.0,180000.0,55000.0,70000.0,80000.0,30000.0,250000.0,40000.0,95000.0,45000.0,80000.0,135000.0,55000.0,120000.0,40000.0,105000.0,170000.0,75000.0,65000.0,160000.0,35000.0,90000.0,110000.0,45000.0,95000.0,150000.0,50000.0,80000.0,220000.0,50000.0,60000.0,100000.0,40000.0,110000.0,95000.0,130000.0,90000.0,35000.0,95000.0,65000.0,170000.0,45000.0,120000.0,100000.0,180000.0,50000.0,80000.0,140000.0,40000.0,95000.0,110000.0,50000.0,105000.0,160000.0,45000.0,100000.0,160000.0,35000.0,55000.0,140000.0,50000.0,60000.0,120000.0,40000.0,110000.0,50000.0,135000.0,40000.0,90000.0,150000.0,60000.0,80000.0,175000.0,45000.0,120000.0,140000.0,35000.0,95000.0,110000.0,50000.0,115000.0,185000.0,40000.0,90000.0,175000.0,45000.0,80000.0,120000.0,35000.0,110000.0,150000.0,50000.0,105000.0,180000.0,40000.0,140000.0,45000.0,85000.0,140000.0,50000.0,80000.0,170000.0,40000.0,105000.0,145000.0,40000.0,85000.0,130000.0,95000.0,100000.0,180000.0,35000.0,95000.0,170000.0,45000.0,95000.0,120000.0,90000.0,155000.0,55000.0,110000.0,180000.0,45000.0,130000.0,45000.0,90000.0,160000.0,50000.0,120000.0,170000.0,40000.0,110000.0,150000.0,40000.0,85000.0,130000.0,100000.0,95000.0,180000.0,35000.0,100000.0,170000.0,45000.0,100000.0,140000.0,40000.0,105000.0,160000.0,70000.0,120000.0,190000.0,45000.0,120000.0,50000.0,85000.0,140000.0,45000.0,100000.0,140000.0,70000.0,120000.0,160000.0,40000.0,120000.0,150000.0,70000.0,95000.0,180000.0,50000.0,95000.0,170000.0,350.0,120000.0,50000.0,110000.0,40000.0,95000.0,140000.0,60000.0,110000.0,150000.0,60000.0,90000.0,180000.0,40000.0,120000.0,160000.0,70000.0,95000.0,180000.0,50000.0,170000.0,35000.0,100000.0,150000.0,60000.0,130000.0,65000.0,110000.0,180000.0,40000.0,90000.0,140000.0,60000.0,130000.0,160000.0,40000.0,100000.0,180000.0,55000.0,120000.0,70000.0,95000.0,120000.0,80000.0,40000.0,120000.0,160000.0,65000.0,130000.0,180000.0,40000.0,100000.0,150000.0,55000.0,180000.0,50000.0,130000.0,160000.0,60000.0,95000.0,170000.0,40000.0,90000.0,150000.0,70000.0,90000.0,170000.0,50000.0,150000.0,160000.0,180000.0,35000.0,110000.0,160000.0,55000.0,170000.0,160000.0,125000.0,120000.0,110000.0,180000.0,140000.0,170000.0,100000.0,190000.0,155000.0,130000.0,145000.0,115000.0,185000.0,125000.0,120000.0,110000.0,180000.0,140000.0,130000.0,180000.0,190000.0,150000.0,90000.0,195000.0,160000.0,198000.0,110000.0,185000.0,140000.0,196000.0,95000.0,193000.0,175000.0,160000.0,180000.0,195000.0,160000.0,198000.0,130000.0,185000.0,140000.0,196000.0,110000.0,160000.0,195000.0,125000.0,175000.0,190000.0,95000.0,195000.0,90000.0,170000.0,135000.0,115000.0,150000.0,125000.0,180000.0,195000.0,170000.0,196000.0,92000.0,195000.0,165000.0,135000.0,196000.0,92000.0,135000.0,180000.0,195000.0,165000.0,198000.0,150000.0,162000.0,175000.0,197000.0,142000.0,182000.0,185000.0,170000.0,160000.0,180000.0,150000.0,140000.0,100000.0,190000.0,120000.0,170000.0,190000.0,150000.0,120000.0,170000.0,130000.0,95000.0,195000.0,100000.0,150000.0,150000.0,195000.0,170000.0,180000.0,190000.0,100000.0,180000.0,120000.0,195000.0,160000.0,100000.0,190000.0,170000.0,185000.0,130000.0,190000.0,150000.0,150000.0,195000.0,110000.0,180000.0,185000.0,130000.0,190000.0,155000.0,195000.0,90000.0,185000.0,120000.0,180000.0,125000.0,175000.0,190000.0,110000.0,195000.0,100000.0,60000.0,155000.0,175000.0,180000.0,95000.0,200000.0,165000.0,145000.0,195000.0,75000.0,90000.0,155000.0,115000.0,170000.0,190000.0,115000.0,180000.0,195000.0,140000.0,200000.0,70000.0,170000.0,185000.0,140000.0,185000.0,185000.0,180000.0,175000.0,70000.0,60000.0,200000.0,170000.0,165000.0,55000.0,190000.0,105000.0,130000.0,185000.0,60000.0,195000.0,60000.0,150000.0,180000.0,125000.0,185000.0,90000.0,80000.0,85000.0,190000.0,160000.0,195000.0,195000.0,190000.0,95000.0,55000.0,185000.0,120000.0,195000.0,175000.0,75000.0,200000.0,160000.0,175000.0,180000.0,120000.0,185000.0,195000.0,170000.0,55000.0,130000.0,180000.0,145000.0,170000.0,155000.0,125000.0,180000.0,95000.0,170000.0,175000.0,80000.0,195000.0,155000.0,125000.0,110000.0,130000.0,190000.0,150000.0,140000.0,195000.0,55000.0,190000.0,130000.0,130000.0,140000.0,70000.0,170000.0,180000.0,70000.0,55000.0,180000.0,70000.0,165000.0,185000.0,140000.0,80000.0,90000.0,170000.0,170000.0,155000.0,195000.0,70000.0,140000.0,190000.0,130000.0,165000.0,55000.0,165000.0,195000.0,85000.0,200000.0,140000.0,65000.0,190000.0,120000.0,200000.0,190000.0,65000.0,130000.0,120000.0,55000.0,160000.0,140000.0,135000.0,55000.0,95000.0,170000.0,75000.0,210000.0,135000.0,190000.0,165000.0,120000.0,160000.0,55000.0,120000.0,90000.0,180000.0,130000.0,170000.0,70000.0,210000.0,55000.0,165000.0,105000.0,160000.0,110000.0,195000.0,85000.0,180000.0,55000.0,140000.0,145000.0,185000.0,110000.0,115000.0,170000.0,80000.0,200000.0,130000.0,155000.0,105000.0,190000.0,140000.0,185000.0,145000.0,90000.0,195000.0,95000.0,170000.0,115000.0,185000.0,65000.0,160000.0,100000.0,180000.0,190000.0,115000.0,195000.0,150000.0,185000.0,550.0,90000.0,160000.0,115000.0,150000.0,65000.0,190000.0,140000.0,185000.0,130000.0,105000.0,170000.0,90000.0,80000.0,195000.0,115000.0,135000.0,65000.0,140000.0,185000.0,130000.0,105000.0,200000.0,110000.0,150000.0,130000.0,180000.0,140000.0,160000.0,55000.0,190000.0,120000.0,200000.0,100000.0,150000.0,170000.0,210000.0,90000.0,180000.0,185000.0,105000.0,210000.0,95000.0,170000.0,200000.0,75000.0,95000.0,50000.0,180000.0,65000.0,120000.0,60000.0,150000.0,70000.0,220000.0,100000.0,55000.0,170000.0,90000.0,80000.0,180000.0,60000.0,120000.0,70000.0,210000.0,140000.0,50000.0,110000.0,160000.0,200000.0,100000.0,122485.0,169159.0,187081.0,166109.0,78354.0,90249.0,132720.0,161568.0,127346.0,120177.0,69032.0,101332.0,121450.0,166375.0,185119.0,149217.0,166512.0,186963.0,75072.0,163398.0,103947.0,179180.0,175966.0,190004.0,152039.0,76742.0,191790.0,139398.0,95845.0,160976.0,126753.0,161393.0,139817.0,181714.0,114776.0,105725.0,52731.0,106492.0,73895.0,119836.0,99747.0,168287.0,115920.0,128078.0,51265.0,165919.0,188651.0,55538.0,193964.0,104702.0,172955.0,138032.0,82683.0,155414.0,154207.0,107895.0,148446.0,102859.0,138662.0,181699.0,188232.0,51832.0,188484.0,138286.0,181132.0,73938.0,119224.0,101186.0,142360.0,151315.0,181021.0,134641.0,173851.0,104127.0,178859.0,98568.0,104661.0,134858.0,94502.0,62852.0,139095.0,106278.0,90452.0,168304.0,126593.0,152203.0,183138.0,130275.0,191915.0,62807.0,174305.0,133326.0,75656.0,155944.0,137775.0,51831.0,182237.0,151901.0,100052.0,158254.0,167207.0,112439.0,194214.0,84407.0,139413.0,143084.0,192344.0,106132.0,184816.0,150248.0,170995.0,88035.0,119419.0,173582.0,174436.0,71699.0,163558.0,166828.0,144496.0,193746.0,122581.0,79767.0,177177.0,89843.0,113563.0,128712.0,161621.0,121454.0,179987.0,72649.0,52612.0,184006.0,131960.0,102465.0,149748.0,171036.0,146351.0,185462.0,107718.0,90944.0,100425.0,63901.0,181902.0,136533.0,136285.0,191818.0,176643.0,70022.0,99363.0,152944.0,123386.0,168906.0,183020.0,47898.0,135853.0,149198.0,106662.0,186610.0,89995.0,85825.0,143814.0,174726.0,150534.0,68732.0,187951.0,137336.0,191159.0,102868.0,154281.0,111535.0,107906.0,143885.0,180958.0,108607.0,178284.0,75969.0,143705.0,197354.0,174324.0,123781.0,141735.0,187120.0,61095.0,179045.0,130355.0,103282.0,157872.0,117314.0,186321.0,129686.0,68611.0,177913.0,68472.0,113065.0,125091.0,172925.0,126916.0,183417.0,76898.0,579.0,65000.0,120000.0,90000.0,190000.0,140000.0,75000.0,160000.0,130000.0,60000.0,220000.0,80000.0,130000.0,65000.0,170000.0,110000.0,50000.0,210000.0,100000.0,50000.0,160000.0,70000.0,190000.0,140000.0,45000.0,120000.0,60000.0,150000.0,70000.0,103579.0,163780.0,137878.0,92438.0,84181.0,174821.0,126520.0,152168.0,190543.0,131547.0,192292.0,52807.0,174938.0,124071.0,73640.0,156486.0,138859.0,52831.0,182392.0,151078.0,100679.0,158966.0,167924.0,113334.0,194778.0,77606.0,140010.0,142421.0,192756.0,106686.0,186794.0,150729.0,171652.0,88552.0,119918.0,174985.0,174336.0,72389.0,163978.0,166958.0,145052.0,195270.0,122970.0,80247.0,177862.0,91062.0,114290.0,128999.0,162454.0,122354.0,179756.0,73218.0,184480.0,132442.0,102828.0,150301.0,171468.0,147326.0,185982.0,108267.0,91397.0,100867.0,64182.0,182506.0,136986.0,136662.0,191510.0,177347.0,70397.0,146075.0,155795.0,132638.0,178684.0,106218.0,191239.0,65840.0,52779.0,185038.0,136449.0,110707.0,151670.0,167015.0,146508.0,190596.0,104378.0,70216.0,101733.0,55935.0,180367.0,135596.0,136062.0,191267.0,91397.0,82944.0,188288.0,141090.0,152726.0,124141.0,67556.0,182768.0,148727.0,91903.0,147708.0,163209.0,120288.0,170226.0,134979.0,137489.0,83577.0,117904.0,134482.0,184660.0,100151.0,88678.0,181285.0,154990.0,108204.0,175684.0,77766.0,192211.0,144647.0,162231.0,121120.0,79652.0,177002.0,87584.0,131860.0,182013.0,108799.0,135378.0,183530.0,150901.0,82697.0,194638.0,130356.0,152560.0,121432.0,63789.0,183690.0,151310.0,100358.0,148437.0,168691.0,50000.0,100000.0,60000.0,90000.0,70000.0,170000.0,130000.0,50000.0,120000.0,80000.0,200000.0,170000.0,80000.0,80000.0,60000.0,50000.0,160000.0,120000.0,40000.0,100000.0,75000.0,140000.0,50000.0,110000.0,45000.0,55000.0,130000.0,50000.0,80000.0,45000.0,32000.0,120000.0,65000.0,95000.0,80000.0,38000.0,110000.0,45000.0,89000.0,32000.0,70000.0,150000.0,40000.0,105000.0,65000.0,140000.0,50000.0,35000.0,115000.0,70000.0,80000.0,30000.0,135000.0,40000.0,105000.0,35000.0,120000.0,55000.0,45000.0,140000.0,55000.0,115000.0,70000.0,38000.0,135000.0,45000.0,85000.0,32000.0,150000.0,65000.0,32000.0,120000.0,40000.0,95000.0,140000.0,55000.0,80000.0,135000.0,95000.0,32000.0,70000.0,120000.0,70000.0,33000.0,115000.0,40000.0,135000.0,65000.0,140000.0,60000.0,100000.0,150000.0,55000.0,30000.0,70000.0,90000.0,40000.0,130000.0,75000.0,35000.0,110000.0,65000.0,180000.0,35000.0,120000.0,75000.0,30000.0,160000.0,60000.0,85000.0,70000.0,50000.0,140000.0,35000.0,110000.0,65000.0,60000.0,100000.0,150000.0,55000.0,30000.0,70000.0,90000.0,40000.0,130000.0,75000.0,35000.0,110000.0,65000.0,180000.0,35000.0,120000.0,75000.0,30000.0,160000.0,60000.0,85000.0,70000.0,50000.0,140000.0,55000.0,90000.0,160000.0,60000.0,25000.0,100000.0,45000.0,140000.0,30000.0,120000.0,190000.0,130000.0,85000.0,25000.0,60000.0,100000.0,75000.0,30000.0,80000.0,60000.0,130000.0,45000.0,25000.0,90000.0,170000.0,40000.0,150000.0,95000.0,25000.0,110000.0,70000.0,220000.0,35000.0,140000.0,110000.0,25000.0,80000.0,120000.0,90000.0,45000.0,85000.0,62000.0,138000.0,47000.0,26000.0,95000.0,174000.0,41000.0,162000.0,99000.0,26000.0,117000.0,75000.0,225000.0,36000.0,146000.0,113000.0,26000.0,168000.0,85000.0,122000.0,96000.0,49000.0,162000.0,95000.0,26000.0,68000.0,127000.0,47000.0,155000.0,92000.0,26000.0,125000.0,71000.0,240000.0,36000.0,152000.0,119000.0,26000.0,190000.0,85000.0,131000.0,101000.0,49000.0,182000.0,62000.0,137000.0,112000.0,25000.0,91000.0,179000.0,74000.0,228000.0,37000.0,193000.0,25000.0,204000.0,61000.0,157000.0,92000.0,52000.0,58000.0,219000.0,77000.0,104000.0,25000.0,183000.0,95000.0,45000.0,70000.0,110000.0,35000.0,60000.0,50000.0,120000.0,32000.0,65000.0,35000.0,130000.0,95000.0,43000.0,60000.0,80000.0,48000.0,125000.0,85000.0,42000.0,70000.0,32000.0,80000.0,42000.0,90000.0,40000.0,110000.0,105000.0,50000.0,95000.0,60000.0,40000.0,55000.0,70000.0,32000.0,90000.0,50000.0,32000.0,80000.0,45000.0,65000.0,50000.0,45000.0,95000.0,65000.0,38000.0,125000.0,90000.0,43000.0,60000.0,60000.0,35000.0,95000.0,42000.0,100000.0,32000.0,130000.0,43000.0,32000.0,500.0,45000.0,120000.0,55000.0,70000.0,140000.0,30000.0,100000.0,50000.0,55000.0,130000.0,45000.0,48000.0,125000.0,57000.0,72000.0,145000.0,31000.0,105000.0,52000.0,57000.0,135000.0,48000.0,125000.0,85000.0,110000.0,170000.0,140000.0,30000.0,95000.0,80000.0,155000.0,25000.0,160000.0,65000.0,120000.0,105000.0,25000.0,250000.0,120000.0,80000.0,100000.0,170000.0,50000.0,140000.0,55000.0,80000.0,60000.0,150000.0,80000.0,120000.0,130000.0,50000.0,180000.0,60000.0,110000.0,25000.0,100000.0,55000.0,140000.0,25000.0,150000.0,170000.0,55000.0,65000.0,60000.0,150000.0,50000.0,120000.0,85000.0,160000.0,55000.0,100000.0,120000.0,185000.0,65000.0,130000.0,25000.0,100000.0,55000.0,150000.0,25000.0,160000.0,170000.0,55000.0,65000.0,60000.0,160000.0,50000.0,120000.0,85000.0,160000.0,55000.0,100000.0,120000.0,50000.0,185000.0,65000.0,130000.0,150000.0,160000.0,170000.0,55000.0,65000.0,60000.0,160000.0,120000.0,100000.0,120000.0,130000.0,35000.0,160000.0,50000.0,100000.0,80000.0,60000.0,90000.0,170000.0,60000.0,120000.0,25000.0,180000.0,200000.0,50000.0,140000.0,70000.0,130000.0,80000.0,160000.0,55000.0,85000.0,60000.0,120000.0,45000.0,80000.0,150000.0,65000.0,100000.0,90000.0,40000.0,110000.0,170000.0,75000.0,120000.0,30000.0,180000.0,200000.0,50000.0,65000.0,110000.0,28000.0,190000.0,210000.0,55000.0,170000.0,60000.0,90000.0,160000.0,75000.0,120000.0,65000.0,100000.0,150000.0,120000.0,120000.0,65000.0,100000.0,150000.0,65000.0,120000.0,45000.0,80000.0,150000.0,125000.0,70000.0,110000.0,160000.0,75000.0,120000.0,50000.0,85000.0,155000.0,70000.0,115000.0,95000.0,40000.0,115000.0,175000.0,135000.0,75000.0,185000.0,210000.0,45000.0,145000.0,70000.0,120000.0,195000.0,215000.0,55000.0,185000.0,95000.0,170000.0,65000.0,75000.0,185000.0,120000.0,60000.0,145000.0,135000.0,70000.0,175000.0,45000.0,80000.0,90000.0,35000.0,120000.0,60000.0,70000.0,40000.0,150000.0,35000.0,130000.0,35000.0,180000.0,60000.0,75000.0,50000.0,100000.0,40000.0,110000.0,55000.0,170000.0,40000.0,95000.0,35000.0,140000.0,70000.0,50000.0,75000.0,40000.0,120000.0,40000.0,160000.0,55000.0,100000.0,35000.0,80000.0,90000.0,35000.0,130000.0,70000.0,40000.0,35000.0,180000.0,40000.0,75000.0,120000.0,50000.0,90000.0,35000.0,110000.0,45000.0,70000.0,30000.0,130000.0,60000.0,150000.0,80000.0,35000.0,160000.0,40000.0,40000.0,35000.0,100000.0,70000.0,50000.0,120000.0,40000.0,50000.0,140000.0,100000.0,30000.0,75000.0,40000.0,180000.0,80000.0,120000.0,45000.0,90000.0,55000.0,160000.0,40000.0,40000.0,110000.0,75000.0,150000.0,70000.0,190000.0,40000.0,75000.0,140000.0,80000.0,35000.0,130000.0,40000.0,90000.0,55000.0,180000.0,45000.0,190000.0,50000.0,55000.0,130000.0,35000.0,120000.0,95000.0,35000.0,140000.0,40000.0,80000.0,55000.0,190000.0,75000.0,170000.0,110000.0,40000.0,150000.0,55000.0,70000.0,160000.0,35000.0,100000.0,90000.0,50000.0,140000.0,40000.0,180000.0,90000.0,35000.0,120000.0,45000.0,80000.0,180000.0,75000.0,70000.0,150000.0,120000.0,45000.0,160000.0,70000.0,75000.0,170000.0,110000.0,80000.0,55000.0,150000.0,190000.0,80000.0,35000.0,45000.0,90000.0,55000.0,190000.0,90000.0,200000.0,40000.0,70000.0,160000.0,35000.0,130000.0,95000.0,35000.0,140000.0,40000.0,90000.0,55000.0,190000.0,75000.0,200000.0,50000.0,55000.0,140000.0,35000.0,130000.0,100000.0,35000.0,150000.0,40000.0,80000.0,90000.0,70000.0],\"y0\":\" \",\"yaxis\":\"y\",\"type\":\"box\"}],                        {\"template\":{\"data\":{\"histogram2dcontour\":[{\"type\":\"histogram2dcontour\",\"colorbar\":{\"outlinewidth\":0,\"ticks\":\"\"},\"colorscale\":[[0.0,\"#0d0887\"],[0.1111111111111111,\"#46039f\"],[0.2222222222222222,\"#7201a8\"],[0.3333333333333333,\"#9c179e\"],[0.4444444444444444,\"#bd3786\"],[0.5555555555555556,\"#d8576b\"],[0.6666666666666666,\"#ed7953\"],[0.7777777777777778,\"#fb9f3a\"],[0.8888888888888888,\"#fdca26\"],[1.0,\"#f0f921\"]]}],\"choropleth\":[{\"type\":\"choropleth\",\"colorbar\":{\"outlinewidth\":0,\"ticks\":\"\"}}],\"histogram2d\":[{\"type\":\"histogram2d\",\"colorbar\":{\"outlinewidth\":0,\"ticks\":\"\"},\"colorscale\":[[0.0,\"#0d0887\"],[0.1111111111111111,\"#46039f\"],[0.2222222222222222,\"#7201a8\"],[0.3333333333333333,\"#9c179e\"],[0.4444444444444444,\"#bd3786\"],[0.5555555555555556,\"#d8576b\"],[0.6666666666666666,\"#ed7953\"],[0.7777777777777778,\"#fb9f3a\"],[0.8888888888888888,\"#fdca26\"],[1.0,\"#f0f921\"]]}],\"heatmap\":[{\"type\":\"heatmap\",\"colorbar\":{\"outlinewidth\":0,\"ticks\":\"\"},\"colorscale\":[[0.0,\"#0d0887\"],[0.1111111111111111,\"#46039f\"],[0.2222222222222222,\"#7201a8\"],[0.3333333333333333,\"#9c179e\"],[0.4444444444444444,\"#bd3786\"],[0.5555555555555556,\"#d8576b\"],[0.6666666666666666,\"#ed7953\"],[0.7777777777777778,\"#fb9f3a\"],[0.8888888888888888,\"#fdca26\"],[1.0,\"#f0f921\"]]}],\"heatmapgl\":[{\"type\":\"heatmapgl\",\"colorbar\":{\"outlinewidth\":0,\"ticks\":\"\"},\"colorscale\":[[0.0,\"#0d0887\"],[0.1111111111111111,\"#46039f\"],[0.2222222222222222,\"#7201a8\"],[0.3333333333333333,\"#9c179e\"],[0.4444444444444444,\"#bd3786\"],[0.5555555555555556,\"#d8576b\"],[0.6666666666666666,\"#ed7953\"],[0.7777777777777778,\"#fb9f3a\"],[0.8888888888888888,\"#fdca26\"],[1.0,\"#f0f921\"]]}],\"contourcarpet\":[{\"type\":\"contourcarpet\",\"colorbar\":{\"outlinewidth\":0,\"ticks\":\"\"}}],\"contour\":[{\"type\":\"contour\",\"colorbar\":{\"outlinewidth\":0,\"ticks\":\"\"},\"colorscale\":[[0.0,\"#0d0887\"],[0.1111111111111111,\"#46039f\"],[0.2222222222222222,\"#7201a8\"],[0.3333333333333333,\"#9c179e\"],[0.4444444444444444,\"#bd3786\"],[0.5555555555555556,\"#d8576b\"],[0.6666666666666666,\"#ed7953\"],[0.7777777777777778,\"#fb9f3a\"],[0.8888888888888888,\"#fdca26\"],[1.0,\"#f0f921\"]]}],\"surface\":[{\"type\":\"surface\",\"colorbar\":{\"outlinewidth\":0,\"ticks\":\"\"},\"colorscale\":[[0.0,\"#0d0887\"],[0.1111111111111111,\"#46039f\"],[0.2222222222222222,\"#7201a8\"],[0.3333333333333333,\"#9c179e\"],[0.4444444444444444,\"#bd3786\"],[0.5555555555555556,\"#d8576b\"],[0.6666666666666666,\"#ed7953\"],[0.7777777777777778,\"#fb9f3a\"],[0.8888888888888888,\"#fdca26\"],[1.0,\"#f0f921\"]]}],\"mesh3d\":[{\"type\":\"mesh3d\",\"colorbar\":{\"outlinewidth\":0,\"ticks\":\"\"}}],\"scatter\":[{\"fillpattern\":{\"fillmode\":\"overlay\",\"size\":10,\"solidity\":0.2},\"type\":\"scatter\"}],\"parcoords\":[{\"type\":\"parcoords\",\"line\":{\"colorbar\":{\"outlinewidth\":0,\"ticks\":\"\"}}}],\"scatterpolargl\":[{\"type\":\"scatterpolargl\",\"marker\":{\"colorbar\":{\"outlinewidth\":0,\"ticks\":\"\"}}}],\"bar\":[{\"error_x\":{\"color\":\"#2a3f5f\"},\"error_y\":{\"color\":\"#2a3f5f\"},\"marker\":{\"line\":{\"color\":\"#E5ECF6\",\"width\":0.5},\"pattern\":{\"fillmode\":\"overlay\",\"size\":10,\"solidity\":0.2}},\"type\":\"bar\"}],\"scattergeo\":[{\"type\":\"scattergeo\",\"marker\":{\"colorbar\":{\"outlinewidth\":0,\"ticks\":\"\"}}}],\"scatterpolar\":[{\"type\":\"scatterpolar\",\"marker\":{\"colorbar\":{\"outlinewidth\":0,\"ticks\":\"\"}}}],\"histogram\":[{\"marker\":{\"pattern\":{\"fillmode\":\"overlay\",\"size\":10,\"solidity\":0.2}},\"type\":\"histogram\"}],\"scattergl\":[{\"type\":\"scattergl\",\"marker\":{\"colorbar\":{\"outlinewidth\":0,\"ticks\":\"\"}}}],\"scatter3d\":[{\"type\":\"scatter3d\",\"line\":{\"colorbar\":{\"outlinewidth\":0,\"ticks\":\"\"}},\"marker\":{\"colorbar\":{\"outlinewidth\":0,\"ticks\":\"\"}}}],\"scattermapbox\":[{\"type\":\"scattermapbox\",\"marker\":{\"colorbar\":{\"outlinewidth\":0,\"ticks\":\"\"}}}],\"scatterternary\":[{\"type\":\"scatterternary\",\"marker\":{\"colorbar\":{\"outlinewidth\":0,\"ticks\":\"\"}}}],\"scattercarpet\":[{\"type\":\"scattercarpet\",\"marker\":{\"colorbar\":{\"outlinewidth\":0,\"ticks\":\"\"}}}],\"carpet\":[{\"aaxis\":{\"endlinecolor\":\"#2a3f5f\",\"gridcolor\":\"white\",\"linecolor\":\"white\",\"minorgridcolor\":\"white\",\"startlinecolor\":\"#2a3f5f\"},\"baxis\":{\"endlinecolor\":\"#2a3f5f\",\"gridcolor\":\"white\",\"linecolor\":\"white\",\"minorgridcolor\":\"white\",\"startlinecolor\":\"#2a3f5f\"},\"type\":\"carpet\"}],\"table\":[{\"cells\":{\"fill\":{\"color\":\"#EBF0F8\"},\"line\":{\"color\":\"white\"}},\"header\":{\"fill\":{\"color\":\"#C8D4E3\"},\"line\":{\"color\":\"white\"}},\"type\":\"table\"}],\"barpolar\":[{\"marker\":{\"line\":{\"color\":\"#E5ECF6\",\"width\":0.5},\"pattern\":{\"fillmode\":\"overlay\",\"size\":10,\"solidity\":0.2}},\"type\":\"barpolar\"}],\"pie\":[{\"automargin\":true,\"type\":\"pie\"}]},\"layout\":{\"autotypenumbers\":\"strict\",\"colorway\":[\"#636efa\",\"#EF553B\",\"#00cc96\",\"#ab63fa\",\"#FFA15A\",\"#19d3f3\",\"#FF6692\",\"#B6E880\",\"#FF97FF\",\"#FECB52\"],\"font\":{\"color\":\"#2a3f5f\"},\"hovermode\":\"closest\",\"hoverlabel\":{\"align\":\"left\"},\"paper_bgcolor\":\"white\",\"plot_bgcolor\":\"#E5ECF6\",\"polar\":{\"bgcolor\":\"#E5ECF6\",\"angularaxis\":{\"gridcolor\":\"white\",\"linecolor\":\"white\",\"ticks\":\"\"},\"radialaxis\":{\"gridcolor\":\"white\",\"linecolor\":\"white\",\"ticks\":\"\"}},\"ternary\":{\"bgcolor\":\"#E5ECF6\",\"aaxis\":{\"gridcolor\":\"white\",\"linecolor\":\"white\",\"ticks\":\"\"},\"baxis\":{\"gridcolor\":\"white\",\"linecolor\":\"white\",\"ticks\":\"\"},\"caxis\":{\"gridcolor\":\"white\",\"linecolor\":\"white\",\"ticks\":\"\"}},\"coloraxis\":{\"colorbar\":{\"outlinewidth\":0,\"ticks\":\"\"}},\"colorscale\":{\"sequential\":[[0.0,\"#0d0887\"],[0.1111111111111111,\"#46039f\"],[0.2222222222222222,\"#7201a8\"],[0.3333333333333333,\"#9c179e\"],[0.4444444444444444,\"#bd3786\"],[0.5555555555555556,\"#d8576b\"],[0.6666666666666666,\"#ed7953\"],[0.7777777777777778,\"#fb9f3a\"],[0.8888888888888888,\"#fdca26\"],[1.0,\"#f0f921\"]],\"sequentialminus\":[[0.0,\"#0d0887\"],[0.1111111111111111,\"#46039f\"],[0.2222222222222222,\"#7201a8\"],[0.3333333333333333,\"#9c179e\"],[0.4444444444444444,\"#bd3786\"],[0.5555555555555556,\"#d8576b\"],[0.6666666666666666,\"#ed7953\"],[0.7777777777777778,\"#fb9f3a\"],[0.8888888888888888,\"#fdca26\"],[1.0,\"#f0f921\"]],\"diverging\":[[0,\"#8e0152\"],[0.1,\"#c51b7d\"],[0.2,\"#de77ae\"],[0.3,\"#f1b6da\"],[0.4,\"#fde0ef\"],[0.5,\"#f7f7f7\"],[0.6,\"#e6f5d0\"],[0.7,\"#b8e186\"],[0.8,\"#7fbc41\"],[0.9,\"#4d9221\"],[1,\"#276419\"]]},\"xaxis\":{\"gridcolor\":\"white\",\"linecolor\":\"white\",\"ticks\":\"\",\"title\":{\"standoff\":15},\"zerolinecolor\":\"white\",\"automargin\":true,\"zerolinewidth\":2},\"yaxis\":{\"gridcolor\":\"white\",\"linecolor\":\"white\",\"ticks\":\"\",\"title\":{\"standoff\":15},\"zerolinecolor\":\"white\",\"automargin\":true,\"zerolinewidth\":2},\"scene\":{\"xaxis\":{\"backgroundcolor\":\"#E5ECF6\",\"gridcolor\":\"white\",\"linecolor\":\"white\",\"showbackground\":true,\"ticks\":\"\",\"zerolinecolor\":\"white\",\"gridwidth\":2},\"yaxis\":{\"backgroundcolor\":\"#E5ECF6\",\"gridcolor\":\"white\",\"linecolor\":\"white\",\"showbackground\":true,\"ticks\":\"\",\"zerolinecolor\":\"white\",\"gridwidth\":2},\"zaxis\":{\"backgroundcolor\":\"#E5ECF6\",\"gridcolor\":\"white\",\"linecolor\":\"white\",\"showbackground\":true,\"ticks\":\"\",\"zerolinecolor\":\"white\",\"gridwidth\":2}},\"shapedefaults\":{\"line\":{\"color\":\"#2a3f5f\"}},\"annotationdefaults\":{\"arrowcolor\":\"#2a3f5f\",\"arrowhead\":0,\"arrowwidth\":1},\"geo\":{\"bgcolor\":\"white\",\"landcolor\":\"#E5ECF6\",\"subunitcolor\":\"white\",\"showland\":true,\"showlakes\":true,\"lakecolor\":\"white\"},\"title\":{\"x\":0.05},\"mapbox\":{\"style\":\"light\"}}},\"xaxis\":{\"anchor\":\"y\",\"domain\":[0.0,1.0],\"title\":{\"text\":\"variable\"}},\"yaxis\":{\"anchor\":\"x\",\"domain\":[0.0,1.0],\"title\":{\"text\":\"value\"}},\"legend\":{\"tracegroupgap\":0},\"margin\":{\"t\":60},\"boxmode\":\"group\"},                        {\"responsive\": true}                    ).then(function(){\n",
       "                            \n",
       "var gd = document.getElementById('9029d8fc-582f-4297-86df-bcdb324d7d72');\n",
       "var x = new MutationObserver(function (mutations, observer) {{\n",
       "        var display = window.getComputedStyle(gd).display;\n",
       "        if (!display || display === 'none') {{\n",
       "            console.log([gd, 'removed!']);\n",
       "            Plotly.purge(gd);\n",
       "            observer.disconnect();\n",
       "        }}\n",
       "}});\n",
       "\n",
       "// Listen for the removal of the full notebook cells\n",
       "var notebookContainer = gd.closest('#notebook-container');\n",
       "if (notebookContainer) {{\n",
       "    x.observe(notebookContainer, {childList: true});\n",
       "}}\n",
       "\n",
       "// Listen for the clearing of the current output cell\n",
       "var outputEl = gd.closest('.output');\n",
       "if (outputEl) {{\n",
       "    x.observe(outputEl, {childList: true});\n",
       "}}\n",
       "\n",
       "                        })                };                });            </script>        </div>"
      ]
     },
     "metadata": {},
     "output_type": "display_data"
    }
   ],
   "source": [
    "px.box(df['Salary'])"
   ]
  },
  {
   "cell_type": "markdown",
   "id": "ff09956e",
   "metadata": {},
   "source": [
    "### HeatMap for various cols"
   ]
  },
  {
   "cell_type": "code",
   "execution_count": 99,
   "id": "70b35f17",
   "metadata": {},
   "outputs": [
    {
     "data": {
      "text/plain": [
       "<Axes: >"
      ]
     },
     "execution_count": 99,
     "metadata": {},
     "output_type": "execute_result"
    },
    {
     "data": {
      "image/png": "[encoded data removed]",
      "text/plain": [
       "<Figure size 640x480 with 2 Axes>"
      ]
     },
     "metadata": {},
     "output_type": "display_data"
    }
   ],
   "source": [
    "numerical_cols=df.select_dtypes(include=['int','float'])\n",
    "cor=numerical_cols.corr()\n",
    "sns.heatmap(cor,annot=True)"
   ]
  },
  {
   "cell_type": "markdown",
   "id": "6a9d47e9",
   "metadata": {},
   "source": [
    "#### so the above heatmap shows that salary is highly correlated with experience and education_level"
   ]
  },
  {
   "cell_type": "code",
   "execution_count": 100,
   "id": "be160121",
   "metadata": {},
   "outputs": [],
   "source": [
    "new_df=df.copy()"
   ]
  },
  {
   "cell_type": "code",
   "execution_count": 102,
   "id": "637c9328",
   "metadata": {},
   "outputs": [],
   "source": [
    "new_df.to_csv('Data.csv')"
   ]
  },
  {
   "cell_type": "code",
   "execution_count": 103,
   "id": "1d270110",
   "metadata": {},
   "outputs": [
    {
     "data": {
      "text/html": [
       "<div>\n",
       "<style scoped>\n",
       "    .dataframe tbody tr th:only-of-type {\n",
       "        vertical-align: middle;\n",
       "    }\n",
       "\n",
       "    .dataframe tbody tr th {\n",
       "        vertical-align: top;\n",
       "    }\n",
       "\n",
       "    .dataframe thead th {\n",
       "        text-align: right;\n",
       "    }\n",
       "</style>\n",
       "<table border=\"1\" class=\"dataframe\">\n",
       "  <thead>\n",
       "    <tr style=\"text-align: right;\">\n",
       "      <th></th>\n",
       "      <th>Age</th>\n",
       "      <th>Gender</th>\n",
       "      <th>Education_Level</th>\n",
       "      <th>Job_Title</th>\n",
       "      <th>Experience</th>\n",
       "      <th>Salary</th>\n",
       "    </tr>\n",
       "  </thead>\n",
       "  <tbody>\n",
       "    <tr>\n",
       "      <th>5008</th>\n",
       "      <td>33.00</td>\n",
       "      <td>0.00</td>\n",
       "      <td>1</td>\n",
       "      <td>Marketing Manager</td>\n",
       "      <td>9.00</td>\n",
       "      <td>140000.00</td>\n",
       "    </tr>\n",
       "    <tr>\n",
       "      <th>4570</th>\n",
       "      <td>29.00</td>\n",
       "      <td>0.00</td>\n",
       "      <td>3</td>\n",
       "      <td>Web Developer</td>\n",
       "      <td>3.00</td>\n",
       "      <td>60000.00</td>\n",
       "    </tr>\n",
       "    <tr>\n",
       "      <th>2643</th>\n",
       "      <td>33.00</td>\n",
       "      <td>1.00</td>\n",
       "      <td>3</td>\n",
       "      <td>Senior Project Engineer</td>\n",
       "      <td>10.00</td>\n",
       "      <td>117314.00</td>\n",
       "    </tr>\n",
       "    <tr>\n",
       "      <th>4025</th>\n",
       "      <td>24.00</td>\n",
       "      <td>1.00</td>\n",
       "      <td>0</td>\n",
       "      <td>Junior Sales Associate</td>\n",
       "      <td>1.00</td>\n",
       "      <td>25000.00</td>\n",
       "    </tr>\n",
       "    <tr>\n",
       "      <th>4644</th>\n",
       "      <td>35.00</td>\n",
       "      <td>1.00</td>\n",
       "      <td>4</td>\n",
       "      <td>Senior Research Scientist</td>\n",
       "      <td>10.00</td>\n",
       "      <td>130000.00</td>\n",
       "    </tr>\n",
       "    <tr>\n",
       "      <th>3122</th>\n",
       "      <td>31.00</td>\n",
       "      <td>0.00</td>\n",
       "      <td>3</td>\n",
       "      <td>Full Stack Engineer</td>\n",
       "      <td>7.00</td>\n",
       "      <td>108799.00</td>\n",
       "    </tr>\n",
       "    <tr>\n",
       "      <th>3909</th>\n",
       "      <td>28.00</td>\n",
       "      <td>1.00</td>\n",
       "      <td>1</td>\n",
       "      <td>Software Developer</td>\n",
       "      <td>3.00</td>\n",
       "      <td>60000.00</td>\n",
       "    </tr>\n",
       "    <tr>\n",
       "      <th>4155</th>\n",
       "      <td>43.00</td>\n",
       "      <td>0.00</td>\n",
       "      <td>3</td>\n",
       "      <td>Human Resources Manager</td>\n",
       "      <td>14.00</td>\n",
       "      <td>146000.00</td>\n",
       "    </tr>\n",
       "    <tr>\n",
       "      <th>77</th>\n",
       "      <td>50.00</td>\n",
       "      <td>0.00</td>\n",
       "      <td>1</td>\n",
       "      <td>Operations Manager</td>\n",
       "      <td>22.00</td>\n",
       "      <td>160000.00</td>\n",
       "    </tr>\n",
       "    <tr>\n",
       "      <th>1297</th>\n",
       "      <td>42.00</td>\n",
       "      <td>1.00</td>\n",
       "      <td>4</td>\n",
       "      <td>Senior Project Engineer</td>\n",
       "      <td>14.00</td>\n",
       "      <td>175000.00</td>\n",
       "    </tr>\n",
       "    <tr>\n",
       "      <th>159</th>\n",
       "      <td>51.00</td>\n",
       "      <td>0.00</td>\n",
       "      <td>4</td>\n",
       "      <td>Director of Human Resources</td>\n",
       "      <td>23.00</td>\n",
       "      <td>185000.00</td>\n",
       "    </tr>\n",
       "    <tr>\n",
       "      <th>2398</th>\n",
       "      <td>50.00</td>\n",
       "      <td>1.00</td>\n",
       "      <td>1</td>\n",
       "      <td>Back end Developer</td>\n",
       "      <td>23.00</td>\n",
       "      <td>175966.00</td>\n",
       "    </tr>\n",
       "    <tr>\n",
       "      <th>3433</th>\n",
       "      <td>26.00</td>\n",
       "      <td>0.00</td>\n",
       "      <td>1</td>\n",
       "      <td>Web Developer</td>\n",
       "      <td>3.00</td>\n",
       "      <td>55000.00</td>\n",
       "    </tr>\n",
       "    <tr>\n",
       "      <th>6028</th>\n",
       "      <td>40.00</td>\n",
       "      <td>0.00</td>\n",
       "      <td>1</td>\n",
       "      <td>Financial Manager</td>\n",
       "      <td>15.00</td>\n",
       "      <td>210000.00</td>\n",
       "    </tr>\n",
       "    <tr>\n",
       "      <th>2856</th>\n",
       "      <td>26.00</td>\n",
       "      <td>0.00</td>\n",
       "      <td>3</td>\n",
       "      <td>Front end Developer</td>\n",
       "      <td>2.00</td>\n",
       "      <td>65840.00</td>\n",
       "    </tr>\n",
       "    <tr>\n",
       "      <th>4029</th>\n",
       "      <td>26.00</td>\n",
       "      <td>0.00</td>\n",
       "      <td>1</td>\n",
       "      <td>Junior Software Developer</td>\n",
       "      <td>2.00</td>\n",
       "      <td>35000.00</td>\n",
       "    </tr>\n",
       "    <tr>\n",
       "      <th>4146</th>\n",
       "      <td>45.00</td>\n",
       "      <td>1.00</td>\n",
       "      <td>1</td>\n",
       "      <td>Operations Manager</td>\n",
       "      <td>19.00</td>\n",
       "      <td>174000.00</td>\n",
       "    </tr>\n",
       "    <tr>\n",
       "      <th>9</th>\n",
       "      <td>38.00</td>\n",
       "      <td>1.00</td>\n",
       "      <td>4</td>\n",
       "      <td>Senior Scientist</td>\n",
       "      <td>10.00</td>\n",
       "      <td>110000.00</td>\n",
       "    </tr>\n",
       "    <tr>\n",
       "      <th>684</th>\n",
       "      <td>33.00</td>\n",
       "      <td>0.00</td>\n",
       "      <td>3</td>\n",
       "      <td>Product Manager</td>\n",
       "      <td>10.00</td>\n",
       "      <td>195000.00</td>\n",
       "    </tr>\n",
       "    <tr>\n",
       "      <th>3788</th>\n",
       "      <td>41.00</td>\n",
       "      <td>1.00</td>\n",
       "      <td>4</td>\n",
       "      <td>Data Scientist</td>\n",
       "      <td>13.00</td>\n",
       "      <td>140000.00</td>\n",
       "    </tr>\n",
       "  </tbody>\n",
       "</table>\n",
       "</div>"
      ],
      "text/plain": [
       "       Age  Gender  Education_Level                    Job_Title  Experience  \\\n",
       "5008 33.00    0.00                1            Marketing Manager        9.00   \n",
       "4570 29.00    0.00                3                Web Developer        3.00   \n",
       "2643 33.00    1.00                3      Senior Project Engineer       10.00   \n",
       "4025 24.00    1.00                0       Junior Sales Associate        1.00   \n",
       "4644 35.00    1.00                4    Senior Research Scientist       10.00   \n",
       "3122 31.00    0.00                3          Full Stack Engineer        7.00   \n",
       "3909 28.00    1.00                1           Software Developer        3.00   \n",
       "4155 43.00    0.00                3      Human Resources Manager       14.00   \n",
       "77   50.00    0.00                1           Operations Manager       22.00   \n",
       "1297 42.00    1.00                4      Senior Project Engineer       14.00   \n",
       "159  51.00    0.00                4  Director of Human Resources       23.00   \n",
       "2398 50.00    1.00                1           Back end Developer       23.00   \n",
       "3433 26.00    0.00                1                Web Developer        3.00   \n",
       "6028 40.00    0.00                1            Financial Manager       15.00   \n",
       "2856 26.00    0.00                3          Front end Developer        2.00   \n",
       "4029 26.00    0.00                1    Junior Software Developer        2.00   \n",
       "4146 45.00    1.00                1           Operations Manager       19.00   \n",
       "9    38.00    1.00                4             Senior Scientist       10.00   \n",
       "684  33.00    0.00                3              Product Manager       10.00   \n",
       "3788 41.00    1.00                4               Data Scientist       13.00   \n",
       "\n",
       "        Salary  \n",
       "5008 140000.00  \n",
       "4570  60000.00  \n",
       "2643 117314.00  \n",
       "4025  25000.00  \n",
       "4644 130000.00  \n",
       "3122 108799.00  \n",
       "3909  60000.00  \n",
       "4155 146000.00  \n",
       "77   160000.00  \n",
       "1297 175000.00  \n",
       "159  185000.00  \n",
       "2398 175966.00  \n",
       "3433  55000.00  \n",
       "6028 210000.00  \n",
       "2856  65840.00  \n",
       "4029  35000.00  \n",
       "4146 174000.00  \n",
       "9    110000.00  \n",
       "684  195000.00  \n",
       "3788 140000.00  "
      ]
     },
     "execution_count": 103,
     "metadata": {},
     "output_type": "execute_result"
    }
   ],
   "source": [
    "df.sample(20)"
   ]
  }
 ],
 "metadata": {
  "kernelspec": {
   "display_name": "Python 3 (ipykernel)",
   "language": "python",
   "name": "python3"
  },
  "language_info": {
   "codemirror_mode": {
    "name": "ipython",
    "version": 3
   },
   "file_extension": ".py",
   "mimetype": "text/x-python",
   "name": "python",
   "nbconvert_exporter": "python",
   "pygments_lexer": "ipython3",
   "version": "3.10.7"
  }
 },
 "nbformat": 4,
 "nbformat_minor": 5
}
